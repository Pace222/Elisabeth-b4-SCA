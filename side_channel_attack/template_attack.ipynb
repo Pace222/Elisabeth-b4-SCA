{
 "cells": [
  {
   "cell_type": "code",
   "execution_count": 1,
   "metadata": {},
   "outputs": [],
   "source": [
    "from scipy.stats import multivariate_normal\n",
    "from sklearn.model_selection import train_test_split, ShuffleSplit\n",
    "from sklearn.ensemble import RandomForestClassifier"
   ]
  },
  {
   "cell_type": "code",
   "execution_count": 2,
   "metadata": {},
   "outputs": [],
   "source": [
    "from cpa_utils import *"
   ]
  },
  {
   "cell_type": "code",
   "execution_count": 3,
   "metadata": {},
   "outputs": [],
   "source": [
    "traces_path = \"..\\\\acquisition\\\\carto_eB4-Rnd-3-WhiteningAndFullFilter-1_key_256000_samples_full_filter\\\\carto_eB4-Rnd-3-WhiteningAndFullFilter-Alternating-Same-And-Varying-Seeds.mat\"\n",
    "key_path = \"..\\\\acquisition\\\\carto_eB4-Rnd-3-WhiteningAndFullFilter-1_key_256000_samples_full_filter\\\\carto_eB4-Rnd-3-WhiteningAndFullFilter-Alternating-Same-And-Varying-Seeds.log\""
   ]
  },
  {
   "cell_type": "code",
   "execution_count": 4,
   "metadata": {},
   "outputs": [],
   "source": [
    "seeds_total, traces_total, real_keys = load_data(traces_path, key_path)"
   ]
  },
  {
   "cell_type": "code",
   "execution_count": 5,
   "metadata": {},
   "outputs": [],
   "source": [
    "EARLIEST_ROUND = 0"
   ]
  },
  {
   "cell_type": "code",
   "execution_count": 6,
   "metadata": {},
   "outputs": [],
   "source": [
    "KEY_ALPHABET = list(range(16))"
   ]
  },
  {
   "cell_type": "code",
   "execution_count": 8,
   "metadata": {},
   "outputs": [],
   "source": [
    "#traces_train, traces_test, seeds_train, seeds_test = (a[np.newaxis, :] for a in train_test_split(traces_varying[0], seeds_varying[0], test_size=5000, random_state=0))"
   ]
  },
  {
   "cell_type": "code",
   "execution_count": 6,
   "metadata": {},
   "outputs": [],
   "source": [
    "#traces_train, traces_test = traces_train[:, :, 11:], traces_test[:, :, 11:]\n",
    "#traces_train.shape, traces_test.shape"
   ]
  },
  {
   "cell_type": "markdown",
   "metadata": {},
   "source": [
    "## Profiling stage"
   ]
  },
  {
   "cell_type": "markdown",
   "metadata": {},
   "source": [
    "### Choosing one point per clock cycle"
   ]
  },
  {
   "cell_type": "markdown",
   "metadata": {},
   "source": [
    "Arduino Due: 84 MHz\n",
    "Sampling rate: 2.5 GHz"
   ]
  },
  {
   "cell_type": "code",
   "execution_count": 6,
   "metadata": {},
   "outputs": [
    {
     "data": {
      "text/plain": [
       "29"
      ]
     },
     "execution_count": 6,
     "metadata": {},
     "output_type": "execute_result"
    }
   ],
   "source": [
    "SAMPLES_PER_CYCLE = int(2500 / 84)\n",
    "SAMPLES_PER_CYCLE"
   ]
  },
  {
   "cell_type": "markdown",
   "metadata": {},
   "source": [
    "29 points per cycle"
   ]
  },
  {
   "cell_type": "markdown",
   "metadata": {},
   "source": [
    "#### SOST"
   ]
  },
  {
   "cell_type": "code",
   "execution_count": 9,
   "metadata": {},
   "outputs": [],
   "source": [
    "def signal_strength_and_template_means_per_index(seeds: np.ndarray, key: List[int], traces: np.ndarray):\n",
    "    assert seeds.shape[0] == traces.shape[0]\n",
    "    f = np.zeros((KEYROUND_WIDTH_B4 // BLOCK_WIDTH_B4, BLOCK_WIDTH_B4, int(SAMPLES_PER_CYCLE * np.ceil(traces.shape[1] / SAMPLES_PER_CYCLE))), dtype=np.float32)\n",
    "    all_m = np.zeros((KEYROUND_WIDTH_B4 // BLOCK_WIDTH_B4, BLOCK_WIDTH_B4, len(KEY_ALPHABET), traces.shape[1]), dtype=np.float32)\n",
    "    g = np.zeros((KEYROUND_WIDTH_B4 // BLOCK_WIDTH_B4, BLOCK_WIDTH_B4, len(KEY_ALPHABET), traces.shape[0]), dtype=bool)\n",
    "\n",
    "    for round_idx in range(12, KEYROUND_WIDTH_B4 // BLOCK_WIDTH_B4):\n",
    "        for block_idx in range(BLOCK_WIDTH_B4):\n",
    "            card_g = np.zeros((len(KEY_ALPHABET), 1), dtype=np.int32)\n",
    "            m = all_m[round_idx][block_idx]\n",
    "            v = np.zeros((len(KEY_ALPHABET), traces.shape[1]), dtype=np.float64)\n",
    "\n",
    "            for seed, (i, trace) in zip(seeds, enumerate(traces)):\n",
    "                indices, whitening = chacha_random_b4(seed)\n",
    "                keyround_index = round_idx * BLOCK_WIDTH_B4 + block_idx\n",
    "                real_k = (key[indices[keyround_index]] + whitening[keyround_index]) % 16\n",
    "                g[round_idx][block_idx][real_k][i] = True\n",
    "                card_g[real_k][0] += 1\n",
    "                m[real_k] += trace\n",
    "                v[real_k] += np.square(trace.astype(np.float64))\n",
    "\n",
    "            m /= card_g\n",
    "            v = (v - card_g * m * m) / (card_g - 1)\n",
    "\n",
    "            for i in range(len(KEY_ALPHABET)):\n",
    "                for j in range(i + 1, len(KEY_ALPHABET)):\n",
    "                    num = m[i] - m[j]\n",
    "                    den = np.sqrt(v[i] / card_g[i] + v[j] / card_g[j])\n",
    "                    f[round_idx][block_idx][:traces.shape[1]] += np.square(num / den)\n",
    "    \n",
    "    return f, all_m, g"
   ]
  },
  {
   "cell_type": "markdown",
   "metadata": {},
   "source": [
    "#### Correlation"
   ]
  },
  {
   "cell_type": "code",
   "execution_count": 10,
   "metadata": {},
   "outputs": [],
   "source": [
    "def correlation_signal_strength_and_template_means_per_index(seeds: np.ndarray, key: List[int], traces: np.ndarray):\n",
    "    assert seeds.shape[0] == traces.shape[0]\n",
    "    f = np.zeros((KEYROUND_WIDTH_B4 // BLOCK_WIDTH_B4, BLOCK_WIDTH_B4, int(SAMPLES_PER_CYCLE * np.ceil(traces.shape[1] / SAMPLES_PER_CYCLE))), dtype=np.float32)\n",
    "    all_m = np.zeros((KEYROUND_WIDTH_B4 // BLOCK_WIDTH_B4, BLOCK_WIDTH_B4, len(KEY_ALPHABET), traces.shape[1]), dtype=np.float32)\n",
    "    g = np.zeros((KEYROUND_WIDTH_B4 // BLOCK_WIDTH_B4, BLOCK_WIDTH_B4,  len(KEY_ALPHABET), traces.shape[0]), dtype=bool)\n",
    "\n",
    "    for round_idx in range(12, KEYROUND_WIDTH_B4 // BLOCK_WIDTH_B4):\n",
    "        for block_idx in range(BLOCK_WIDTH_B4):\n",
    "            card_g = np.zeros((len(KEY_ALPHABET), 1), dtype=np.int32)\n",
    "            m = all_m[round_idx][block_idx]\n",
    "            hypotheses = np.zeros(traces.shape[0])\n",
    "\n",
    "            for seed, (i, trace) in zip(seeds, enumerate(traces)):\n",
    "                indices, whitening = chacha_random_b4(seed)\n",
    "                keyround_index = round_idx * BLOCK_WIDTH_B4 + block_idx\n",
    "                real_k = (key[indices[keyround_index]] + whitening[keyround_index]) % 16\n",
    "                g[round_idx][block_idx][real_k][i] = True\n",
    "                card_g[real_k][0] += 1\n",
    "                m[real_k] += trace\n",
    "                if block_idx % 2 == 0 and block_idx != 6:\n",
    "                    hypotheses[i] = HW[s_boxes_b4[block_idx][real_k]]\n",
    "                elif block_idx % 2 != 0:\n",
    "                    hypotheses[i] = HW[s_boxes_b4[block_idx][(real_k + key[indices[keyround_index - 1]] + whitening[keyround_index - 1]) % 16]]\n",
    "\n",
    "            m /= card_g\n",
    "\n",
    "            f[round_idx][block_idx][:traces.shape[1]] = corr_coef_vectorized(hypotheses, traces)\n",
    "    return f, all_m, g"
   ]
  },
  {
   "cell_type": "code",
   "execution_count": 11,
   "metadata": {},
   "outputs": [],
   "source": [
    "f, template_means, g = signal_strength_and_template_means_per_index(seeds_train[0], real_keys[0], traces_train[0])"
   ]
  },
  {
   "cell_type": "code",
   "execution_count": 82,
   "metadata": {},
   "outputs": [
    {
     "name": "stderr",
     "output_type": "stream",
     "text": [
      "c:\\Users\\Kudelski\\Documents\\Pierugo-PDM-2024\\side_channel_attack\\cpa_utils.py:58: RuntimeWarning: invalid value encountered in divide\n",
      "  r = r_num / r_den\n"
     ]
    }
   ],
   "source": [
    "f, template_means, g = correlation_signal_strength_and_template_means_per_index(seeds_train[0], real_keys[0], traces_train[0])"
   ]
  },
  {
   "cell_type": "code",
   "execution_count": 11,
   "metadata": {},
   "outputs": [
    {
     "data": {
      "text/plain": [
       "[<matplotlib.lines.Line2D at 0x27aa4522bd0>]"
      ]
     },
     "execution_count": 11,
     "metadata": {},
     "output_type": "execute_result"
    },
    {
     "data": {
      "image/png": "[encoded data removed]",
      "text/plain": [
       "<Figure size 640x480 with 1 Axes>"
      ]
     },
     "metadata": {},
     "output_type": "display_data"
    }
   ],
   "source": [
    "plt.plot(traces_train[0][1000])"
   ]
  },
  {
   "cell_type": "code",
   "execution_count": 167,
   "metadata": {},
   "outputs": [
    {
     "data": {
      "text/plain": [
       "array([24679., 28678., 24555., 28550., 24510., 31853., 28638., 24711.,\n",
       "       28351., 29070.])"
      ]
     },
     "execution_count": 167,
     "metadata": {},
     "output_type": "execute_result"
    }
   ],
   "source": [
    "interesting_points_per_index[13, 2]"
   ]
  },
  {
   "cell_type": "code",
   "execution_count": 155,
   "metadata": {},
   "outputs": [
    {
     "data": {
      "text/plain": [
       "(24600.0, 29000.0)"
      ]
     },
     "execution_count": 155,
     "metadata": {},
     "output_type": "execute_result"
    },
    {
     "data": {
      "image/png": "[encoded data removed]",
      "text/plain": [
       "<Figure size 640x480 with 1 Axes>"
      ]
     },
     "metadata": {},
     "output_type": "display_data"
    }
   ],
   "source": [
    "plt.plot(f[13, 2])\n",
    "plt.xlim([24600, 29000])"
   ]
  },
  {
   "cell_type": "code",
   "execution_count": 122,
   "metadata": {},
   "outputs": [
    {
     "data": {
      "text/plain": [
       "[<matplotlib.lines.Line2D at 0x280ac033830>]"
      ]
     },
     "execution_count": 122,
     "metadata": {},
     "output_type": "execute_result"
    },
    {
     "data": {
      "image/png": "[encoded data removed]",
      "text/plain": [
       "<Figure size 640x480 with 1 Axes>"
      ]
     },
     "metadata": {},
     "output_type": "display_data"
    }
   ],
   "source": [
    "plt.plot(template_means[13, 2, 1])"
   ]
  },
  {
   "cell_type": "code",
   "execution_count": 165,
   "metadata": {},
   "outputs": [],
   "source": [
    "#interesting_points_per_index = np.array([i + np.argmax(f[..., i:i+SAMPLES_PER_CYCLE], axis=-1) for i in range(0, f.shape[-1], SAMPLES_PER_CYCLE)]).transpose(1, 2, 0)\n",
    "#f_one_per_cycle = f[np.arange(f.shape[0])[:, np.newaxis, np.newaxis], np.arange(f.shape[1])[:, np.newaxis], interesting_points_per_index]\n",
    "#interesting_points_in_reduced = np.apply_along_axis(np.argpartition, axis=2, arr=f_one_per_cycle, kth=-5)[:, :, -5:]\n",
    "#interesting_points_per_index = np.sort(interesting_points_per_index[np.arange(f.shape[0])[:, np.newaxis, np.newaxis], np.arange(f.shape[1])[:, np.newaxis], interesting_points_in_reduced], axis=2)\n",
    "\n",
    "#interesting_points_per_index = np.apply_along_axis(np.argpartition, axis=2, arr=f[:, :, :traces_train.shape[2]], kth=-10)[:, :, -10:]\n",
    "#most_interesting_point = np.argmax(f[:, :, :traces_train.shape[2]], axis=2)\n",
    "#interesting_points_per_index = np.stack([most_interesting_point + s * SAMPLES_PER_CYCLE for s in range(-1, 2)], axis=2)\n"
   ]
  },
  {
   "cell_type": "code",
   "execution_count": 27,
   "metadata": {},
   "outputs": [],
   "source": [
    "interesting_points_per_index = np.zeros((f.shape[0], f.shape[1], 10), dtype=int)\n",
    "sorted_strengths = np.argsort(f[:, :, :traces_train.shape[2]], axis=2)[:, :, ::-1]\n",
    "\n",
    "for round_idx in range(sorted_strengths.shape[0]):\n",
    "    for block_idx in range(sorted_strengths.shape[1]):\n",
    "        largest_indices = []\n",
    "        for ind in sorted_strengths[round_idx, block_idx]:\n",
    "            if len(largest_indices) < interesting_points_per_index.shape[2]:\n",
    "                if all(abs(i - ind) >= SAMPLES_PER_CYCLE for i in largest_indices):\n",
    "                    largest_indices.append(ind)\n",
    "            else:\n",
    "                break\n",
    "        interesting_points_per_index[round_idx, block_idx] = np.array(largest_indices)\n"
   ]
  },
  {
   "cell_type": "code",
   "execution_count": 28,
   "metadata": {},
   "outputs": [
    {
     "data": {
      "text/plain": [
       "(14, 7, 124499, 10)"
      ]
     },
     "execution_count": 28,
     "metadata": {},
     "output_type": "execute_result"
    }
   ],
   "source": [
    "traces_reduced = traces_train[0][:, interesting_points_per_index].transpose(1, 2, 0, 3)\n",
    "traces_reduced.shape"
   ]
  },
  {
   "cell_type": "markdown",
   "metadata": {},
   "source": [
    "### Multivariate Gaussian parameters"
   ]
  },
  {
   "cell_type": "code",
   "execution_count": 29,
   "metadata": {},
   "outputs": [
    {
     "data": {
      "text/plain": [
       "(14, 7, 16, 10)"
      ]
     },
     "execution_count": 29,
     "metadata": {},
     "output_type": "execute_result"
    }
   ],
   "source": [
    "template_means_reduced = template_means[np.arange(template_means.shape[0])[:, np.newaxis, np.newaxis, np.newaxis], np.arange(template_means.shape[1])[:, np.newaxis, np.newaxis], np.arange(template_means.shape[2])[:, np.newaxis], np.repeat(interesting_points_per_index[:, :, np.newaxis, :], 16, axis=2)]\n",
    "template_means_reduced.shape"
   ]
  },
  {
   "cell_type": "code",
   "execution_count": 30,
   "metadata": {},
   "outputs": [
    {
     "data": {
      "text/plain": [
       "array([ 4931.5957, 10003.278 ,  9771.015 ,  6146.0586,  7164.736 ,\n",
       "       15635.32  ,  5921.5845,  6622.381 ,  9714.859 ,  4538.6064],\n",
       "      dtype=float32)"
      ]
     },
     "execution_count": 30,
     "metadata": {},
     "output_type": "execute_result"
    }
   ],
   "source": [
    "template_means_reduced[13, 2, 15]"
   ]
  },
  {
   "cell_type": "code",
   "execution_count": 31,
   "metadata": {},
   "outputs": [
    {
     "data": {
      "text/plain": [
       "array([ 4931.5957,  4682.3306,  9182.5   ,  8496.582 ,  8094.0737,\n",
       "       12106.637 , 11155.582 , 10003.278 ,  9041.981 ,  8145.944 ],\n",
       "      dtype=float32)"
      ]
     },
     "execution_count": 31,
     "metadata": {},
     "output_type": "execute_result"
    }
   ],
   "source": [
    "template_means[13, 2, 15, [24679, 24680, 24689, 24690, 24691, 28676, 28677, 28678, 28679, 28680]]"
   ]
  },
  {
   "cell_type": "code",
   "execution_count": 37,
   "metadata": {},
   "outputs": [
    {
     "name": "stderr",
     "output_type": "stream",
     "text": [
      "c:\\Users\\Kudelski\\Documents\\Pierugo-PDM-2024\\side_channel_attack\\.venv\\Lib\\site-packages\\numpy\\lib\\function_base.py:520: RuntimeWarning: Mean of empty slice.\n",
      "  avg = a.mean(axis, **keepdims_kw)\n",
      "c:\\Users\\Kudelski\\Documents\\Pierugo-PDM-2024\\side_channel_attack\\.venv\\Lib\\site-packages\\numpy\\core\\_methods.py:121: RuntimeWarning: invalid value encountered in divide\n",
      "  ret = um.true_divide(\n",
      "C:\\Users\\Kudelski\\AppData\\Local\\Temp\\ipykernel_4052\\2809304104.py:5: RuntimeWarning: Degrees of freedom <= 0 for slice\n",
      "  covariance_matrices[i, j, k] = np.nan_to_num(np.cov(traces_reduced[i, j, g[i, j, k]], rowvar=False), nan=0.0)\n",
      "c:\\Users\\Kudelski\\Documents\\Pierugo-PDM-2024\\side_channel_attack\\.venv\\Lib\\site-packages\\numpy\\lib\\function_base.py:2748: RuntimeWarning: divide by zero encountered in divide\n",
      "  c *= np.true_divide(1, fact)\n",
      "c:\\Users\\Kudelski\\Documents\\Pierugo-PDM-2024\\side_channel_attack\\.venv\\Lib\\site-packages\\numpy\\lib\\function_base.py:2748: RuntimeWarning: invalid value encountered in multiply\n",
      "  c *= np.true_divide(1, fact)\n"
     ]
    },
    {
     "data": {
      "text/plain": [
       "(14, 7, 16, 10, 10)"
      ]
     },
     "execution_count": 37,
     "metadata": {},
     "output_type": "execute_result"
    }
   ],
   "source": [
    "covariance_matrices = np.zeros(g.shape[:3] + (traces_reduced.shape[3],) * 2)\n",
    "for i in range(g.shape[0]):\n",
    "    for j in range(g.shape[1]):\n",
    "        for k in range(g.shape[2]):\n",
    "            covariance_matrices[i, j, k] = np.nan_to_num(np.cov(traces_reduced[i, j, g[i, j, k]], rowvar=False), nan=0.0)\n",
    "covariance_matrices.shape"
   ]
  },
  {
   "cell_type": "code",
   "execution_count": 38,
   "metadata": {},
   "outputs": [
    {
     "data": {
      "text/plain": [
       "(14, 7, 16)"
      ]
     },
     "execution_count": 38,
     "metadata": {},
     "output_type": "execute_result"
    }
   ],
   "source": [
    "pdfs = np.array([[[multivariate_normal(template_means_reduced[round_idx, block_idx, key], covariance_matrices[round_idx, block_idx, key], allow_singular=True) for key in range(covariance_matrices.shape[2])] for block_idx in range(covariance_matrices.shape[1])] for round_idx in range(covariance_matrices.shape[0])])\n",
    "pdfs.shape"
   ]
  },
  {
   "cell_type": "markdown",
   "metadata": {},
   "source": [
    "## Extraction stage"
   ]
  },
  {
   "cell_type": "code",
   "execution_count": 39,
   "metadata": {},
   "outputs": [
    {
     "data": {
      "text/plain": [
       "(14, 7, 500, 10)"
      ]
     },
     "execution_count": 39,
     "metadata": {},
     "output_type": "execute_result"
    }
   ],
   "source": [
    "traces_test_reduced = traces_test[0][:, interesting_points_per_index].transpose(1, 2, 0, 3)\n",
    "traces_test_reduced.shape"
   ]
  },
  {
   "cell_type": "code",
   "execution_count": 40,
   "metadata": {},
   "outputs": [
    {
     "data": {
      "text/plain": [
       "(500, 14, 7, 16)"
      ]
     },
     "execution_count": 40,
     "metadata": {},
     "output_type": "execute_result"
    }
   ],
   "source": [
    "probas = np.array([[[[pdfs[round_idx, block_idx, key_guess].pdf(traces_test_reduced[round_idx, block_idx, trace]) for key_guess in range(pdfs.shape[2])] for block_idx in range(pdfs.shape[1])] for round_idx in range(pdfs.shape[0])] for trace in range(traces_test_reduced.shape[2])])\n",
    "probas.shape"
   ]
  },
  {
   "cell_type": "code",
   "execution_count": 41,
   "metadata": {},
   "outputs": [
    {
     "data": {
      "text/plain": [
       "False"
      ]
     },
     "execution_count": 41,
     "metadata": {},
     "output_type": "execute_result"
    }
   ],
   "source": [
    "np.all(probas == 0)"
   ]
  },
  {
   "cell_type": "code",
   "execution_count": 42,
   "metadata": {},
   "outputs": [],
   "source": [
    "probas_for_each_key_nibble = np.ones((KEY_WIDTH_B4, len(KEY_ALPHABET)), dtype=np.longdouble)\n",
    "for i, seed in enumerate(seeds_test[0]):\n",
    "    indices, whitening = chacha_random_b4(seed)\n",
    "    for keyround_index in range(KEYROUND_WIDTH_B4):\n",
    "        key_index = indices.index(keyround_index)\n",
    "        round_idx = keyround_index // BLOCK_WIDTH_B4\n",
    "        block_idx = keyround_index % BLOCK_WIDTH_B4\n",
    "        if round_idx >= 12 and block_idx != 6:\n",
    "            probas_for_each_key_nibble[key_index] *= probas[i, round_idx, block_idx, (np.arange(len(KEY_ALPHABET)) + whitening[keyround_index]) % 16]"
   ]
  },
  {
   "cell_type": "code",
   "execution_count": 43,
   "metadata": {},
   "outputs": [
    {
     "data": {
      "text/plain": [
       "False"
      ]
     },
     "execution_count": 43,
     "metadata": {},
     "output_type": "execute_result"
    }
   ],
   "source": [
    "np.all(probas_for_each_key_nibble == 0)"
   ]
  },
  {
   "cell_type": "code",
   "execution_count": 44,
   "metadata": {},
   "outputs": [],
   "source": [
    "found_nibbles = np.any((probas_for_each_key_nibble != 1) & (probas_for_each_key_nibble != 0), axis=1)"
   ]
  },
  {
   "cell_type": "code",
   "execution_count": 45,
   "metadata": {},
   "outputs": [
    {
     "name": "stdout",
     "output_type": "stream",
     "text": [
      "Results: 0.08203125\n"
     ]
    }
   ],
   "source": [
    "print(f\"Results: {np.count_nonzero(np.argmax(probas_for_each_key_nibble[found_nibbles], axis=1) == real_keys[0][found_nibbles]) / KEY_WIDTH_B4}\")"
   ]
  },
  {
   "cell_type": "code",
   "execution_count": 46,
   "metadata": {},
   "outputs": [
    {
     "name": "stdout",
     "output_type": "stream",
     "text": [
      "At random: 0.0625\n"
     ]
    }
   ],
   "source": [
    "print(f\"At random: {1 / 16}\")"
   ]
  },
  {
   "cell_type": "markdown",
   "metadata": {},
   "source": [
    "## Using Machine Learning"
   ]
  },
  {
   "cell_type": "markdown",
   "metadata": {},
   "source": [
    "### Training"
   ]
  },
  {
   "cell_type": "code",
   "execution_count": 7,
   "metadata": {},
   "outputs": [],
   "source": [
    "def ml_sost_signal_strength_and_template_means_per_index(seeds: np.ndarray, key: List[int], traces: np.ndarray):\n",
    "    assert seeds.shape[0] == traces.shape[0]\n",
    "    f = np.zeros((KEYROUND_WIDTH_B4 // BLOCK_WIDTH_B4, BLOCK_WIDTH_B4, traces.shape[1]), dtype=np.float64)\n",
    "    card_g = np.zeros((KEYROUND_WIDTH_B4 // BLOCK_WIDTH_B4, BLOCK_WIDTH_B4, len(KEY_ALPHABET), 1), dtype=np.int32)\n",
    "    m = np.zeros((KEYROUND_WIDTH_B4 // BLOCK_WIDTH_B4, BLOCK_WIDTH_B4, len(KEY_ALPHABET), traces.shape[1]), dtype=np.float64)\n",
    "    v = np.zeros((KEYROUND_WIDTH_B4 // BLOCK_WIDTH_B4, BLOCK_WIDTH_B4, len(KEY_ALPHABET), traces.shape[1]), dtype=np.float64)\n",
    "    y = np.zeros((KEYROUND_WIDTH_B4 // BLOCK_WIDTH_B4, BLOCK_WIDTH_B4, traces.shape[0]), dtype=int)\n",
    "\n",
    "    for seed, (i, trace) in zip(seeds, enumerate(traces)):\n",
    "        indices, whitening = chacha_random_b4(seed)\n",
    "\n",
    "        for round_idx in range(EARLIEST_ROUND, KEYROUND_WIDTH_B4 // BLOCK_WIDTH_B4):\n",
    "            for block_idx in range(BLOCK_WIDTH_B4):\n",
    "                keyround_index = round_idx * BLOCK_WIDTH_B4 + block_idx\n",
    "                real_k = (key[indices[keyround_index]] + whitening[keyround_index]) % 16\n",
    "                y[round_idx, block_idx, i] = real_k\n",
    "                card_g[round_idx, block_idx, real_k, 0] += 1\n",
    "                m[round_idx, block_idx, real_k] += trace\n",
    "                v[round_idx, block_idx, real_k] += np.square(trace.astype(np.float64))\n",
    "\n",
    "\n",
    "    m /= card_g\n",
    "    v = (v - card_g * m * m) / (card_g - 1)\n",
    "\n",
    "    for i in range(len(KEY_ALPHABET)):\n",
    "        for j in range(i + 1, len(KEY_ALPHABET)):\n",
    "            num = m[:, :, i] - m[:, :, j]\n",
    "            den = np.sqrt(v[:, :, i] / card_g[:, :, i] + v[:, :, j] / card_g[:, :, j])\n",
    "            f += np.square(num / den)\n",
    "    \n",
    "    return f, y"
   ]
  },
  {
   "cell_type": "code",
   "execution_count": 8,
   "metadata": {},
   "outputs": [],
   "source": [
    "def n_largest_values_separated_by_cycle(f: np.ndarray, n: int, cycle_length: int) -> np.ndarray:\n",
    "    interesting_points_per_index = np.zeros((f.shape[0], f.shape[1], n), dtype=int)\n",
    "    sorted_strengths = np.argsort(f, axis=2)[:, :, ::-1]\n",
    "\n",
    "    for round_idx in range(EARLIEST_ROUND, sorted_strengths.shape[0]):\n",
    "        for block_idx in range(sorted_strengths.shape[1]):\n",
    "            largest_indices = []\n",
    "            for ind in sorted_strengths[round_idx, block_idx]:\n",
    "                if len(largest_indices) < interesting_points_per_index.shape[2]:\n",
    "                    if all(abs(i - ind) >= cycle_length for i in largest_indices):\n",
    "                        largest_indices.append(ind)\n",
    "                else:\n",
    "                    break\n",
    "            interesting_points_per_index[round_idx, block_idx] = np.array(largest_indices)\n",
    "    \n",
    "    return interesting_points_per_index\n",
    "\n",
    "def n_largest_values(f: np.ndarray, n: int) -> np.ndarray:\n",
    "    interesting_points_per_index = np.apply_along_axis(np.argpartition, axis=2, arr=f, kth=-n)[:, :, -n:]\n",
    "    return interesting_points_per_index"
   ]
  },
  {
   "cell_type": "code",
   "execution_count": 9,
   "metadata": {},
   "outputs": [],
   "source": [
    "def train_random_forests(traces_reduced: np.ndarray, y: np.ndarray, **kwargs):\n",
    "    random_forests = np.empty(traces_reduced.shape[:2], dtype=object)\n",
    "    for round_idx in range(EARLIEST_ROUND, random_forests.shape[0]):\n",
    "        for block_idx in range(random_forests.shape[1]):\n",
    "            rfc = RandomForestClassifier(**kwargs)\n",
    "            rfc.fit(traces_reduced[round_idx, block_idx], y[round_idx, block_idx])\n",
    "            random_forests[round_idx, block_idx] = rfc\n",
    "\n",
    "    return random_forests"
   ]
  },
  {
   "cell_type": "markdown",
   "metadata": {},
   "source": [
    "### Evaluating"
   ]
  },
  {
   "cell_type": "code",
   "execution_count": 10,
   "metadata": {},
   "outputs": [],
   "source": [
    "def recover_key_count_best(classifications_log_proba: np.ndarray, target_seeds: np.ndarray):\n",
    "    classifications_best = np.argmax(classifications_log_proba, axis=-1)\n",
    "\n",
    "    classifications_per_key_nibble = np.zeros((KEY_WIDTH_B4, len(KEY_ALPHABET)), dtype=int)\n",
    "    for i, seed in enumerate(target_seeds):\n",
    "        indices, whitening = chacha_random_b4(seed)\n",
    "        for keyround_index in range(KEYROUND_WIDTH_B4):\n",
    "            key_index = indices[keyround_index]\n",
    "            round_idx = keyround_index // BLOCK_WIDTH_B4\n",
    "            block_idx = keyround_index % BLOCK_WIDTH_B4\n",
    "\n",
    "            if round_idx >= EARLIEST_ROUND:\n",
    "                classifications_per_key_nibble[key_index, (classifications_best[round_idx, block_idx][i] - whitening[keyround_index]) % 16] += 1\n",
    "    recovered_key = np.argmax(classifications_per_key_nibble, axis=1) # Majority voting\n",
    "    return recovered_key"
   ]
  },
  {
   "cell_type": "code",
   "execution_count": 11,
   "metadata": {},
   "outputs": [],
   "source": [
    "def recover_key_sum_probs_rank(classifications_log_proba: np.ndarray, target_seeds: np.ndarray):\n",
    "    classifications_ranks = np.apply_along_axis(lambda a: np.searchsorted(np.sort(-a), -a), axis=-1, arr=classifications_log_proba)\n",
    "\n",
    "    classifications_per_key_nibble = np.zeros((KEY_WIDTH_B4, len(KEY_ALPHABET)), dtype=int)\n",
    "    for i, seed in enumerate(target_seeds):\n",
    "        indices, whitening = chacha_random_b4(seed)\n",
    "        for keyround_index in range(KEYROUND_WIDTH_B4):\n",
    "            key_index = indices[keyround_index]\n",
    "            round_idx = keyround_index // BLOCK_WIDTH_B4\n",
    "            block_idx = keyround_index % BLOCK_WIDTH_B4\n",
    "\n",
    "            if round_idx >= EARLIEST_ROUND:\n",
    "                classifications_per_key_nibble[key_index] += np.roll(classifications_ranks[round_idx, block_idx, i], -whitening[keyround_index])\n",
    "    recovered_key = np.argmin(classifications_per_key_nibble, axis=1)\n",
    "    return recovered_key"
   ]
  },
  {
   "cell_type": "code",
   "execution_count": 12,
   "metadata": {},
   "outputs": [],
   "source": [
    "def recover_key_multiply_probs(classifications_log_proba: np.ndarray, target_seeds: np.ndarray):\n",
    "    classifications_per_key_nibble = np.zeros((KEY_WIDTH_B4, len(KEY_ALPHABET)), dtype=np.longdouble)\n",
    "    for i, seed in enumerate(target_seeds):\n",
    "        indices, whitening = chacha_random_b4(seed)\n",
    "        for keyround_index in range(KEYROUND_WIDTH_B4):\n",
    "            key_index = indices[keyround_index]\n",
    "            round_idx = keyround_index // BLOCK_WIDTH_B4\n",
    "            block_idx = keyround_index % BLOCK_WIDTH_B4\n",
    "\n",
    "            if round_idx >= EARLIEST_ROUND:\n",
    "                classifications_per_key_nibble[key_index] += np.roll(classifications_log_proba[round_idx, block_idx, i], -whitening[keyround_index])\n",
    "    recovered_key = np.argmax(classifications_per_key_nibble, axis=1)\n",
    "    return recovered_key"
   ]
  },
  {
   "cell_type": "markdown",
   "metadata": {},
   "source": [
    "### Parameter tuning"
   ]
  },
  {
   "cell_type": "code",
   "execution_count": 13,
   "metadata": {},
   "outputs": [],
   "source": [
    "n_folds = 5\n",
    "train_size = 100_000\n",
    "val_size_grid = [1_000, 2_000, 5_000]"
   ]
  },
  {
   "cell_type": "code",
   "execution_count": 15,
   "metadata": {},
   "outputs": [],
   "source": [
    "with open(\"trainval_test_split_f_y_sost.pic\", \"rb\") as r:\n",
    "    traces_trainval, traces_test, seeds_trainval, seeds_test, f_trainval, y_trainval = pic.load(r)\n"
   ]
  },
  {
   "cell_type": "code",
   "execution_count": 18,
   "metadata": {},
   "outputs": [],
   "source": [
    "traces_trainval, traces_test, seeds_trainval, seeds_test = train_test_split(traces_total[0], seeds_total[0], train_size=train_size + max(val_size_grid), random_state=0)\n",
    "f_trainval = np.zeros((len(val_size_grid), n_folds, KEYROUND_WIDTH_B4 // BLOCK_WIDTH_B4, BLOCK_WIDTH_B4, traces_trainval.shape[1]), dtype=np.float64)\n",
    "y_trainval = np.zeros((len(val_size_grid), n_folds, KEYROUND_WIDTH_B4 // BLOCK_WIDTH_B4, BLOCK_WIDTH_B4, train_size), dtype=np.int32)\n",
    "\n",
    "for m, val_size in enumerate(val_size_grid):\n",
    "    rs = ShuffleSplit(n_splits=n_folds, test_size=val_size, train_size=train_size, random_state=0)\n",
    "    for cv, (train_index, val_index) in enumerate(rs.split(traces_trainval)):\n",
    "        traces_train, seeds_train = traces_trainval[train_index], seeds_trainval[train_index]\n",
    "        f, y = ml_sost_signal_strength_and_template_means_per_index(seeds_train, real_keys[0], traces_train)\n",
    "        f_trainval[m, cv] = f\n",
    "        y_trainval[m, cv] = y"
   ]
  },
  {
   "cell_type": "code",
   "execution_count": 22,
   "metadata": {},
   "outputs": [],
   "source": [
    "with open(\"trainval_test_split_f_y.pic\", \"wb\") as w:\n",
    "    pic.dump((traces_trainval, traces_test, seeds_trainval, seeds_test, f_trainval, y_trainval), w)\n"
   ]
  },
  {
   "cell_type": "code",
   "execution_count": null,
   "metadata": {},
   "outputs": [],
   "source": [
    "rfc_n_estimators_grid = [100, 200]\n",
    "rfc_max_depth_grid = [None]\n",
    "rfc_min_samples_leaf_grid = [4, 5, 6]\n",
    "num_features_grid = [5, 20, 40, 100]\n",
    "\n",
    "grid_results = np.zeros((len(rfc_n_estimators_grid), len(rfc_max_depth_grid), len(rfc_min_samples_leaf_grid), len(num_features_grid), len(val_size_grid), n_folds), dtype=np.float64)\n",
    "best_params = {}\n",
    "best_accuracy = -1\n",
    "for i, n_estimators in enumerate(rfc_n_estimators_grid):\n",
    "    for j, max_depth in enumerate(rfc_max_depth_grid):\n",
    "        for k, min_samples_leaf in enumerate(rfc_min_samples_leaf_grid):\n",
    "            for l, num_features in enumerate(num_features_grid):\n",
    "                for m, val_size in enumerate(val_size_grid):\n",
    "                    rs = ShuffleSplit(n_splits=n_folds, test_size=val_size, train_size=train_size, random_state=0)\n",
    "                    for cv, (train_index, val_index) in enumerate(rs.split(traces_trainval)):\n",
    "                        print(f\"CV {cv}\", end=\"\\r\")\n",
    "                        traces_train, traces_val = traces_trainval[train_index], traces_trainval[val_index]\n",
    "                        seeds_train, seeds_val = seeds_trainval[train_index], seeds_trainval[val_index]\n",
    "                        f, y = f_trainval[m, cv], y_trainval[m, cv]\n",
    "\n",
    "                        interesting_points_per_index = n_largest_values(f, num_features)\n",
    "                        traces_reduced = traces_train[:, interesting_points_per_index].transpose(1, 2, 0, 3)\n",
    "                        traces_val_reduced = traces_val[:, interesting_points_per_index].transpose(1, 2, 0, 3)\n",
    "\n",
    "                        random_forests = train_random_forests(traces_reduced, y, n_estimators=n_estimators, max_depth=max_depth, min_samples_leaf=min_samples_leaf, n_jobs=-1, random_state=0)\n",
    "                        \n",
    "                        classifications_log_proba = np.array([[rfc.predict_log_proba(traces_val_reduced[round_idx, block_idx]) if round_idx >= EARLIEST_ROUND else [0] * len(KEY_ALPHABET) for block_idx, rfc in enumerate(rfs)] for round_idx, rfs in enumerate(random_forests)])\n",
    "                        recovered_key = recover_key_multiply_probs(classifications_log_proba, seeds_val)\n",
    "\n",
    "                        grid_results[i, j, k, l, m, cv] = np.count_nonzero(recovered_key == real_keys[0]) / KEY_WIDTH_B4\n",
    "                        \n",
    "                    print(f\"[N est: {n_estimators}, max depth: {max_depth}, min samples leaf: {min_samples_leaf}, num features: {num_features}, val size: {val_size}]: {np.mean(grid_results[i, j, k, l, m])} ± {np.std(grid_results[i, j, k, l, m])} ({grid_results[i, j, k, l, m]})\")\n",
    "                    if np.mean(grid_results[i, j, k, l, m]) > best_accuracy:\n",
    "                        print(\"New best model found ! (Above)\")\n",
    "                        best_accuracy = np.mean(grid_results[i, j, k, l, m])\n",
    "                        best_params[\"n_estimators\"] = n_estimators\n",
    "                        best_params[\"max_depth\"] = max_depth\n",
    "                        best_params[\"min_samples_leaf\"] = min_samples_leaf\n",
    "                        best_params[\"num_features\"] = num_features\n",
    "                        best_params[\"test_size\"] = val_size"
   ]
  },
  {
   "cell_type": "markdown",
   "metadata": {},
   "source": [
    "### Accuracy on unseen data"
   ]
  },
  {
   "cell_type": "markdown",
   "metadata": {},
   "source": [
    "Retraining on all available data"
   ]
  },
  {
   "cell_type": "code",
   "execution_count": 24,
   "metadata": {},
   "outputs": [],
   "source": [
    "best_params = {'n_estimators': 200, 'max_depth': None, 'min_samples_leaf': 6, 'num_features': 40, 'test_size': 1500}\n",
    "with open(\"f_y_entire_train.pic\", \"rb\") as r:\n",
    "    f, y = pic.load(r)\n",
    "interesting_points_per_index = n_largest_values(f, best_params[\"num_features\"])\n",
    "traces_reduced = traces_trainval[:, interesting_points_per_index].transpose(1, 2, 0, 3)\n",
    "traces_test_reduced = traces_test[:, interesting_points_per_index].transpose(1, 2, 0, 3)\n",
    "\n",
    "random_forests = train_random_forests(traces_reduced, y, n_estimators=best_params[\"n_estimators\"], max_depth=best_params[\"max_depth\"], min_samples_leaf=best_params[\"min_samples_leaf\"], n_jobs=-1, random_state=0)"
   ]
  },
  {
   "cell_type": "code",
   "execution_count": 76,
   "metadata": {},
   "outputs": [
    {
     "data": {
      "text/plain": [
       "{'n_estimators': 200,\n",
       " 'max_depth': None,\n",
       " 'min_samples_leaf': 6,\n",
       " 'num_features': 40,\n",
       " 'test_size': 1500}"
      ]
     },
     "execution_count": 76,
     "metadata": {},
     "output_type": "execute_result"
    }
   ],
   "source": [
    "best_params"
   ]
  },
  {
   "cell_type": "code",
   "execution_count": 66,
   "metadata": {},
   "outputs": [],
   "source": [
    "f, y = ml_sost_signal_strength_and_template_means_per_index(seeds_trainval, real_keys[0], traces_trainval)\n",
    "interesting_points_per_index = n_largest_values(f, best_params[\"num_features\"])\n",
    "traces_reduced = traces_trainval[:, interesting_points_per_index].transpose(1, 2, 0, 3)\n",
    "traces_test_reduced = traces_test[:, interesting_points_per_index].transpose(1, 2, 0, 3)\n",
    "\n",
    "random_forests = train_random_forests(traces_reduced, y, n_estimators=best_params[\"n_estimators\"], max_depth=best_params[\"max_depth\"], min_samples_leaf=best_params[\"min_samples_leaf\"], n_jobs=-1, random_state=0)"
   ]
  },
  {
   "cell_type": "code",
   "execution_count": 69,
   "metadata": {},
   "outputs": [],
   "source": [
    "with open(\"f_y_entire_train.pic\", \"wb\") as w:\n",
    "    pic.dump((f, y), w)\n"
   ]
  },
  {
   "cell_type": "code",
   "execution_count": null,
   "metadata": {},
   "outputs": [],
   "source": [
    "print(f\"Train parameters: { {k: v for k, v in best_params.items() if k != 'test_size'} }\")\n",
    "for test_size in [1_000, 1_500, 2_500, 5_000]:\n",
    "    print(f\"Test size {test_size}\")\n",
    "    sub_tests = np.zeros((traces_test_reduced.shape[2] // test_size, test_size), dtype=int)\n",
    "    available_indices = np.arange(traces_test_reduced.shape[2])\n",
    "\n",
    "    np.random.seed(test_size)\n",
    "    for i in range(sub_tests.shape[0]):\n",
    "        sub_tests[i] = np.random.choice(available_indices, test_size, replace=False)\n",
    "        available_indices = np.setdiff1d(available_indices, sub_tests[i])\n",
    "        \n",
    "    accuracies = np.zeros((sub_tests.shape[0], 3), np.float64)\n",
    "    for i, sub_test in enumerate(sub_tests):\n",
    "        sub_traces, sub_seeds = traces_test_reduced[:, :, sub_test], seeds_test[sub_test]\n",
    "        classifications_log_proba = np.array([[rfc.predict_log_proba(sub_traces[round_idx, block_idx]) if round_idx >= EARLIEST_ROUND else [0] * len(KEY_ALPHABET) for block_idx, rfc in enumerate(rfs)] for round_idx, rfs in enumerate(random_forests)])\n",
    "\n",
    "        accuracies[i, 0] = np.count_nonzero(recover_key_count_best(classifications_log_proba, sub_seeds) == real_keys[0]) / KEY_WIDTH_B4\n",
    "        accuracies[i, 1] = np.count_nonzero(recover_key_sum_probs_rank(classifications_log_proba, sub_seeds) == real_keys[0]) / KEY_WIDTH_B4\n",
    "        accuracies[i, 2] = np.count_nonzero(recover_key_multiply_probs(classifications_log_proba, sub_seeds) == real_keys[0]) / KEY_WIDTH_B4\n",
    "    \n",
    "        print(f\"{i}/{len(sub_tests)}: {accuracies[i, 0]} -> {accuracies[i, 1]} -> {accuracies[i, 2]}\")\n",
    "    mean_acc = np.mean(accuracies, axis=0)\n",
    "    std_acc  = np.std(accuracies, axis=0)\n",
    "\n",
    "    print(f\"Test size [{test_size}]. Expected accuracy on unseen data: {mean_acc[0]} ± {std_acc[0]} -> {mean_acc[1]} ± {std_acc[1]} -> {mean_acc[2]} ± {std_acc[2]}\")"
   ]
  },
  {
   "cell_type": "code",
   "execution_count": 17,
   "metadata": {},
   "outputs": [
    {
     "ename": "ValueError",
     "evalue": "operands could not be broadcast together with shapes (4,512) (12,512) ",
     "output_type": "error",
     "traceback": [
      "\u001b[1;31m---------------------------------------------------------------------------\u001b[0m",
      "\u001b[1;31mValueError\u001b[0m                                Traceback (most recent call last)",
      "Cell \u001b[1;32mIn[17], line 9\u001b[0m\n\u001b[0;32m      6\u001b[0m seeds_test_1, traces_test_1, real_keys_1 \u001b[38;5;241m=\u001b[39m load_data(traces_test_path_1, key_test_path_1)\n\u001b[0;32m      7\u001b[0m seeds_test_2, traces_test_2, real_keys_2 \u001b[38;5;241m=\u001b[39m load_data(traces_test_path_2, key_test_path_2)\n\u001b[1;32m----> 9\u001b[0m seeds_test_multiple_keys, traces_test_multiple_keys, real_keys_multiple_keys \u001b[38;5;241m=\u001b[39m seeds_test_1 \u001b[38;5;241m+\u001b[39m seeds_test_2, traces_test_1 \u001b[38;5;241m+\u001b[39m traces_test_2, \u001b[43mreal_keys_1\u001b[49m\u001b[43m \u001b[49m\u001b[38;5;241;43m+\u001b[39;49m\u001b[43m \u001b[49m\u001b[43mreal_keys_2\u001b[49m\n\u001b[0;32m     10\u001b[0m \u001b[38;5;28;01mdel\u001b[39;00m seeds_test_1, seeds_test_2, traces_test_1, traces_test_2, real_keys_1, real_keys_2\n",
      "\u001b[1;31mValueError\u001b[0m: operands could not be broadcast together with shapes (4,512) (12,512) "
     ]
    }
   ],
   "source": [
    "traces_test_path_1 = \"..\\\\acquisition\\\\carto_eB4-Rnd-3-WhiteningAndFullFilter-4_test_keys\\\\carto_eB4-Rnd-3-WhiteningAndFullFilter-Alternating-Same-And-Varying-Seeds.mat\"\n",
    "key_test_path_1 = \"..\\\\acquisition\\\\carto_eB4-Rnd-3-WhiteningAndFullFilter-4_test_keys\\\\carto_eB4-Rnd-3-WhiteningAndFullFilter-Alternating-Same-And-Varying-Seeds.log\"\n",
    "traces_test_path_2 = \"..\\\\acquisition\\\\carto_eB4-Rnd-3-WhiteningAndFullFilter-12_test_keys\\\\carto_eB4-Rnd-3-WhiteningAndFullFilter.mat\"\n",
    "key_test_path_2 = \"..\\\\acquisition\\\\carto_eB4-Rnd-3-WhiteningAndFullFilter-12_test_keys\\\\carto_eB4-Rnd-3-WhiteningAndFullFilter.log\"\n",
    "\n",
    "seeds_test_1, traces_test_1, real_keys_1 = load_data(traces_test_path_1, key_test_path_1)\n",
    "seeds_test_2, traces_test_2, real_keys_2 = load_data(traces_test_path_2, key_test_path_2)\n",
    "\n",
    "seeds_test_multiple_keys, traces_test_multiple_keys, real_keys_multiple_keys = seeds_test_1 + seeds_test_2, traces_test_1 + traces_test_2, real_keys_1 + real_keys_2\n",
    "del seeds_test_1, seeds_test_2, traces_test_1, traces_test_2, real_keys_1, real_keys_2"
   ]
  },
  {
   "cell_type": "code",
   "execution_count": 25,
   "metadata": {},
   "outputs": [],
   "source": [
    "traces_test_reduced_multiple_keys = [traces_test[:, interesting_points_per_index].transpose(1, 2, 0, 3) for traces_test in traces_test_multiple_keys]"
   ]
  },
  {
   "cell_type": "code",
   "execution_count": null,
   "metadata": {},
   "outputs": [],
   "source": [
    "print(f\"Train parameters: { {k: v for k, v in best_params.items() if k != 'test_size'} }\")\n",
    "for k, (seeds_test, traces_test_reduced, real_keys) in enumerate(zip(seeds_test_multiple_keys, traces_test_reduced_multiple_keys, real_keys_multiple_keys)):\n",
    "    print(f\"Key {k}\")\n",
    "    for test_size in [1_000, 1_500, 2_500]:\n",
    "        print(f\"Test size {test_size}\")\n",
    "        sub_tests = np.zeros((traces_test_reduced.shape[2] // test_size, test_size), dtype=int)\n",
    "        available_indices = np.arange(traces_test_reduced.shape[2])\n",
    "\n",
    "        np.random.seed(test_size)\n",
    "        for i in range(sub_tests.shape[0]):\n",
    "            sub_tests[i] = np.random.choice(available_indices, test_size, replace=False)\n",
    "            available_indices = np.setdiff1d(available_indices, sub_tests[i])\n",
    "            \n",
    "        accuracies = np.zeros((sub_tests.shape[0], 3), np.float64)\n",
    "        for i, sub_test in enumerate(sub_tests):\n",
    "            sub_traces, sub_seeds = traces_test_reduced[:, :, sub_test], seeds_test[sub_test]\n",
    "            classifications_log_proba = np.array([[rfc.predict_log_proba(sub_traces[round_idx, block_idx]) if round_idx >= EARLIEST_ROUND else [0] * len(KEY_ALPHABET) for block_idx, rfc in enumerate(rfs)] for round_idx, rfs in enumerate(random_forests)])\n",
    "\n",
    "            accuracies[i, 0] = np.count_nonzero(recover_key_count_best(classifications_log_proba, sub_seeds) == real_keys) / KEY_WIDTH_B4\n",
    "            accuracies[i, 1] = np.count_nonzero(recover_key_sum_probs_rank(classifications_log_proba, sub_seeds) == real_keys) / KEY_WIDTH_B4\n",
    "            accuracies[i, 2] = np.count_nonzero(recover_key_multiply_probs(classifications_log_proba, sub_seeds) == real_keys) / KEY_WIDTH_B4\n",
    "        \n",
    "            print(f\"{i}/{len(sub_tests)}: {accuracies[i, 0]} -> {accuracies[i, 1]} -> {accuracies[i, 2]}\")\n",
    "        mean_acc = np.mean(accuracies, axis=0)\n",
    "        std_acc  = np.std(accuracies, axis=0)\n",
    "\n",
    "        print(f\"Test size [{test_size}]. Expected accuracy on unseen data: {mean_acc[0]} ± {std_acc[0]} -> {mean_acc[1]} ± {std_acc[1]} -> {mean_acc[2]} ± {std_acc[2]}\")"
   ]
  },
  {
   "cell_type": "markdown",
   "metadata": {},
   "source": [
    "#### Errors analysis"
   ]
  },
  {
   "cell_type": "code",
   "execution_count": 44,
   "metadata": {},
   "outputs": [
    {
     "data": {
      "image/png": "[encoded data removed]",
      "text/plain": [
       "<Figure size 640x480 with 1 Axes>"
      ]
     },
     "metadata": {},
     "output_type": "display_data"
    }
   ],
   "source": [
    "errors = []\n",
    "corrects = []\n",
    "for round_idx, rfs in enumerate(random_forests):\n",
    "    for block_idx, rfc in enumerate(rfs):\n",
    "        keyround_index = round_idx * BLOCK_WIDTH_B4 + block_idx\n",
    "        classifications_log_proba = rfc.predict(traces_test_reduced[round_idx, block_idx])\n",
    "        for i, seed in enumerate(seeds_test):\n",
    "            indices, whitening = chacha_random_b4(seed)\n",
    "            key_index = indices[keyround_index]\n",
    "            if (classifications_log_proba[i] - whitening[keyround_index]) % 16 != real_keys[0][key_index]:\n",
    "                errors.append((round_idx, block_idx))\n",
    "            else:\n",
    "                corrects.append((round_idx, block_idx))\n",
    "plt.hist([10 * r + b for r, b in errors], bins=100, label=\"Wrong\")\n",
    "plt.hist([10 * r + b for r, b in corrects], bins=100, label=\"Correct\")\n",
    "plt.legend()\n",
    "plt.show()"
   ]
  }
 ],
 "metadata": {
  "kernelspec": {
   "display_name": ".venv",
   "language": "python",
   "name": "python3"
  },
  "language_info": {
   "codemirror_mode": {
    "name": "ipython",
    "version": 3
   },
   "file_extension": ".py",
   "mimetype": "text/x-python",
   "name": "python",
   "nbconvert_exporter": "python",
   "pygments_lexer": "ipython3",
   "version": "3.12.2"
  }
 },
 "nbformat": 4,
 "nbformat_minor": 2
}
