{
 "cells": [
  {
   "cell_type": "code",
   "execution_count": 1,
   "metadata": {},
   "outputs": [],
   "source": [
    "from scipy.stats import multivariate_normal"
   ]
  },
  {
   "cell_type": "code",
   "execution_count": 2,
   "metadata": {},
   "outputs": [],
   "source": [
    "from cpa_utils import *"
   ]
  },
  {
   "cell_type": "code",
   "execution_count": 3,
   "metadata": {},
   "outputs": [],
   "source": [
    "traces_path = \"..\\\\acquisition\\\\carto_eB4-Rnd-3-WhiteningAndFullFilter-100000_samples_alternating_same_and_varying\\\\carto_eB4-Rnd-3-WhiteningAndFullFilter-Alternating-Same-And-Varying-Seeds.mat\"\n",
    "key_path = \"..\\\\acquisition\\\\carto_eB4-Rnd-3-WhiteningAndFullFilter-100000_samples_alternating_same_and_varying\\\\carto_eB4-Rnd-3-WhiteningAndFullFilter-Alternating-Same-And-Varying-Seeds.log\""
   ]
  },
  {
   "cell_type": "code",
   "execution_count": 4,
   "metadata": {},
   "outputs": [],
   "source": [
    "def load_data_alternating_same_varying(traces_path: str, key_path: str, max_traces: int = None) -> Tuple[np.ndarray, np.ndarray, np.ndarray, np.ndarray]:\n",
    "    traces_dict = sio.loadmat(traces_path, variable_names=[f\"data_{i}\" for i in range(max_traces)]) if max_traces is not None else sio.loadmat(traces_path)\n",
    "    traces_size = Counter([traces_dict[k][0, 0][4][:, 0].shape[0] for k in traces_dict.keys() if k.startswith(\"data_\")]).most_common(1)[0][0]\n",
    "    empty_traces = {k for k in traces_dict.keys() if k.startswith(\"data_\") and traces_dict[k][0, 0][4][:, 0].shape[0] != traces_size}\n",
    "    traces_tot = np.stack([traces_dict[k][0, 0][4][:, 0] for k in traces_dict.keys() if k.startswith(\"data_\") and k not in empty_traces], axis=0)\n",
    "    traces_tot = traces_tot.reshape((1, -1, traces_tot.shape[1]))\n",
    "\n",
    "    inputs_outputs = log_parser.parse(key_path)\n",
    "    real_keys = np.array([inputs_outputs[1][0][0]])\n",
    "    real_keys = np.array([[int(c, 16) for c in key] for key in real_keys])\n",
    "    \n",
    "    traces_same = traces_tot[:, ::2, :]\n",
    "    traces_varying = traces_tot[:, 1::2, :]\n",
    "\n",
    "    seeds_same = np.array([inputs_outputs[0][0][0]])\n",
    "    seeds_same = np.repeat(seeds_same[:, np.newaxis], traces_same[0].shape[0], axis=1)\n",
    "    seeds_varying = np.array([inputs_outputs[2 * (int(k[len(\"data_\"):]) - 1)][0][0] for k in traces_dict.keys() if k.startswith(\"data_\") and k not in empty_traces and int(k[len(\"data_\"):]) % 2 == 0])\n",
    "    seeds_varying = seeds_varying.reshape((1, traces_varying.shape[1]))\n",
    "\n",
    "    \n",
    "    assert traces_same.shape[0] == seeds_same.shape[0]\n",
    "    assert traces_same.shape[1] == seeds_same.shape[1]\n",
    "    assert traces_varying.shape[0] == seeds_varying.shape[0]\n",
    "    assert traces_varying.shape[1] == seeds_varying.shape[1]\n",
    "\n",
    "    return seeds_same, traces_same, seeds_varying, traces_varying, real_keys\n",
    "\n",
    "seeds_same, traces_same, seeds_varying, traces_varying, real_keys = load_data_alternating_same_varying(traces_path, key_path, max_traces=126728)"
   ]
  },
  {
   "cell_type": "code",
   "execution_count": 53,
   "metadata": {},
   "outputs": [],
   "source": [
    "arr_rand = np.random.choice(range(traces_varying[0].shape[0]), traces_varying[0].shape[0])\n",
    "split = arr_rand < 100\n",
    "\n",
    "traces_train, traces_test = traces_varying[:, ~split], traces_varying[:, split]\n",
    "seeds_train, seeds_test = seeds_varying[:, ~split], seeds_varying[:, split]"
   ]
  },
  {
   "cell_type": "code",
   "execution_count": 54,
   "metadata": {},
   "outputs": [],
   "source": [
    "KEY_ALPHABET = list(range(16))"
   ]
  },
  {
   "cell_type": "markdown",
   "metadata": {},
   "source": [
    "## Profiling stage"
   ]
  },
  {
   "cell_type": "markdown",
   "metadata": {},
   "source": [
    "### Choosing one point per clock cycle"
   ]
  },
  {
   "cell_type": "markdown",
   "metadata": {},
   "source": [
    "Arduino Due: 84 MHz\n",
    "Sampling rate: 2.5 GHz"
   ]
  },
  {
   "cell_type": "code",
   "execution_count": 55,
   "metadata": {},
   "outputs": [
    {
     "data": {
      "text/plain": [
       "29"
      ]
     },
     "execution_count": 55,
     "metadata": {},
     "output_type": "execute_result"
    }
   ],
   "source": [
    "SAMPLES_PER_CYCLE = int(2500 / 84)\n",
    "SAMPLES_PER_CYCLE"
   ]
  },
  {
   "cell_type": "markdown",
   "metadata": {},
   "source": [
    "29 points per cycle"
   ]
  },
  {
   "cell_type": "markdown",
   "metadata": {},
   "source": [
    "#### SOST"
   ]
  },
  {
   "cell_type": "code",
   "execution_count": 56,
   "metadata": {},
   "outputs": [],
   "source": [
    "def signal_strength_and_template_means_per_index(seeds: np.ndarray, key: List[int], traces: np.ndarray):\n",
    "    assert seeds.shape[0] == traces.shape[0]\n",
    "    f = np.zeros((KEYROUND_WIDTH_B4 // BLOCK_WIDTH_B4, BLOCK_WIDTH_B4, int(SAMPLES_PER_CYCLE * np.ceil(traces.shape[1] / SAMPLES_PER_CYCLE))), dtype=np.float32)\n",
    "    all_m = np.zeros((KEYROUND_WIDTH_B4 // BLOCK_WIDTH_B4, BLOCK_WIDTH_B4, len(KEY_ALPHABET), traces.shape[1]), dtype=np.float32)\n",
    "\n",
    "    for round_idx in range(12, KEYROUND_WIDTH_B4 // BLOCK_WIDTH_B4):\n",
    "        for block_idx in range(BLOCK_WIDTH_B4):\n",
    "            card_g = np.zeros((len(KEY_ALPHABET), 1), dtype=np.int32)\n",
    "            m = all_m[round_idx][block_idx]\n",
    "            v = np.zeros((len(KEY_ALPHABET), traces.shape[1]), dtype=np.float64)\n",
    "\n",
    "            for seed, trace in zip(seeds, traces):\n",
    "                indices, whitening = chacha_random_b4(seed)\n",
    "                keyround_index = round_idx * BLOCK_WIDTH_B4 + block_idx\n",
    "                real_k = (key[indices[keyround_index]] + whitening[keyround_index]) % 16\n",
    "                card_g[real_k][0] += 1\n",
    "                m[real_k] += trace\n",
    "                v[real_k] += np.square(trace.astype(np.float64))\n",
    "\n",
    "            m /= card_g\n",
    "            v = (v - card_g * m * m) / (card_g - 1)\n",
    "\n",
    "            for i in range(len(KEY_ALPHABET)):\n",
    "                for j in range(len(KEY_ALPHABET)):\n",
    "                    num = m[i] - m[j]\n",
    "                    den = np.sqrt(v[i] / card_g[i] + v[j] / card_g[j])\n",
    "                    f[round_idx][block_idx][:traces.shape[1]] += np.square(num / den)\n",
    "    \n",
    "    return f, all_m"
   ]
  },
  {
   "cell_type": "code",
   "execution_count": 57,
   "metadata": {},
   "outputs": [],
   "source": [
    "f, template_means = signal_strength_and_template_means_per_index(seeds_train[0], real_keys[0], traces_train[0])"
   ]
  },
  {
   "cell_type": "code",
   "execution_count": 58,
   "metadata": {},
   "outputs": [],
   "source": [
    "#interesting_points_per_index = np.array([i + np.argmax(f[..., i:i+SAMPLES_PER_CYCLE], axis=-1) for i in range(0, f.shape[-1], SAMPLES_PER_CYCLE)]).transpose(1, 2, 0)\n",
    "interesting_points_per_index = np.apply_along_axis(np.argpartition, axis=2, arr=f[:, :, :traces_train.shape[2]], kth=-10)[:, :, -10:]"
   ]
  },
  {
   "cell_type": "code",
   "execution_count": 59,
   "metadata": {},
   "outputs": [
    {
     "data": {
      "text/plain": [
       "(14, 7, 63261, 10)"
      ]
     },
     "execution_count": 59,
     "metadata": {},
     "output_type": "execute_result"
    }
   ],
   "source": [
    "traces_one_point_per_cycle = traces_train[0][:, interesting_points_per_index].transpose(1, 2, 0, 3)\n",
    "traces_one_point_per_cycle.shape"
   ]
  },
  {
   "cell_type": "markdown",
   "metadata": {},
   "source": [
    "### Multivariate Gaussian parameters"
   ]
  },
  {
   "cell_type": "code",
   "execution_count": 60,
   "metadata": {},
   "outputs": [
    {
     "data": {
      "text/plain": [
       "(14, 7, 16, 50002)"
      ]
     },
     "execution_count": 60,
     "metadata": {},
     "output_type": "execute_result"
    }
   ],
   "source": [
    "template_means.shape"
   ]
  },
  {
   "cell_type": "code",
   "execution_count": 61,
   "metadata": {},
   "outputs": [
    {
     "data": {
      "text/plain": [
       "(14, 7, 16, 10)"
      ]
     },
     "execution_count": 61,
     "metadata": {},
     "output_type": "execute_result"
    }
   ],
   "source": [
    "template_means_reduced = template_means[np.arange(template_means.shape[0])[:, np.newaxis, np.newaxis, np.newaxis], np.arange(template_means.shape[1])[:, np.newaxis, np.newaxis], np.arange(template_means.shape[2])[:, np.newaxis], np.repeat(interesting_points_per_index[:, :, np.newaxis, :], 16, axis=2)]\n",
    "template_means_reduced.shape"
   ]
  },
  {
   "cell_type": "code",
   "execution_count": 62,
   "metadata": {},
   "outputs": [
    {
     "data": {
      "text/plain": [
       "(14, 7, 16, 63261, 10)"
      ]
     },
     "execution_count": 62,
     "metadata": {},
     "output_type": "execute_result"
    }
   ],
   "source": [
    "noise_vector = traces_one_point_per_cycle[:, :, np.newaxis, :, :] - template_means_reduced[:, :, :, np.newaxis, :]\n",
    "noise_vector.shape"
   ]
  },
  {
   "cell_type": "code",
   "execution_count": 63,
   "metadata": {},
   "outputs": [
    {
     "data": {
      "text/plain": [
       "(14, 7, 16, 10, 10)"
      ]
     },
     "execution_count": 63,
     "metadata": {},
     "output_type": "execute_result"
    }
   ],
   "source": [
    "covariance_matrices = np.zeros(noise_vector.shape[:3] + (noise_vector.shape[4],) * 2)\n",
    "for i in range(noise_vector.shape[0]):\n",
    "    for j in range(noise_vector.shape[1]):\n",
    "        for k in range(noise_vector.shape[2]):\n",
    "            covariance_matrices[i, j, k] = np.cov(noise_vector[i, j, k], rowvar=False)\n",
    "covariance_matrices.shape"
   ]
  },
  {
   "cell_type": "code",
   "execution_count": 64,
   "metadata": {},
   "outputs": [
    {
     "data": {
      "text/plain": [
       "(14, 7, 16)"
      ]
     },
     "execution_count": 64,
     "metadata": {},
     "output_type": "execute_result"
    }
   ],
   "source": [
    "pdfs = np.array([[[multivariate_normal(np.zeros(noise_vector.shape[-1]), covariance_matrices[round_idx, block_idx, key]) for key in range(covariance_matrices.shape[2])] for block_idx in range(covariance_matrices.shape[1])] for round_idx in range(covariance_matrices.shape[0])])\n",
    "pdfs.shape"
   ]
  },
  {
   "cell_type": "markdown",
   "metadata": {},
   "source": [
    "## Extraction stage"
   ]
  },
  {
   "cell_type": "code",
   "execution_count": 65,
   "metadata": {},
   "outputs": [
    {
     "data": {
      "text/plain": [
       "(14, 7, 101, 10)"
      ]
     },
     "execution_count": 65,
     "metadata": {},
     "output_type": "execute_result"
    }
   ],
   "source": [
    "traces_test_one_point_per_cycle = traces_test[0][:, interesting_points_per_index].transpose(1, 2, 0, 3)\n",
    "traces_test_one_point_per_cycle.shape"
   ]
  },
  {
   "cell_type": "code",
   "execution_count": 66,
   "metadata": {},
   "outputs": [
    {
     "data": {
      "text/plain": [
       "(14, 7, 16, 101, 10)"
      ]
     },
     "execution_count": 66,
     "metadata": {},
     "output_type": "execute_result"
    }
   ],
   "source": [
    "noise_test = traces_test_one_point_per_cycle[:, :, np.newaxis, :, :] - template_means_reduced[:, :, :, np.newaxis, :]\n",
    "noise_test.shape"
   ]
  },
  {
   "cell_type": "code",
   "execution_count": 67,
   "metadata": {},
   "outputs": [
    {
     "data": {
      "text/plain": [
       "(101, 14, 7, 16)"
      ]
     },
     "execution_count": 67,
     "metadata": {},
     "output_type": "execute_result"
    }
   ],
   "source": [
    "probas = np.array([[[[pdfs[round_idx, block_idx, key_guess].pdf(noise_test[round_idx, block_idx, key_guess, trace]) for key_guess in range(pdfs.shape[2])] for block_idx in range(pdfs.shape[1])] for round_idx in range(pdfs.shape[0])] for trace in range(traces_test_one_point_per_cycle.shape[2])])\n",
    "probas.shape"
   ]
  },
  {
   "cell_type": "code",
   "execution_count": 68,
   "metadata": {},
   "outputs": [
    {
     "data": {
      "text/plain": [
       "False"
      ]
     },
     "execution_count": 68,
     "metadata": {},
     "output_type": "execute_result"
    }
   ],
   "source": [
    "np.all(probas == 0)"
   ]
  },
  {
   "cell_type": "code",
   "execution_count": 98,
   "metadata": {},
   "outputs": [],
   "source": [
    "probas_for_each_key_nibble = np.ones((KEY_WIDTH_B4, len(KEY_ALPHABET)))\n",
    "for i, seed in enumerate(seeds_test[0]):\n",
    "    indices, whitening = chacha_random_b4(seed)\n",
    "    for keyround_index in range(KEYROUND_WIDTH_B4):\n",
    "        key_index = indices.index(keyround_index)\n",
    "        round_idx = keyround_index // BLOCK_WIDTH_B4\n",
    "        block_idx = keyround_index % BLOCK_WIDTH_B4\n",
    "        if round_idx >= 12:\n",
    "            probas_for_each_key_nibble[key_index] *= probas[i, round_idx, block_idx, (np.arange(len(KEY_ALPHABET)) + whitening[keyround_index]) % 16]"
   ]
  },
  {
   "cell_type": "code",
   "execution_count": 99,
   "metadata": {},
   "outputs": [
    {
     "data": {
      "text/plain": [
       "False"
      ]
     },
     "execution_count": 99,
     "metadata": {},
     "output_type": "execute_result"
    }
   ],
   "source": [
    "np.all(probas_for_each_key_nibble == 0)"
   ]
  },
  {
   "cell_type": "code",
   "execution_count": 100,
   "metadata": {},
   "outputs": [
    {
     "name": "stdout",
     "output_type": "stream",
     "text": [
      "Results: 0.0546875\n"
     ]
    }
   ],
   "source": [
    "print(f\"Results: {np.count_nonzero(np.argmax(probas_for_each_key_nibble[np.all(probas_for_each_key_nibble != 1, axis=1)], axis=1) == real_keys[0][np.all(probas_for_each_key_nibble != 1, axis=1)]) / KEY_WIDTH_B4}\")"
   ]
  },
  {
   "cell_type": "code",
   "execution_count": 81,
   "metadata": {},
   "outputs": [
    {
     "name": "stdout",
     "output_type": "stream",
     "text": [
      "At random: 0.0625\n"
     ]
    }
   ],
   "source": [
    "print(f\"At random: {1 / 16}\")"
   ]
  }
 ],
 "metadata": {
  "kernelspec": {
   "display_name": ".venv",
   "language": "python",
   "name": "python3"
  },
  "language_info": {
   "codemirror_mode": {
    "name": "ipython",
    "version": 3
   },
   "file_extension": ".py",
   "mimetype": "text/x-python",
   "name": "python",
   "nbconvert_exporter": "python",
   "pygments_lexer": "ipython3",
   "version": "3.12.2"
  }
 },
 "nbformat": 4,
 "nbformat_minor": 2
}
