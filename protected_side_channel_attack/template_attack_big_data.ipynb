{
 "cells": [
  {
   "cell_type": "code",
   "execution_count": 1,
   "metadata": {},
   "outputs": [],
   "source": [
    "import numpy as np\n",
    "import matplotlib.pyplot as plt\n",
    "import pywt"
   ]
  },
  {
   "cell_type": "code",
   "execution_count": 2,
   "metadata": {},
   "outputs": [],
   "source": [
    "import pickle as pic\n",
    "from itertools import product"
   ]
  },
  {
   "cell_type": "code",
   "execution_count": 3,
   "metadata": {},
   "outputs": [],
   "source": [
    "from utils import *\n",
    "from templates import *\n",
    "from signal_strength import SIGNAL_STRENGTHS_METHODS\n",
    "from data_loader import EntireTraceIterator"
   ]
  },
  {
   "cell_type": "code",
   "execution_count": 4,
   "metadata": {},
   "outputs": [],
   "source": [
    "with open(\"wavelets_haar_2.pic\", \"rb\") as r:\n",
    "    wavelets = pic.load(r)\n",
    "with open(\"labels.pic\", \"rb\") as r:\n",
    "    rws_perms_labels, round_perms_labels, copy_perms_labels, rws_masks_labels, round_masks_labels = pic.load(r)"
   ]
  },
  {
   "cell_type": "code",
   "execution_count": 4,
   "metadata": {},
   "outputs": [],
   "source": [
    "traces_path = \"..\\\\acquisition\\\\1000000_maskshuffle_allrounds\\\\carto_eB4-Rnd-3-WhiteningAndFullFilter-Masking-Shuffling.mat\"\n",
    "key_path = \"..\\\\acquisition\\\\1000000_maskshuffle_allrounds\\\\carto_eB4-Rnd-3-WhiteningAndFullFilter-Masking-Shuffling.log\""
   ]
  },
  {
   "cell_type": "code",
   "execution_count": 5,
   "metadata": {},
   "outputs": [],
   "source": [
    "NUM_TRACES = 1_000_000\n",
    "TRACE_SIZE = 200_000\n",
    "PER_DIVISION = 250_000\n",
    "data_loader = EntireTraceIterator(traces_path, key_path, nr_populations=1, nr_scenarios=1, trace_size=TRACE_SIZE, traces_per_division=PER_DIVISION, parse_output=\"keyshares+perms\")"
   ]
  },
  {
   "cell_type": "code",
   "execution_count": 4,
   "metadata": {},
   "outputs": [],
   "source": [
    "if True:\n",
    "    with open(\"orig_first_250000.pic\", \"rb\") as r:\n",
    "        traces = pic.load(r)\n",
    "else:    \n",
    "    for seeds, traces, key, output in data_loader((0,), (0,)):\n",
    "        seeds = seeds[0][0]\n",
    "        traces = traces[0][0]\n",
    "        key = np.array(key[0])\n",
    "        output = output[0][0]\n",
    "        break\n",
    "with open(\"labels_1000000.pic\", \"rb\") as r:\n",
    "    rws_perms_labels, round_perms_labels, copy_perms_labels, rws_masks_labels, round_masks_labels = pic.load(r)"
   ]
  },
  {
   "cell_type": "code",
   "execution_count": 5,
   "metadata": {},
   "outputs": [],
   "source": [
    "NUM_TRACES = 1_000_000\n",
    "TRACE_SIZE = 200_000\n",
    "PER_DIVISION = 1_000_000\n",
    "data_loader = EntireTraceIterator(traces_path, key_path, nr_populations=1, nr_scenarios=1, trace_size=TRACE_SIZE, traces_per_division=PER_DIVISION, parse_output=\"keyshares+perms\")"
   ]
  },
  {
   "cell_type": "code",
   "execution_count": 6,
   "metadata": {},
   "outputs": [],
   "source": [
    "for seeds, key, _ in data_loader((0,), (0,), return_traces=False):\n",
    "    seeds = seeds[0][0]\n",
    "    key = np.array(key[0])\n",
    "    break\n",
    "\n",
    "with open(\"seeds_key_1000000.pic\", \"wb\") as w:\n",
    "    pic.dump((seeds, key), w)"
   ]
  },
  {
   "cell_type": "markdown",
   "metadata": {},
   "source": [
    "## Wavelets"
   ]
  },
  {
   "cell_type": "code",
   "execution_count": null,
   "metadata": {},
   "outputs": [],
   "source": [
    "for j, (_, traces, _, _) in enumerate(data_loader((0,), (0,))):\n",
    "    traces = traces[0][0]\n",
    "    for i in range(0, PER_DIVISION, PER_DIVISION // 10):\n",
    "        wavelet = pywt.wavedec(traces[i:i + PER_DIVISION // 10], 'haar', level=2)[0]\n",
    "        with open(f\"./wavelets_haar_2/wavelet_{(j+2) * PER_DIVISION + i}_{(j+2) * PER_DIVISION + i + PER_DIVISION // 10}.pic\", \"wb\") as w:\n",
    "            pic.dump(wavelet, w)\n",
    "    del traces"
   ]
  },
  {
   "cell_type": "code",
   "execution_count": 9,
   "metadata": {},
   "outputs": [],
   "source": [
    "wavelets = np.zeros((300_000, 50000), dtype=np.float16)\n",
    "for div in range(0, 315000, 35000):\n",
    "    filepath = f\"./wavelets_haar_2/wavelet_{700_000 + div}_{700_000 + div + 35000}.pic\"\n",
    "    with open(filepath, \"rb\") as r:\n",
    "        wavelet = pic.load(r)\n",
    "    wavelets[div:div+wavelet.shape[0]] = np.float16(wavelet)"
   ]
  },
  {
   "cell_type": "code",
   "execution_count": 11,
   "metadata": {},
   "outputs": [
    {
     "data": {
      "text/plain": [
       "(array([499999], dtype=int64),)"
      ]
     },
     "execution_count": 11,
     "metadata": {},
     "output_type": "execute_result"
    }
   ],
   "source": [
    "np.where(np.all(wavelets == 0, axis=1))"
   ]
  },
  {
   "cell_type": "code",
   "execution_count": 12,
   "metadata": {},
   "outputs": [],
   "source": [
    "wavelets = np.concatenate((wavelets[:499999], wavelets[500000:]), axis=0)\n"
   ]
  },
  {
   "cell_type": "code",
   "execution_count": null,
   "metadata": {},
   "outputs": [],
   "source": [
    "with open(\"wavelets_haar_2.pic\", \"rb\") as r:\n",
    "    first_750000 = pic.load(r)"
   ]
  },
  {
   "cell_type": "code",
   "execution_count": null,
   "metadata": {},
   "outputs": [],
   "source": [
    "np.concatenate((first_750000, wavelets)).shape"
   ]
  },
  {
   "cell_type": "code",
   "execution_count": 13,
   "metadata": {},
   "outputs": [],
   "source": [
    "with open(\"wavelets_haar_2.pic\", \"wb\") as w:\n",
    "    pic.dump(wavelets, w)"
   ]
  },
  {
   "cell_type": "markdown",
   "metadata": {},
   "source": [
    "## Labels"
   ]
  },
  {
   "cell_type": "code",
   "execution_count": 6,
   "metadata": {},
   "outputs": [],
   "source": [
    "rws_perms_labels = np.zeros(NUM_TRACES, dtype=int)\n",
    "rws_masks_labels = np.zeros((KEYROUND_WIDTH_B4, NR_SHARES, NUM_TRACES), dtype=int)\n",
    "round_perms_labels = np.zeros(NUM_TRACES, dtype=int)\n",
    "copy_perms_labels = np.zeros((LATEST_ROUND - EARLIEST_ROUND, NUM_TRACES), dtype=int)\n",
    "round_masks_labels = np.zeros((LATEST_ROUND - EARLIEST_ROUND, BLOCK_WIDTH_B4, NR_SHARES, NUM_TRACES), dtype=int)\n",
    "\n",
    "for j, (seeds_sub, key, output_sub) in enumerate(data_loader((0,), (0,), return_traces=False)):\n",
    "    rws_perms, rws_masks, round_perms, copy_perms, round_masks = get_all_labels(seeds_sub[0][0], key[0], output_sub[0][0])\n",
    "    rws_perms_labels[..., j * PER_DIVISION:j * PER_DIVISION + rws_perms.shape[-1]] = rws_perms\n",
    "    rws_masks_labels[..., j * PER_DIVISION:j * PER_DIVISION + rws_masks.shape[-1]] = rws_masks\n",
    "    round_perms_labels[..., j * PER_DIVISION:j * PER_DIVISION + round_perms.shape[-1]] = round_perms\n",
    "    copy_perms_labels[..., j * PER_DIVISION:j * PER_DIVISION + copy_perms.shape[-1]] = copy_perms\n",
    "    round_masks_labels[..., j * PER_DIVISION:j * PER_DIVISION + round_masks.shape[-1]] = round_masks"
   ]
  },
  {
   "cell_type": "code",
   "execution_count": 7,
   "metadata": {},
   "outputs": [
    {
     "data": {
      "text/plain": [
       "[324360]"
      ]
     },
     "execution_count": 7,
     "metadata": {},
     "output_type": "execute_result"
    }
   ],
   "source": [
    "data_loader.empty_traces"
   ]
  },
  {
   "cell_type": "code",
   "execution_count": 10,
   "metadata": {},
   "outputs": [],
   "source": [
    "rws_perms_labels = np.concatenate((rws_perms_labels[..., :499999], rws_perms_labels[..., 500000:]), axis=-1)\n",
    "rws_masks_labels = np.concatenate((rws_masks_labels[..., :499999], rws_masks_labels[..., 500000:]), axis=-1)\n",
    "round_perms_labels = np.concatenate((round_perms_labels[..., :499999], round_perms_labels[..., 500000:]), axis=-1)\n",
    "copy_perms_labels = np.concatenate((copy_perms_labels[..., :499999], copy_perms_labels[..., 500000:]), axis=-1)\n",
    "round_masks_labels = np.concatenate((round_masks_labels[..., :499999], round_masks_labels[..., 500000:]), axis=-1)"
   ]
  },
  {
   "cell_type": "code",
   "execution_count": 11,
   "metadata": {},
   "outputs": [],
   "source": [
    "with open(\"labels_1000000.pic\", \"wb\") as w:\n",
    "    pic.dump((rws_perms_labels, round_perms_labels, copy_perms_labels, rws_masks_labels, round_masks_labels), w)"
   ]
  },
  {
   "cell_type": "markdown",
   "metadata": {},
   "source": [
    "## RWS permutations"
   ]
  },
  {
   "cell_type": "code",
   "execution_count": 7,
   "metadata": {},
   "outputs": [
    {
     "data": {
      "text/plain": [
       "<signal_strength.SignalStrength at 0x2675e296ba0>"
      ]
     },
     "execution_count": 7,
     "metadata": {},
     "output_type": "execute_result"
    }
   ],
   "source": [
    "signal_strength = SIGNAL_STRENGTHS_METHODS[\"SOST\"](\"./leakage_points_bigdata/f_rws_perms_sost.pic\")\n",
    "signal_strength.fit(traces, rws_perms_labels[:PER_DIVISION], 0)"
   ]
  },
  {
   "cell_type": "markdown",
   "metadata": {},
   "source": [
    "## RWS masks"
   ]
  },
  {
   "cell_type": "code",
   "execution_count": 11,
   "metadata": {},
   "outputs": [
    {
     "name": "stdout",
     "output_type": "stream",
     "text": [
      "32\r"
     ]
    },
    {
     "ename": "KeyboardInterrupt",
     "evalue": "",
     "output_type": "error",
     "traceback": [
      "\u001b[1;31m---------------------------------------------------------------------------\u001b[0m",
      "\u001b[1;31mKeyboardInterrupt\u001b[0m                         Traceback (most recent call last)",
      "Cell \u001b[1;32mIn[11], line 6\u001b[0m\n\u001b[0;32m      4\u001b[0m \u001b[38;5;28;01mfor\u001b[39;00m share_idx \u001b[38;5;129;01min\u001b[39;00m \u001b[38;5;28mrange\u001b[39m(NR_SHARES):\n\u001b[0;32m      5\u001b[0m     signal_strength \u001b[38;5;241m=\u001b[39m SIGNAL_STRENGTHS_METHODS[\u001b[38;5;124m\"\u001b[39m\u001b[38;5;124mSOST\u001b[39m\u001b[38;5;124m\"\u001b[39m](\u001b[38;5;124mf\u001b[39m\u001b[38;5;124m\"\u001b[39m\u001b[38;5;124m./leakage_points_bigdata/f_rws_masks_\u001b[39m\u001b[38;5;132;01m{\u001b[39;00mfirst\u001b[38;5;132;01m}\u001b[39;00m\u001b[38;5;124m_\u001b[39m\u001b[38;5;132;01m{\u001b[39;00mshare_idx\u001b[38;5;132;01m}\u001b[39;00m\u001b[38;5;124m_sost.pic\u001b[39m\u001b[38;5;124m\"\u001b[39m)\n\u001b[1;32m----> 6\u001b[0m     \u001b[43msignal_strength\u001b[49m\u001b[38;5;241;43m.\u001b[39;49m\u001b[43mfit\u001b[49m\u001b[43m(\u001b[49m\u001b[43mtraces\u001b[49m\u001b[43m,\u001b[49m\u001b[43m \u001b[49m\u001b[43mrws_masks_labels\u001b[49m\u001b[43m[\u001b[49m\u001b[43mfirst\u001b[49m\u001b[43m,\u001b[49m\u001b[43m \u001b[49m\u001b[43mshare_idx\u001b[49m\u001b[43m,\u001b[49m\u001b[43m \u001b[49m\u001b[43m:\u001b[49m\u001b[43mPER_DIVISION\u001b[49m\u001b[43m]\u001b[49m\u001b[43m,\u001b[49m\u001b[43m \u001b[49m\u001b[38;5;241;43m0\u001b[39;49m\u001b[43m)\u001b[49m\n\u001b[0;32m      7\u001b[0m second \u001b[38;5;241m=\u001b[39m first \u001b[38;5;241m+\u001b[39m KEYROUND_WIDTH_B4 \u001b[38;5;241m/\u001b[39m\u001b[38;5;241m/\u001b[39m \u001b[38;5;241m4\u001b[39m\n\u001b[0;32m      8\u001b[0m \u001b[38;5;28mprint\u001b[39m(\u001b[38;5;124mf\u001b[39m\u001b[38;5;124m\"\u001b[39m\u001b[38;5;132;01m{\u001b[39;00msecond\u001b[38;5;132;01m}\u001b[39;00m\u001b[38;5;124m\"\u001b[39m, end\u001b[38;5;241m=\u001b[39m\u001b[38;5;124m\"\u001b[39m\u001b[38;5;130;01m\\r\u001b[39;00m\u001b[38;5;124m\"\u001b[39m)\n",
      "File \u001b[1;32mc:\\Users\\Kudelski\\Documents\\Pierugo-PDM-2024\\protected_side_channel_attack\\signal_strength.py:38\u001b[0m, in \u001b[0;36mSignalStrength.fit\u001b[1;34m(self, traces, labels, num_features)\u001b[0m\n\u001b[0;32m     35\u001b[0m \u001b[38;5;28;01massert\u001b[39;00m traces\u001b[38;5;241m.\u001b[39mshape[\u001b[38;5;241m0\u001b[39m] \u001b[38;5;241m==\u001b[39m labels\u001b[38;5;241m.\u001b[39mshape[\u001b[38;5;241m0\u001b[39m]\n\u001b[0;32m     37\u001b[0m \u001b[38;5;28;01mif\u001b[39;00m \u001b[38;5;28mself\u001b[39m\u001b[38;5;241m.\u001b[39msig \u001b[38;5;129;01mis\u001b[39;00m \u001b[38;5;28;01mNone\u001b[39;00m:\n\u001b[1;32m---> 38\u001b[0m     \u001b[38;5;28mself\u001b[39m\u001b[38;5;241m.\u001b[39msig \u001b[38;5;241m=\u001b[39m \u001b[38;5;28;43mself\u001b[39;49m\u001b[38;5;241;43m.\u001b[39;49m\u001b[43mcompute_signal_strength\u001b[49m\u001b[43m(\u001b[49m\u001b[43mtraces\u001b[49m\u001b[43m,\u001b[49m\u001b[43m \u001b[49m\u001b[43mlabels\u001b[49m\u001b[43m,\u001b[49m\u001b[43m \u001b[49m\u001b[43mnum_features\u001b[49m\u001b[43m)\u001b[49m\n\u001b[0;32m     39\u001b[0m     \u001b[38;5;28;01mif\u001b[39;00m \u001b[38;5;28mself\u001b[39m\u001b[38;5;241m.\u001b[39mpath:\n\u001b[0;32m     40\u001b[0m         \u001b[38;5;28;01mwith\u001b[39;00m \u001b[38;5;28mopen\u001b[39m(\u001b[38;5;28mself\u001b[39m\u001b[38;5;241m.\u001b[39mpath, \u001b[38;5;124m\"\u001b[39m\u001b[38;5;124mwb\u001b[39m\u001b[38;5;124m\"\u001b[39m) \u001b[38;5;28;01mas\u001b[39;00m w:\n",
      "File \u001b[1;32mc:\\Users\\Kudelski\\Documents\\Pierugo-PDM-2024\\protected_side_channel_attack\\signal_strength.py:84\u001b[0m, in \u001b[0;36msost_comp\u001b[1;34m(traces, labels, num)\u001b[0m\n\u001b[0;32m     82\u001b[0m     card_g[np\u001b[38;5;241m.\u001b[39mwhere(unique_labels \u001b[38;5;241m==\u001b[39m label)[\u001b[38;5;241m0\u001b[39m][\u001b[38;5;241m0\u001b[39m]][\u001b[38;5;241m0\u001b[39m] \u001b[38;5;241m=\u001b[39m \u001b[38;5;28mlen\u001b[39m(traces_per_label)\n\u001b[0;32m     83\u001b[0m     m[np\u001b[38;5;241m.\u001b[39mwhere(unique_labels \u001b[38;5;241m==\u001b[39m label)[\u001b[38;5;241m0\u001b[39m][\u001b[38;5;241m0\u001b[39m]] \u001b[38;5;241m=\u001b[39m np\u001b[38;5;241m.\u001b[39mmean(traces_per_label, axis\u001b[38;5;241m=\u001b[39m\u001b[38;5;241m0\u001b[39m)\n\u001b[1;32m---> 84\u001b[0m     v[np\u001b[38;5;241m.\u001b[39mwhere(unique_labels \u001b[38;5;241m==\u001b[39m label)[\u001b[38;5;241m0\u001b[39m][\u001b[38;5;241m0\u001b[39m]] \u001b[38;5;241m=\u001b[39m \u001b[43mnp\u001b[49m\u001b[38;5;241;43m.\u001b[39;49m\u001b[43mvar\u001b[49m\u001b[43m(\u001b[49m\u001b[43mtraces_per_label\u001b[49m\u001b[38;5;241;43m.\u001b[39;49m\u001b[43mastype\u001b[49m\u001b[43m(\u001b[49m\u001b[43mnp\u001b[49m\u001b[38;5;241;43m.\u001b[39;49m\u001b[43mfloat64\u001b[49m\u001b[43m)\u001b[49m\u001b[43m,\u001b[49m\u001b[43m \u001b[49m\u001b[43maxis\u001b[49m\u001b[38;5;241;43m=\u001b[39;49m\u001b[38;5;241;43m0\u001b[39;49m\u001b[43m,\u001b[49m\u001b[43m \u001b[49m\u001b[43mddof\u001b[49m\u001b[38;5;241;43m=\u001b[39;49m\u001b[38;5;241;43m1\u001b[39;49m\u001b[43m)\u001b[49m\n\u001b[0;32m     86\u001b[0m f \u001b[38;5;241m=\u001b[39m np\u001b[38;5;241m.\u001b[39mzeros(traces\u001b[38;5;241m.\u001b[39mshape[\u001b[38;5;241m1\u001b[39m], dtype\u001b[38;5;241m=\u001b[39mnp\u001b[38;5;241m.\u001b[39mfloat64)\n\u001b[0;32m     87\u001b[0m \u001b[38;5;28;01mfor\u001b[39;00m i \u001b[38;5;129;01min\u001b[39;00m \u001b[38;5;28mrange\u001b[39m(\u001b[38;5;28mlen\u001b[39m(unique_labels)):\n",
      "File \u001b[1;32mc:\\Users\\Kudelski\\Documents\\Pierugo-PDM-2024\\protected_side_channel_attack\\.venv\\Lib\\site-packages\\numpy\\core\\fromnumeric.py:3787\u001b[0m, in \u001b[0;36mvar\u001b[1;34m(a, axis, dtype, out, ddof, keepdims, where)\u001b[0m\n\u001b[0;32m   3784\u001b[0m     \u001b[38;5;28;01melse\u001b[39;00m:\n\u001b[0;32m   3785\u001b[0m         \u001b[38;5;28;01mreturn\u001b[39;00m var(axis\u001b[38;5;241m=\u001b[39maxis, dtype\u001b[38;5;241m=\u001b[39mdtype, out\u001b[38;5;241m=\u001b[39mout, ddof\u001b[38;5;241m=\u001b[39mddof, \u001b[38;5;241m*\u001b[39m\u001b[38;5;241m*\u001b[39mkwargs)\n\u001b[1;32m-> 3787\u001b[0m \u001b[38;5;28;01mreturn\u001b[39;00m \u001b[43m_methods\u001b[49m\u001b[38;5;241;43m.\u001b[39;49m\u001b[43m_var\u001b[49m\u001b[43m(\u001b[49m\u001b[43ma\u001b[49m\u001b[43m,\u001b[49m\u001b[43m \u001b[49m\u001b[43maxis\u001b[49m\u001b[38;5;241;43m=\u001b[39;49m\u001b[43maxis\u001b[49m\u001b[43m,\u001b[49m\u001b[43m \u001b[49m\u001b[43mdtype\u001b[49m\u001b[38;5;241;43m=\u001b[39;49m\u001b[43mdtype\u001b[49m\u001b[43m,\u001b[49m\u001b[43m \u001b[49m\u001b[43mout\u001b[49m\u001b[38;5;241;43m=\u001b[39;49m\u001b[43mout\u001b[49m\u001b[43m,\u001b[49m\u001b[43m \u001b[49m\u001b[43mddof\u001b[49m\u001b[38;5;241;43m=\u001b[39;49m\u001b[43mddof\u001b[49m\u001b[43m,\u001b[49m\n\u001b[0;32m   3788\u001b[0m \u001b[43m                     \u001b[49m\u001b[38;5;241;43m*\u001b[39;49m\u001b[38;5;241;43m*\u001b[39;49m\u001b[43mkwargs\u001b[49m\u001b[43m)\u001b[49m\n",
      "File \u001b[1;32mc:\\Users\\Kudelski\\Documents\\Pierugo-PDM-2024\\protected_side_channel_attack\\.venv\\Lib\\site-packages\\numpy\\core\\_methods.py:173\u001b[0m, in \u001b[0;36m_var\u001b[1;34m(a, axis, dtype, out, ddof, keepdims, where)\u001b[0m\n\u001b[0;32m    168\u001b[0m     arrmean \u001b[38;5;241m=\u001b[39m arrmean \u001b[38;5;241m/\u001b[39m rcount\n\u001b[0;32m    170\u001b[0m \u001b[38;5;66;03m# Compute sum of squared deviations from mean\u001b[39;00m\n\u001b[0;32m    171\u001b[0m \u001b[38;5;66;03m# Note that x may not be inexact and that we need it to be an array,\u001b[39;00m\n\u001b[0;32m    172\u001b[0m \u001b[38;5;66;03m# not a scalar.\u001b[39;00m\n\u001b[1;32m--> 173\u001b[0m x \u001b[38;5;241m=\u001b[39m \u001b[43masanyarray\u001b[49m\u001b[43m(\u001b[49m\u001b[43marr\u001b[49m\u001b[43m \u001b[49m\u001b[38;5;241;43m-\u001b[39;49m\u001b[43m \u001b[49m\u001b[43marrmean\u001b[49m\u001b[43m)\u001b[49m\n\u001b[0;32m    175\u001b[0m \u001b[38;5;28;01mif\u001b[39;00m \u001b[38;5;28missubclass\u001b[39m(arr\u001b[38;5;241m.\u001b[39mdtype\u001b[38;5;241m.\u001b[39mtype, (nt\u001b[38;5;241m.\u001b[39mfloating, nt\u001b[38;5;241m.\u001b[39minteger)):\n\u001b[0;32m    176\u001b[0m     x \u001b[38;5;241m=\u001b[39m um\u001b[38;5;241m.\u001b[39mmultiply(x, x, out\u001b[38;5;241m=\u001b[39mx)\n",
      "\u001b[1;31mKeyboardInterrupt\u001b[0m: "
     ]
    }
   ],
   "source": [
    "for keyround_idx in range(KEYROUND_WIDTH_B4 // 3):\n",
    "    first = keyround_idx + KEYROUND_WIDTH_B4 // 4 - 1\n",
    "    print(f\"{first}\", end=\"\\r\")\n",
    "    for share_idx in range(NR_SHARES):\n",
    "        signal_strength = SIGNAL_STRENGTHS_METHODS[\"SOST\"](f\"./leakage_points_bigdata/f_rws_masks_{first}_{share_idx}_sost.pic\")\n",
    "        signal_strength.fit(traces, rws_masks_labels[first, share_idx, :PER_DIVISION], 0)\n",
    "    second = first + KEYROUND_WIDTH_B4 // 4\n",
    "    print(f\"{second}\", end=\"\\r\")\n",
    "    for share_idx in range(NR_SHARES):\n",
    "        signal_strength = SIGNAL_STRENGTHS_METHODS[\"SOST\"](f\"./leakage_points_bigdata/f_rws_masks_{second}_{share_idx}_sost.pic\")\n",
    "        signal_strength.fit(traces, rws_masks_labels[second, share_idx, :PER_DIVISION], 0)\n",
    "    third = second + KEYROUND_WIDTH_B4 // 4\n",
    "    print(f\"{third}\", end=\"\\r\")\n",
    "    for share_idx in range(NR_SHARES):\n",
    "        signal_strength = SIGNAL_STRENGTHS_METHODS[\"SOST\"](f\"./leakage_points_bigdata/f_rws_masks_{third}_{share_idx}_sost.pic\")\n",
    "        signal_strength.fit(traces, rws_masks_labels[third, share_idx, :PER_DIVISION], 0)"
   ]
  },
  {
   "cell_type": "markdown",
   "metadata": {},
   "source": [
    "## Round permutations"
   ]
  },
  {
   "cell_type": "code",
   "execution_count": 8,
   "metadata": {},
   "outputs": [
    {
     "data": {
      "text/plain": [
       "<signal_strength.SignalStrength at 0x2675e297f50>"
      ]
     },
     "execution_count": 8,
     "metadata": {},
     "output_type": "execute_result"
    }
   ],
   "source": [
    "signal_strength = SIGNAL_STRENGTHS_METHODS[\"SOST\"](\"./leakage_points_bigdata/f_round_perms_sost.pic\")\n",
    "signal_strength.fit(traces, round_perms_labels[:PER_DIVISION], 0)"
   ]
  },
  {
   "cell_type": "markdown",
   "metadata": {},
   "source": [
    "## Copy permutations"
   ]
  },
  {
   "cell_type": "code",
   "execution_count": 9,
   "metadata": {},
   "outputs": [
    {
     "name": "stdout",
     "output_type": "stream",
     "text": [
      "13\r"
     ]
    }
   ],
   "source": [
    "for round_idx in range(EARLIEST_ROUND, LATEST_ROUND):\n",
    "    print(f\"{round_idx}\", end=\"\\r\")\n",
    "    signal_strength = SIGNAL_STRENGTHS_METHODS[\"SOST\"](f\"./leakage_points_bigdata/f_copy_perms_{round_idx}_sost.pic\")\n",
    "    signal_strength.fit(traces, copy_perms_labels[round_idx, :PER_DIVISION], 0)"
   ]
  },
  {
   "cell_type": "markdown",
   "metadata": {},
   "source": [
    "## Round masks"
   ]
  },
  {
   "cell_type": "code",
   "execution_count": 6,
   "metadata": {},
   "outputs": [
    {
     "name": "stdout",
     "output_type": "stream",
     "text": [
      "97\r"
     ]
    }
   ],
   "source": [
    "for round_idx in range(EARLIEST_ROUND, LATEST_ROUND):\n",
    "    for block_idx in range(BLOCK_WIDTH_B4):\n",
    "        print(f\"{round_idx * BLOCK_WIDTH_B4 + block_idx}\", end=\"\\r\")\n",
    "        for share_idx in range(NR_SHARES):\n",
    "            signal_strength = SIGNAL_STRENGTHS_METHODS[\"SOST\"](f\"./leakage_points_bigdata/f_round_masks_{round_idx}_{block_idx}_{share_idx}_sost.pic\")\n",
    "            signal_strength.fit(traces, round_masks_labels[round_idx, block_idx, share_idx, :PER_DIVISION], 0)"
   ]
  },
  {
   "cell_type": "code",
   "execution_count": null,
   "metadata": {},
   "outputs": [],
   "source": [
    "for round_idx in range(EARLIEST_ROUND, LATEST_ROUND):\n",
    "    for block_idx in range(BLOCK_WIDTH_B4):\n",
    "        print(f\"{round_idx * BLOCK_WIDTH_B4 + block_idx}\", end=\"\\r\")\n",
    "        for share_idx in range(NR_SHARES):\n",
    "            signal_strength = SIGNAL_STRENGTHS_METHODS[\"SOST\"](f\"./leakage_points_haar_2/f_round_masks_{round_idx}_{block_idx}_{share_idx}_sost.pic\")\n",
    "            signal_strength.fit(wavelets, round_masks_labels[round_idx, block_idx, share_idx], 0)"
   ]
  },
  {
   "cell_type": "markdown",
   "metadata": {},
   "source": [
    "## Smaller windows"
   ]
  },
  {
   "cell_type": "code",
   "execution_count": 6,
   "metadata": {},
   "outputs": [],
   "source": [
    "RWS_WINDOW = np.arange(1100, 21500)\n",
    "ROUND_PERM_WINDOW = np.concatenate((\n",
    "        np.arange( 21750,  21800),\n",
    "        np.arange( 33925,  33975),\n",
    "        np.arange( 46250,  46300),\n",
    "        np.arange( 58550,  25600),\n",
    "        np.arange( 70860,  70910),\n",
    "        np.arange( 83180,  83230),\n",
    "        np.arange( 95480,  95530),\n",
    "        np.arange(107800, 107850),\n",
    "        np.arange(120110, 120160),\n",
    "        np.arange(132415, 132465),\n",
    "        np.arange(144725, 144775),\n",
    "        np.arange(157040, 157090),\n",
    "        np.arange(169350, 169400),\n",
    "        np.arange(181660, 181710),\n",
    "        np.arange(193960, 194010),\n",
    "    ), axis=0)\n",
    "ROUND_WINDOWS = np.stack((\n",
    "    np.arange( 21950,  23350), # Round 0\n",
    "    np.arange( 34250,  35650), # Round 1\n",
    "    np.arange( 46550,  47950), # Round 2\n",
    "    np.arange( 58850,  60250), # Round 3\n",
    "    np.arange( 71150,  72550), # Round 4\n",
    "    np.arange( 83500,  84900), # Round 5\n",
    "    np.arange( 95800,  97200), # Round 6\n",
    "    np.arange(108100, 109500), # Round 7\n",
    "    np.arange(120400, 121800), # Round 8\n",
    "    np.arange(132700, 134100), # Round 9\n",
    "    np.arange(145025, 146425), # Round 10\n",
    "    np.arange(157350, 158750), # Round 11\n",
    "    np.arange(169650, 171050), # Round 12\n",
    "    np.arange(181950, 183350), # Round 13\n",
    "), axis=0)\n",
    "#traces_rws_only = np.zeros((NUM_TRACES, len(RWS_WINDOW)), dtype=np.float16)\n",
    "#traces_round_perm_only = np.zeros((NUM_TRACES, len(ROUND_PERM_WINDOW)), dtype=np.float16)\n",
    "traces_rounds_i_only = np.zeros((ROUND_WINDOWS.shape[0], NUM_TRACES, ROUND_WINDOWS.shape[1]), dtype=np.float16)\n",
    "for j, (_, traces, _, _) in enumerate(data_loader((0,), (0,))):\n",
    "    traces = traces[0][0]\n",
    "    #traces_rws_only[j * PER_DIVISION:j * PER_DIVISION + traces.shape[0]] = traces[:, RWS_WINDOW]\n",
    "    #traces_round_perm_only[j * PER_DIVISION:j * PER_DIVISION + traces.shape[0]] = traces[:, ROUND_PERM_WINDOW]\n",
    "    for i in range(len(ROUND_WINDOWS)):\n",
    "        traces_rounds_i_only[i, j * PER_DIVISION:j * PER_DIVISION + traces.shape[0]] = traces[:, ROUND_WINDOWS[i]]\n",
    "    del traces"
   ]
  },
  {
   "cell_type": "code",
   "execution_count": 7,
   "metadata": {},
   "outputs": [
    {
     "data": {
      "text/plain": [
       "(array([399999], dtype=int64),)"
      ]
     },
     "execution_count": 7,
     "metadata": {},
     "output_type": "execute_result"
    }
   ],
   "source": [
    "np.where(np.all(traces_rws_only == 0, axis=-1)), np.where(np.all(traces_round_perm_only == 0, axis=-1)), np.where(np.all(traces_rounds_i_only == 0, axis=-1))"
   ]
  },
  {
   "cell_type": "code",
   "execution_count": 13,
   "metadata": {},
   "outputs": [],
   "source": [
    "traces_rws_only = np.concatenate((traces_rws_only[:399999], traces_rws_only[400000:]), axis=0)\n",
    "with open(\"traces_rws_only.pic\", \"wb\") as w:\n",
    "    pic.dump(traces_rws_only, w)"
   ]
  },
  {
   "cell_type": "code",
   "execution_count": 8,
   "metadata": {},
   "outputs": [],
   "source": [
    "traces_round_perm_only = np.concatenate((traces_round_perm_only[:399999], traces_round_perm_only[400000:]), axis=0)\n",
    "with open(\"traces_round_perm_only.pic\", \"wb\") as w:\n",
    "    pic.dump(traces_round_perm_only, w)"
   ]
  },
  {
   "cell_type": "code",
   "execution_count": 7,
   "metadata": {},
   "outputs": [],
   "source": [
    "for i in range(len(ROUND_WINDOWS)):\n",
    "    wout_empty_traces = np.concatenate((traces_rounds_i_only[i, :399999], traces_rounds_i_only[i, 400000:]), axis=0)\n",
    "    with open(f\"traces_round_{i}_adjusted_only.pic\", \"wb\") as w:\n",
    "        pic.dump(wout_empty_traces, w)"
   ]
  },
  {
   "cell_type": "code",
   "execution_count": null,
   "metadata": {},
   "outputs": [],
   "source": []
  },
  {
   "cell_type": "markdown",
   "metadata": {},
   "source": [
    "## Vizualisation"
   ]
  },
  {
   "cell_type": "code",
   "execution_count": 4,
   "metadata": {},
   "outputs": [],
   "source": [
    "import pickle as pic\n",
    "import plotly.express as px\n",
    "\n",
    "folder = \"leakage_points_bigdata\"\n",
    "all_plot_labels = []\n",
    "try:\n",
    "    with open(f\"./{folder}/f_rws_perms_sost.pic\", \"rb\") as r:\n",
    "        sig_rws = pic.load(r) / (KEYROUND_WIDTH_B4 * (KEYROUND_WIDTH_B4 - 1) / 2)\n",
    "    all_plot_labels.append(\"RWS perm\")\n",
    "except OSError:\n",
    "    sig_rws = None\n",
    "sig_masks_rws = []\n",
    "for keyround_idx in range(KEYROUND_WIDTH_B4):\n",
    "    for share_idx in range(NR_SHARES):\n",
    "        try:\n",
    "            with open(f\"./{folder}/f_rws_masks_{keyround_idx}_{share_idx}_sost.pic\", \"rb\") as r:\n",
    "                sig_masks_rws.append(pic.load(r) / (len(KEY_ALPHABET) * (len(KEY_ALPHABET) - 1) / 2))\n",
    "            all_plot_labels.append(f\"RWS mask {keyround_idx} {share_idx}\")\n",
    "        except OSError:\n",
    "            pass\n",
    "\n",
    "try:\n",
    "    with open(f\"./{folder}/f_round_perms_sost.pic\", \"rb\") as r:\n",
    "        sig_round_perm = pic.load(r) / ((KEYROUND_WIDTH_B4 // BLOCK_WIDTH_B4) * ((KEYROUND_WIDTH_B4 // BLOCK_WIDTH_B4) - 1) / 2)\n",
    "    all_plot_labels.append(\"Round perm\")\n",
    "except OSError:\n",
    "    sig_round_perm = None\n",
    "sig_copy_perms = []\n",
    "sig_masks_perms = []\n",
    "for round_idx in range(EARLIEST_ROUND, LATEST_ROUND):\n",
    "    try:\n",
    "        with open(f\"./{folder}/f_copy_perms_{round_idx}_sost.pic\", \"rb\") as r:\n",
    "            sig_copy_perms.append(pic.load(r) / (BLOCK_WIDTH_B4 * (BLOCK_WIDTH_B4 - 1) / 2))\n",
    "        all_plot_labels.append(f\"Copy perm {round_idx}\")\n",
    "    except OSError:\n",
    "        pass\n",
    "\n",
    "for round_idx in range(EARLIEST_ROUND, LATEST_ROUND):\n",
    "    for block_idx in range(BLOCK_WIDTH_B4):\n",
    "        for share_idx in range(NR_SHARES):\n",
    "            try:\n",
    "                with open(f\"./{folder}/f_round_masks_{round_idx}_{block_idx}_{share_idx}_sost.pic\", \"rb\") as r:\n",
    "                    sig_masks_perms.append(pic.load(r) / (len(KEY_ALPHABET) * (len(KEY_ALPHABET) - 1) / 2))\n",
    "                all_plot_labels.append(f\"Round mask {round_idx} {block_idx} {share_idx}\")\n",
    "            except OSError:\n",
    "                pass\n"
   ]
  },
  {
   "cell_type": "code",
   "execution_count": null,
   "metadata": {},
   "outputs": [],
   "source": [
    "# Haar 3\n",
    "trace_size = 25_000\n",
    "for it in range(0, trace_size, trace_size // 4):\n",
    "    everything = sig_masks_perms#([sig_rws] if sig_rws is not None else []) + sig_masks_rws + ([sig_round_perm] if sig_round_perm is not None else []) + sig_copy_perms + sig_masks_perms\n",
    "    everything = [sost[it:it+trace_size // 4] for sost in everything]\n",
    "    fig = px.line(y=everything)\n",
    "    plot_labs = {f'wide_variable_{i}': l for i, l in enumerate(all_plot_labels)}\n",
    "    fig.for_each_trace(lambda t: t.update(name = plot_labs[t.name], legendgroup = plot_labs[t.name], \n",
    "                                        hovertemplate = t.hovertemplate.replace(t.name, plot_labs[t.name])))\n",
    "    fig.update_layout(yaxis_range=[-1,100])\n",
    "    fig.show()"
   ]
  },
  {
   "cell_type": "code",
   "execution_count": null,
   "metadata": {},
   "outputs": [],
   "source": [
    "# Haar 2\n",
    "#trace_size = 50_000\n",
    "#for it in range(0, trace_size, trace_size // 4):\n",
    "#    everything = ([sig_rws] if sig_rws is not None else []) + sig_masks_rws + ([sig_round_perm] if sig_round_perm is not None else []) + sig_copy_perms + sig_masks_perms\n",
    "#    everything = [sost[it:it+trace_size // 4] for sost in everything]\n",
    "#    fig = px.line(y=everything)\n",
    "#    plot_labs = {f'wide_variable_{i}': l for i, l in enumerate(all_plot_labels)}\n",
    "#    fig.for_each_trace(lambda t: t.update(name = plot_labs[t.name], legendgroup = plot_labs[t.name], \n",
    "#                                        hovertemplate = t.hovertemplate.replace(t.name, plot_labs[t.name])))\n",
    "#    fig.update_layout(yaxis_range=[-1,50])\n",
    "#    fig.show()\n",
    "\n",
    "#everything = ([sig_rws] if sig_rws is not None else []) + sig_masks_rws + ([sig_round_perm] if sig_round_perm is not None else []) + sig_copy_perms + sig_masks_perms\n",
    "everything = [sig_round_perm] + sig_copy_perms + sig_masks_perms\n",
    "fig = px.line(y=everything)\n",
    "plot_labs = {f'wide_variable_{i}': l for i, l in enumerate(all_plot_labels)}\n",
    "fig.for_each_trace(lambda t: t.update(name = plot_labs[t.name], legendgroup = plot_labs[t.name], \n",
    "                                    hovertemplate = t.hovertemplate.replace(t.name, plot_labs[t.name])))\n",
    "fig.show()"
   ]
  },
  {
   "cell_type": "code",
   "execution_count": null,
   "metadata": {},
   "outputs": [],
   "source": [
    "# Original traces\n",
    "trace_size = 200_000\n",
    "for it in range(0, trace_size, trace_size // 4):\n",
    "    #everything = ([sig_rws] if sig_rws is not None else []) + sig_masks_rws + ([sig_round_perm] if sig_round_perm is not None else []) + sig_copy_perms + sig_masks_perms\n",
    "    everything = [sig_rws] + sig_masks_rws\n",
    "    everything = [sost[it:it+trace_size // 4] for sost in everything]\n",
    "    fig = px.line(y=everything)\n",
    "    plot_labs = {f'wide_variable_{i}': l for i, l in enumerate(all_plot_labels)}\n",
    "    fig.for_each_trace(lambda t: t.update(name = plot_labs[t.name], legendgroup = plot_labs[t.name], \n",
    "                                        hovertemplate = t.hovertemplate.replace(t.name, plot_labs[t.name])))\n",
    "    fig.show()\n",
    "    break"
   ]
  },
  {
   "cell_type": "code",
   "execution_count": null,
   "metadata": {},
   "outputs": [],
   "source": []
  }
 ],
 "metadata": {
  "kernelspec": {
   "display_name": ".venv",
   "language": "python",
   "name": "python3"
  },
  "language_info": {
   "codemirror_mode": {
    "name": "ipython",
    "version": 3
   },
   "file_extension": ".py",
   "mimetype": "text/x-python",
   "name": "python",
   "nbconvert_exporter": "python",
   "pygments_lexer": "ipython3",
   "version": "3.12.2"
  }
 },
 "nbformat": 4,
 "nbformat_minor": 2
}
