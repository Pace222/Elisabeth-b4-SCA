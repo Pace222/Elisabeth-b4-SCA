{
 "cells": [
  {
   "cell_type": "code",
   "execution_count": 1,
   "metadata": {},
   "outputs": [],
   "source": [
    "%load_ext autoreload"
   ]
  },
  {
   "cell_type": "code",
   "execution_count": 2,
   "metadata": {},
   "outputs": [],
   "source": [
    "%autoreload 2"
   ]
  },
  {
   "cell_type": "code",
   "execution_count": 1,
   "metadata": {},
   "outputs": [],
   "source": [
    "import numpy as np\n",
    "import matplotlib.pyplot as plt\n",
    "import pywt"
   ]
  },
  {
   "cell_type": "code",
   "execution_count": 2,
   "metadata": {},
   "outputs": [],
   "source": [
    "import pickle as pic\n",
    "from itertools import product"
   ]
  },
  {
   "cell_type": "code",
   "execution_count": 3,
   "metadata": {},
   "outputs": [],
   "source": [
    "from utils import *\n",
    "from templates import *\n",
    "from signal_strength import SIGNAL_STRENGTHS_METHODS\n",
    "from data_loader import EntireTraceIterator"
   ]
  },
  {
   "cell_type": "code",
   "execution_count": 4,
   "metadata": {},
   "outputs": [],
   "source": [
    "with open(\"wavelets_haar_2.pic\", \"rb\") as r:\n",
    "    wavelets = pic.load(r)\n",
    "with open(\"labels.pic\", \"rb\") as r:\n",
    "    rws_perms_labels, round_perms_labels, copy_perms_labels, rws_masks_labels, round_masks_labels = pic.load(r)"
   ]
  },
  {
   "cell_type": "code",
   "execution_count": 5,
   "metadata": {},
   "outputs": [],
   "source": [
    "traces_path = \"..\\\\acquisition\\\\739094_maskshuffle_allrounds\\\\carto_eB4-Rnd-3-WhiteningAndFullFilter-Masking-Shuffling.mat\"\n",
    "key_path = \"..\\\\acquisition\\\\739094_maskshuffle_allrounds\\\\carto_eB4-Rnd-3-WhiteningAndFullFilter-Masking-Shuffling.log\""
   ]
  },
  {
   "cell_type": "code",
   "execution_count": 7,
   "metadata": {},
   "outputs": [],
   "source": [
    "NUM_TRACES = 739_094\n",
    "TRACE_SIZE = 200_000\n",
    "PER_DIVISION = 250_000\n",
    "data_loader = EntireTraceIterator(traces_path, key_path, nr_populations=1, nr_scenarios=1, trace_size=TRACE_SIZE, traces_per_division=PER_DIVISION, parse_output=\"keyshares+perms\")"
   ]
  },
  {
   "cell_type": "markdown",
   "metadata": {},
   "source": [
    "## Wavelets"
   ]
  },
  {
   "cell_type": "code",
   "execution_count": 8,
   "metadata": {},
   "outputs": [],
   "source": [
    "for j, (_, traces, _, _) in enumerate(data_loader((0,), (0,))):\n",
    "    traces = traces[0][0]\n",
    "    for i in range(0, PER_DIVISION, PER_DIVISION // 10):\n",
    "        wavelet = pywt.wavedec(traces[i:i + PER_DIVISION // 10], 'haar', level=2)[0]\n",
    "        with open(f\"./wavelets_haar_2/wavelet_{(j+2) * PER_DIVISION + i}_{(j+2) * PER_DIVISION + i + PER_DIVISION // 10}.pic\", \"wb\") as w:\n",
    "            pic.dump(wavelet, w)\n",
    "    del traces"
   ]
  },
  {
   "cell_type": "code",
   "execution_count": 9,
   "metadata": {},
   "outputs": [],
   "source": [
    "wavelets = np.zeros((NUM_TRACES, 50000), dtype=np.float16)\n",
    "for div in range(0, 750000, 25000):\n",
    "    filepath = f\"./wavelets_haar_2/wavelet_{div}_{div + 25000}.pic\"\n",
    "    with open(filepath, \"rb\") as r:\n",
    "        wavelet = pic.load(r)\n",
    "    wavelets[div:div+wavelet.shape[0]] = np.float16(wavelet)"
   ]
  },
  {
   "cell_type": "code",
   "execution_count": 11,
   "metadata": {},
   "outputs": [
    {
     "data": {
      "text/plain": [
       "(array([499999], dtype=int64),)"
      ]
     },
     "execution_count": 11,
     "metadata": {},
     "output_type": "execute_result"
    }
   ],
   "source": [
    "np.where(np.all(wavelets == 0, axis=1))"
   ]
  },
  {
   "cell_type": "code",
   "execution_count": 12,
   "metadata": {},
   "outputs": [],
   "source": [
    "wavelets = np.concatenate((wavelets[:499999], wavelets[500000:]), axis=0)\n"
   ]
  },
  {
   "cell_type": "code",
   "execution_count": 13,
   "metadata": {},
   "outputs": [],
   "source": [
    "with open(\"wavelets_haar_2.pic\", \"wb\") as w:\n",
    "    pic.dump(wavelets, w)"
   ]
  },
  {
   "cell_type": "markdown",
   "metadata": {},
   "source": [
    "## Labels"
   ]
  },
  {
   "cell_type": "code",
   "execution_count": 14,
   "metadata": {},
   "outputs": [],
   "source": [
    "rws_perms_labels = np.zeros(NUM_TRACES, dtype=int)\n",
    "rws_masks_labels = np.zeros((KEYROUND_WIDTH_B4, NR_SHARES, NUM_TRACES), dtype=int)\n",
    "round_perms_labels = np.zeros(NUM_TRACES, dtype=int)\n",
    "copy_perms_labels = np.zeros((LATEST_ROUND - EARLIEST_ROUND, NUM_TRACES), dtype=int)\n",
    "round_masks_labels = np.zeros((LATEST_ROUND - EARLIEST_ROUND, BLOCK_WIDTH_B4, NR_SHARES, NUM_TRACES), dtype=int)\n",
    "\n",
    "for j, (seeds_sub, key, output_sub) in enumerate(data_loader((0,), (0,), return_traces=False)):\n",
    "    rws_perms, rws_masks, round_perms, copy_perms, round_masks = get_all_labels(seeds_sub[0][0], key[0], output_sub[0][0])\n",
    "    rws_perms_labels[..., j * PER_DIVISION:j * PER_DIVISION + rws_perms.shape[-1]] = rws_perms\n",
    "    rws_masks_labels[..., j * PER_DIVISION:j * PER_DIVISION + rws_masks.shape[-1]] = rws_masks\n",
    "    round_perms_labels[..., j * PER_DIVISION:j * PER_DIVISION + round_perms.shape[-1]] = round_perms\n",
    "    copy_perms_labels[..., j * PER_DIVISION:j * PER_DIVISION + copy_perms.shape[-1]] = copy_perms\n",
    "    round_masks_labels[..., j * PER_DIVISION:j * PER_DIVISION + round_masks.shape[-1]] = round_masks"
   ]
  },
  {
   "cell_type": "code",
   "execution_count": 35,
   "metadata": {},
   "outputs": [],
   "source": [
    "rws_perms_labels = np.concatenate((rws_perms_labels[..., :499999], rws_perms_labels[..., 500000:]), axis=-1)\n",
    "rws_masks_labels = np.concatenate((rws_masks_labels[..., :499999], rws_masks_labels[..., 500000:]), axis=-1)\n",
    "round_perms_labels = np.concatenate((round_perms_labels[..., :499999], round_perms_labels[..., 500000:]), axis=-1)\n",
    "copy_perms_labels = np.concatenate((copy_perms_labels[..., :499999], copy_perms_labels[..., 500000:]), axis=-1)\n",
    "round_masks_labels = np.concatenate((round_masks_labels[..., :499999], round_masks_labels[..., 500000:]), axis=-1)"
   ]
  },
  {
   "cell_type": "code",
   "execution_count": 37,
   "metadata": {},
   "outputs": [],
   "source": [
    "with open(\"labels.pic\", \"wb\") as w:\n",
    "    pic.dump((rws_perms_labels, round_perms_labels, copy_perms_labels, rws_masks_labels, round_masks_labels), w)"
   ]
  },
  {
   "cell_type": "markdown",
   "metadata": {},
   "source": [
    "## RWS permutations"
   ]
  },
  {
   "cell_type": "code",
   "execution_count": null,
   "metadata": {},
   "outputs": [],
   "source": [
    "signal_strength = SIGNAL_STRENGTHS_METHODS[\"SOST\"](\"./leakage_points_haar_2/f_rws_perms_sost.pic\")\n",
    "signal_strength.fit(wavelets, rws_perms_labels, 0)"
   ]
  },
  {
   "cell_type": "markdown",
   "metadata": {},
   "source": [
    "## RWS masks"
   ]
  },
  {
   "cell_type": "code",
   "execution_count": null,
   "metadata": {},
   "outputs": [],
   "source": [
    "for keyround_idx in range(KEYROUND_WIDTH_B4):\n",
    "    print(f\"{keyround_idx}\", end=\"\\r\")\n",
    "    for share_idx in range(NR_SHARES):\n",
    "        signal_strength = SIGNAL_STRENGTHS_METHODS[\"SOST\"](f\"./leakage_points_haar_2/f_rws_masks_{keyround_idx}_{share_idx}_sost.pic\")\n",
    "        signal_strength.fit(wavelets, rws_masks_labels[keyround_idx, share_idx], 0)"
   ]
  },
  {
   "cell_type": "markdown",
   "metadata": {},
   "source": [
    "## Round permutations"
   ]
  },
  {
   "cell_type": "code",
   "execution_count": null,
   "metadata": {},
   "outputs": [],
   "source": [
    "signal_strength = SIGNAL_STRENGTHS_METHODS[\"SOST\"](\"./leakage_points_haar_2/f_round_perms_sost.pic\")\n",
    "signal_strength.fit(wavelets, round_perms_labels, 0)"
   ]
  },
  {
   "cell_type": "markdown",
   "metadata": {},
   "source": [
    "## Copy permutations"
   ]
  },
  {
   "cell_type": "code",
   "execution_count": null,
   "metadata": {},
   "outputs": [],
   "source": [
    "for round_idx in range(EARLIEST_ROUND, LATEST_ROUND):\n",
    "    print(f\"{round_idx}\", end=\"\\r\")\n",
    "    signal_strength = SIGNAL_STRENGTHS_METHODS[\"SOST\"](f\"./leakage_points_haar_2/f_copy_perms_{round_idx}_sost.pic\")\n",
    "    signal_strength.fit(wavelets, copy_perms_labels[round_idx], 0)"
   ]
  },
  {
   "cell_type": "markdown",
   "metadata": {},
   "source": [
    "## Round masks"
   ]
  },
  {
   "cell_type": "code",
   "execution_count": 6,
   "metadata": {},
   "outputs": [
    {
     "name": "stdout",
     "output_type": "stream",
     "text": [
      "97\r"
     ]
    }
   ],
   "source": [
    "NUM_TRACES = 739_094\n",
    "TRACE_SIZE = 200_000\n",
    "PER_DIVISION = 320_000\n",
    "data_loader = EntireTraceIterator(traces_path, key_path, nr_populations=1, nr_scenarios=1, trace_size=TRACE_SIZE, traces_per_division=PER_DIVISION, parse_output=\"keyshares+perms\")\n",
    "for j, (_, traces, _, _) in enumerate(data_loader((0,), (0,))):\n",
    "    for round_idx in range(EARLIEST_ROUND, LATEST_ROUND):\n",
    "        for block_idx in range(BLOCK_WIDTH_B4):\n",
    "            print(f\"{round_idx * BLOCK_WIDTH_B4 + block_idx}\", end=\"\\r\")\n",
    "            for share_idx in range(NR_SHARES):\n",
    "                signal_strength = SIGNAL_STRENGTHS_METHODS[\"SOST\"](f\"./leakage_points_bigdata/f_round_masks_{round_idx}_{block_idx}_{share_idx}_sost.pic\")\n",
    "                signal_strength.fit(traces[0][0], round_masks_labels[round_idx, block_idx, share_idx, :PER_DIVISION], 0)\n",
    "    break"
   ]
  },
  {
   "cell_type": "code",
   "execution_count": null,
   "metadata": {},
   "outputs": [],
   "source": [
    "for round_idx in range(EARLIEST_ROUND, LATEST_ROUND):\n",
    "    for block_idx in range(BLOCK_WIDTH_B4):\n",
    "        print(f\"{round_idx * BLOCK_WIDTH_B4 + block_idx}\", end=\"\\r\")\n",
    "        for share_idx in range(NR_SHARES):\n",
    "            signal_strength = SIGNAL_STRENGTHS_METHODS[\"SOST\"](f\"./leakage_points_haar_2/f_round_masks_{round_idx}_{block_idx}_{share_idx}_sost.pic\")\n",
    "            signal_strength.fit(wavelets, round_masks_labels[round_idx, block_idx, share_idx], 0)"
   ]
  },
  {
   "cell_type": "markdown",
   "metadata": {},
   "source": [
    "## Vizualisation"
   ]
  },
  {
   "cell_type": "code",
   "execution_count": 4,
   "metadata": {},
   "outputs": [],
   "source": [
    "import pickle as pic\n",
    "import plotly.express as px\n",
    "\n",
    "folder = \"leakage_points_haar_2\"\n",
    "all_plot_labels = []\n",
    "try:\n",
    "    with open(f\"./{folder}/f_rws_perms_sost.pic\", \"rb\") as r:\n",
    "        sig_rws = pic.load(r) / (KEYROUND_WIDTH_B4 * (KEYROUND_WIDTH_B4 - 1) / 2)\n",
    "    all_plot_labels.append(\"RWS perm\")\n",
    "except OSError:\n",
    "    sig_rws = None\n",
    "sig_masks_rws = []\n",
    "for keyround_idx in range(KEYROUND_WIDTH_B4):\n",
    "    for share_idx in range(NR_SHARES):\n",
    "        try:\n",
    "            with open(f\"./{folder}/f_rws_masks_{keyround_idx}_{share_idx}_sost.pic\", \"rb\") as r:\n",
    "                sig_masks_rws.append(pic.load(r) / (len(KEY_ALPHABET) * (len(KEY_ALPHABET) - 1) / 2))\n",
    "            all_plot_labels.append(f\"RWS mask {keyround_idx} {share_idx}\")\n",
    "        except OSError:\n",
    "            pass\n",
    "\n",
    "try:\n",
    "    with open(f\"./{folder}/f_round_perms_sost.pic\", \"rb\") as r:\n",
    "        sig_round_perm = pic.load(r) / ((KEYROUND_WIDTH_B4 // BLOCK_WIDTH_B4) * ((KEYROUND_WIDTH_B4 // BLOCK_WIDTH_B4) - 1) / 2)\n",
    "    all_plot_labels.append(\"Round perm\")\n",
    "except OSError:\n",
    "    sig_round_perm = None\n",
    "sig_copy_perms = []\n",
    "sig_masks_perms = []\n",
    "for round_idx in range(EARLIEST_ROUND, LATEST_ROUND):\n",
    "    try:\n",
    "        with open(f\"./{folder}/f_copy_perms_{round_idx}_sost.pic\", \"rb\") as r:\n",
    "            sig_copy_perms.append(pic.load(r) / (BLOCK_WIDTH_B4 * (BLOCK_WIDTH_B4 - 1) / 2))\n",
    "        all_plot_labels.append(f\"Copy perm {round_idx}\")\n",
    "    except OSError:\n",
    "        pass\n",
    "\n",
    "for round_idx in range(EARLIEST_ROUND, LATEST_ROUND):\n",
    "    for block_idx in range(BLOCK_WIDTH_B4):\n",
    "        for share_idx in range(NR_SHARES):\n",
    "            try:\n",
    "                with open(f\"./{folder}/f_round_masks_{round_idx}_{block_idx}_{share_idx}_sost.pic\", \"rb\") as r:\n",
    "                    sig_masks_perms.append(pic.load(r) / (len(KEY_ALPHABET) * (len(KEY_ALPHABET) - 1) / 2))\n",
    "                all_plot_labels.append(f\"Round mask {round_idx} {block_idx} {share_idx}\")\n",
    "            except OSError:\n",
    "                pass\n"
   ]
  },
  {
   "cell_type": "code",
   "execution_count": null,
   "metadata": {},
   "outputs": [],
   "source": [
    "# Haar 3\n",
    "trace_size = 25_000\n",
    "for it in range(0, trace_size, trace_size // 4):\n",
    "    everything = sig_masks_perms#([sig_rws] if sig_rws is not None else []) + sig_masks_rws + ([sig_round_perm] if sig_round_perm is not None else []) + sig_copy_perms + sig_masks_perms\n",
    "    everything = [sost[it:it+trace_size // 4] for sost in everything]\n",
    "    fig = px.line(y=everything)\n",
    "    plot_labs = {f'wide_variable_{i}': l for i, l in enumerate(all_plot_labels)}\n",
    "    fig.for_each_trace(lambda t: t.update(name = plot_labs[t.name], legendgroup = plot_labs[t.name], \n",
    "                                        hovertemplate = t.hovertemplate.replace(t.name, plot_labs[t.name])))\n",
    "    fig.update_layout(yaxis_range=[-1,100])\n",
    "    fig.show()"
   ]
  },
  {
   "cell_type": "code",
   "execution_count": null,
   "metadata": {},
   "outputs": [],
   "source": [
    "# Haar 2\n",
    "#trace_size = 50_000\n",
    "#for it in range(0, trace_size, trace_size // 4):\n",
    "#    everything = ([sig_rws] if sig_rws is not None else []) + sig_masks_rws + ([sig_round_perm] if sig_round_perm is not None else []) + sig_copy_perms + sig_masks_perms\n",
    "#    everything = [sost[it:it+trace_size // 4] for sost in everything]\n",
    "#    fig = px.line(y=everything)\n",
    "#    plot_labs = {f'wide_variable_{i}': l for i, l in enumerate(all_plot_labels)}\n",
    "#    fig.for_each_trace(lambda t: t.update(name = plot_labs[t.name], legendgroup = plot_labs[t.name], \n",
    "#                                        hovertemplate = t.hovertemplate.replace(t.name, plot_labs[t.name])))\n",
    "#    fig.update_layout(yaxis_range=[-1,50])\n",
    "#    fig.show()\n",
    "\n",
    "#everything = ([sig_rws] if sig_rws is not None else []) + sig_masks_rws + ([sig_round_perm] if sig_round_perm is not None else []) + sig_copy_perms + sig_masks_perms\n",
    "everything = sig_masks_perms\n",
    "fig = px.line(y=everything)\n",
    "plot_labs = {f'wide_variable_{i}': l for i, l in enumerate(all_plot_labels)}\n",
    "fig.for_each_trace(lambda t: t.update(name = plot_labs[t.name], legendgroup = plot_labs[t.name], \n",
    "                                    hovertemplate = t.hovertemplate.replace(t.name, plot_labs[t.name])))\n",
    "fig.show()"
   ]
  },
  {
   "cell_type": "code",
   "execution_count": null,
   "metadata": {},
   "outputs": [],
   "source": [
    "# Original traces\n",
    "trace_size = 200_000\n",
    "for it in range(0, trace_size, trace_size // 4):\n",
    "    everything = ([sig_rws] if sig_rws is not None else []) + sig_masks_rws + ([sig_round_perm] if sig_round_perm is not None else []) + sig_copy_perms + sig_masks_perms\n",
    "    everything = [sost[it:it+trace_size // 4] for sost in everything]\n",
    "    fig = px.line(y=everything)\n",
    "    plot_labs = {f'wide_variable_{i}': l for i, l in enumerate(all_plot_labels)}\n",
    "    fig.for_each_trace(lambda t: t.update(name = plot_labs[t.name], legendgroup = plot_labs[t.name], \n",
    "                                        hovertemplate = t.hovertemplate.replace(t.name, plot_labs[t.name])))\n",
    "    fig.show()"
   ]
  },
  {
   "cell_type": "code",
   "execution_count": null,
   "metadata": {},
   "outputs": [],
   "source": []
  }
 ],
 "metadata": {
  "kernelspec": {
   "display_name": ".venv",
   "language": "python",
   "name": "python3"
  },
  "language_info": {
   "codemirror_mode": {
    "name": "ipython",
    "version": 3
   },
   "file_extension": ".py",
   "mimetype": "text/x-python",
   "name": "python",
   "nbconvert_exporter": "python",
   "pygments_lexer": "ipython3",
   "version": "3.12.2"
  }
 },
 "nbformat": 4,
 "nbformat_minor": 2
}
