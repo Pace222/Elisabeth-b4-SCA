{
 "cells": [
  {
   "cell_type": "code",
   "execution_count": 1,
   "metadata": {},
   "outputs": [],
   "source": [
    "%load_ext autoreload"
   ]
  },
  {
   "cell_type": "code",
   "execution_count": 2,
   "metadata": {},
   "outputs": [],
   "source": [
    "%autoreload 2"
   ]
  },
  {
   "cell_type": "code",
   "execution_count": 3,
   "metadata": {},
   "outputs": [],
   "source": [
    "import numpy as np"
   ]
  },
  {
   "cell_type": "code",
   "execution_count": 4,
   "metadata": {},
   "outputs": [],
   "source": [
    "from utils import *\n",
    "from signal_strength import SIGNAL_STRENGTHS_METHODS\n",
    "from templates import b4_gridsearch_cv"
   ]
  },
  {
   "cell_type": "code",
   "execution_count": 5,
   "metadata": {},
   "outputs": [],
   "source": [
    "traces_path = \"..\\\\acquisition\\\\395134_maskshuffle\\\\carto_eB4-Rnd-3-WhiteningAndFullFilter-Masking-Shuffling.mat\"\n",
    "key_path = \"..\\\\acquisition\\\\395134_maskshuffle\\\\carto_eB4-Rnd-3-WhiteningAndFullFilter-Masking-Shuffling.log\""
   ]
  },
  {
   "cell_type": "code",
   "execution_count": 6,
   "metadata": {},
   "outputs": [],
   "source": [
    "NUM_TRACES = 395_134\n",
    "TRACE_SIZE = 80_000\n",
    "data_loader = EntireTraceIterator(traces_path, key_path, nr_populations=1, nr_scenarios=1, trace_size=TRACE_SIZE, traces_per_division=NUM_TRACES, parse_output=\"perms\")"
   ]
  },
  {
   "cell_type": "code",
   "execution_count": 7,
   "metadata": {},
   "outputs": [],
   "source": [
    "seeds_total, traces_total, key, perms_total = data_loader((0,), (0,)).full(NUM_TRACES)"
   ]
  },
  {
   "cell_type": "code",
   "execution_count": 8,
   "metadata": {},
   "outputs": [],
   "source": [
    "EARLIEST_ROUND = 0\n",
    "LATEST_ROUND = 1"
   ]
  },
  {
   "cell_type": "code",
   "execution_count": 9,
   "metadata": {},
   "outputs": [],
   "source": [
    "KEY_ALPHABET = list(range(16))"
   ]
  },
  {
   "cell_type": "markdown",
   "metadata": {},
   "source": [
    "# Focus on first round's copy only"
   ]
  },
  {
   "cell_type": "code",
   "execution_count": 10,
   "metadata": {},
   "outputs": [],
   "source": [
    "first_round_labels = perms_total[:, 1]\n",
    "copy_first_round_labels = perms_total[:, 2]"
   ]
  },
  {
   "cell_type": "code",
   "execution_count": 13,
   "metadata": {},
   "outputs": [],
   "source": [
    "n_folds = 5\n",
    "train_sizes = [350_000]\n",
    "val_sizes = [5_134]\n",
    "num_features = [20, 60, 120]\n",
    "signal_strengths = [\n",
    "    #SIGNAL_STRENGTHS_METHODS[\"SNR\"](\"f_5_350000_5134_snr.pic\"),\n",
    "    #SIGNAL_STRENGTHS_METHODS[\"PCA\"](\"f_5_350000_5134_pca.pic\"),\n",
    "    #SIGNAL_STRENGTHS_METHODS[\"SOST\"](\"f_5_350000_5134_sost.pic\"),\n",
    "    #SIGNAL_STRENGTHS_METHODS[\"CORR\"](\"f_5_350000_5134_corr.pic\"),\n",
    "    SIGNAL_STRENGTHS_METHODS[\"DOM\"](\"f_5_350000_5134_dom.pic\"),\n",
    "]"
   ]
  },
  {
   "cell_type": "code",
   "execution_count": 14,
   "metadata": {},
   "outputs": [
    {
     "name": "stdout",
     "output_type": "stream",
     "text": [
      "DOM [num features: 20, train size: 350000, val size: 5134]: 0.000 ± 0.000 ([0. 0. 0. 0. 0.]). Training in 6.166 ± 11.46 seconds.\n",
      "DOM [num features: 60, train size: 350000, val size: 5134]: 0.000 ± 0.000 ([0. 0. 0. 0. 0.]). Training in 0.6238 ± 0.008204 seconds.\n",
      "DOM [num features: 120, train size: 350000, val size: 5134]: 0.000 ± 0.000 ([0. 0. 0. 0. 0.]). Training in 1.544 ± 0.01356 seconds.\n",
      "CV 1\r"
     ]
    },
    {
     "ename": "KeyboardInterrupt",
     "evalue": "",
     "output_type": "error",
     "traceback": [
      "\u001b[1;31m---------------------------------------------------------------------------\u001b[0m",
      "\u001b[1;31mKeyboardInterrupt\u001b[0m                         Traceback (most recent call last)",
      "Cell \u001b[1;32mIn[14], line 2\u001b[0m\n\u001b[0;32m      1\u001b[0m times_first_round, results_first_round \u001b[38;5;241m=\u001b[39m b4_gridsearch_cv(signal_strengths, n_folds, train_sizes, val_sizes, num_features, traces_total, first_round_labels)\n\u001b[1;32m----> 2\u001b[0m times_copy_first_round, results_copy_first_round \u001b[38;5;241m=\u001b[39m \u001b[43mb4_gridsearch_cv\u001b[49m\u001b[43m(\u001b[49m\u001b[43msignal_strengths\u001b[49m\u001b[43m,\u001b[49m\u001b[43m \u001b[49m\u001b[43mn_folds\u001b[49m\u001b[43m,\u001b[49m\u001b[43m \u001b[49m\u001b[43mtrain_sizes\u001b[49m\u001b[43m,\u001b[49m\u001b[43m \u001b[49m\u001b[43mval_sizes\u001b[49m\u001b[43m,\u001b[49m\u001b[43m \u001b[49m\u001b[43mnum_features\u001b[49m\u001b[43m,\u001b[49m\u001b[43m \u001b[49m\u001b[43mtraces_total\u001b[49m\u001b[43m,\u001b[49m\u001b[43m \u001b[49m\u001b[43mcopy_first_round_labels\u001b[49m\u001b[43m)\u001b[49m\n",
      "File \u001b[1;32mc:\\Users\\Kudelski\\Documents\\Pierugo-PDM-2024\\protected_side_channel_attack\\templates.py:48\u001b[0m, in \u001b[0;36mb4_gridsearch_cv\u001b[1;34m(signal_strengths, n_folds, train_sizes, val_sizes, num_features, traces_total, labels_total)\u001b[0m\n\u001b[0;32m     45\u001b[0m traces_train, traces_val \u001b[38;5;241m=\u001b[39m traces_trainval[train_index], traces_trainval[val_index]\n\u001b[0;32m     46\u001b[0m labels_train, labels_val \u001b[38;5;241m=\u001b[39m labels_trainval[train_index], labels_trainval[val_index]\n\u001b[1;32m---> 48\u001b[0m start \u001b[38;5;241m=\u001b[39m \u001b[43mtime\u001b[49m\u001b[43m(\u001b[49m\u001b[43m)\u001b[49m\n\u001b[0;32m     49\u001b[0m sig_strength\u001b[38;5;241m.\u001b[39mfit(traces_train, labels_train, n_feat)\n\u001b[0;32m     50\u001b[0m features_train \u001b[38;5;241m=\u001b[39m sig_strength\u001b[38;5;241m.\u001b[39mtransform(traces_train)\n",
      "\u001b[1;31mKeyboardInterrupt\u001b[0m: "
     ]
    }
   ],
   "source": [
    "times_first_round, results_first_round = b4_gridsearch_cv(signal_strengths, n_folds, train_sizes, val_sizes, num_features, traces_total, first_round_labels)\n",
    "times_copy_first_round, results_copy_first_round = b4_gridsearch_cv(signal_strengths, n_folds, train_sizes, val_sizes, num_features, traces_total, copy_first_round_labels)"
   ]
  },
  {
   "cell_type": "code",
   "execution_count": null,
   "metadata": {},
   "outputs": [],
   "source": []
  },
  {
   "cell_type": "code",
   "execution_count": null,
   "metadata": {},
   "outputs": [],
   "source": []
  }
 ],
 "metadata": {
  "kernelspec": {
   "display_name": ".venv",
   "language": "python",
   "name": "python3"
  },
  "language_info": {
   "codemirror_mode": {
    "name": "ipython",
    "version": 3
   },
   "file_extension": ".py",
   "mimetype": "text/x-python",
   "name": "python",
   "nbconvert_exporter": "python",
   "pygments_lexer": "ipython3",
   "version": "3.12.2"
  }
 },
 "nbformat": 4,
 "nbformat_minor": 2
}
