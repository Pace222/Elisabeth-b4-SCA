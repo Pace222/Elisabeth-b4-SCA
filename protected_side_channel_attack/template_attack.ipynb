{
 "cells": [
  {
   "cell_type": "code",
   "execution_count": 1,
   "metadata": {},
   "outputs": [],
   "source": [
    "import numpy as np\n",
    "\n",
    "from scipy.stats import multivariate_normal\n",
    "\n",
    "from sklearn.base import ClassifierMixin\n",
    "from sklearn.model_selection import train_test_split, ShuffleSplit\n",
    "from sklearn.ensemble import RandomForestClassifier, HistGradientBoostingClassifier\n",
    "from sklearn.svm import SVC, LinearSVC"
   ]
  },
  {
   "cell_type": "code",
   "execution_count": 2,
   "metadata": {},
   "outputs": [],
   "source": [
    "from time import time\n",
    "from typing import List\n",
    "from itertools import product"
   ]
  },
  {
   "cell_type": "code",
   "execution_count": 3,
   "metadata": {},
   "outputs": [],
   "source": [
    "from utils import *"
   ]
  },
  {
   "cell_type": "code",
   "execution_count": 4,
   "metadata": {},
   "outputs": [],
   "source": [
    "traces_path = \"..\\\\acquisition\\\\50000_same_varying-mask_nullmask_maskshuffle\\\\carto_eB4-Rnd-3-WhiteningAndFullFilter-Same-And-Varying-Multiple-Defenses.mat\"\n",
    "key_path = \"..\\\\acquisition\\\\50000_same_varying-mask_nullmask_maskshuffle\\\\carto_eB4-Rnd-3-WhiteningAndFullFilter-Same-And-Varying-Multiple-Defenses.log\""
   ]
  },
  {
   "cell_type": "code",
   "execution_count": 5,
   "metadata": {},
   "outputs": [],
   "source": [
    "data_loader = EntireTraceIterator(traces_path, key_path, nr_populations=2, nr_scenarios=1)"
   ]
  },
  {
   "cell_type": "code",
   "execution_count": 6,
   "metadata": {},
   "outputs": [],
   "source": [
    "EARLIEST_ROUND = 0"
   ]
  },
  {
   "cell_type": "code",
   "execution_count": 7,
   "metadata": {},
   "outputs": [],
   "source": [
    "KEY_ALPHABET = list(range(16))"
   ]
  },
  {
   "cell_type": "markdown",
   "metadata": {},
   "source": [
    "## Profiling stage"
   ]
  },
  {
   "cell_type": "markdown",
   "metadata": {},
   "source": [
    "#### SOST"
   ]
  },
  {
   "cell_type": "code",
   "execution_count": 8,
   "metadata": {},
   "outputs": [],
   "source": [
    "def sost_masks_card_m_v_y_subsample(seeds_sub: np.ndarray, key_shares_sub: np.ndarray, traces_sub: np.ndarray):\n",
    "    assert seeds_sub.shape[0] == traces_sub.shape[0]\n",
    "    assert key_shares_sub.shape == (KEY_WIDTH_B4, NR_SHARES)\n",
    "    card_g = np.zeros((KEYROUND_WIDTH_B4 // BLOCK_WIDTH_B4, BLOCK_WIDTH_B4, NR_SHARES, len(KEY_ALPHABET), 1), dtype=np.int32)\n",
    "    m = np.zeros((KEYROUND_WIDTH_B4 // BLOCK_WIDTH_B4, BLOCK_WIDTH_B4, NR_SHARES, len(KEY_ALPHABET), traces_sub.shape[1]), dtype=np.float32)\n",
    "    v = np.zeros((KEYROUND_WIDTH_B4 // BLOCK_WIDTH_B4, BLOCK_WIDTH_B4, NR_SHARES, len(KEY_ALPHABET), traces_sub.shape[1]), dtype=np.float64)\n",
    "    y = np.zeros((KEYROUND_WIDTH_B4 // BLOCK_WIDTH_B4, BLOCK_WIDTH_B4, NR_SHARES, traces_sub.shape[0]), dtype=int)\n",
    "\n",
    "    for seed, (trace_idx, trace) in zip(seeds_sub, enumerate(traces_sub)):\n",
    "        indices, whitening = chacha_random_b4(seed)\n",
    "\n",
    "        for round_idx in range(EARLIEST_ROUND, KEYROUND_WIDTH_B4 // BLOCK_WIDTH_B4):\n",
    "            for block_idx in range(BLOCK_WIDTH_B4):\n",
    "                keyround_index = round_idx * BLOCK_WIDTH_B4 + block_idx\n",
    "\n",
    "                shares = np.zeros(NR_SHARES, dtype=int)\n",
    "                for share_idx in range(shares.shape[0] - 1):\n",
    "                    shares[share_idx] = key_shares_sub[indices[keyround_index], share_idx]\n",
    "                shares[-1] = (key_shares_sub[indices[keyround_index], -1] + whitening[keyround_index]) % 16\n",
    "\n",
    "                for share_idx, share in enumerate(shares):\n",
    "                    card_g[round_idx, block_idx, share_idx, share, 0] += 1\n",
    "                    m[round_idx, block_idx, share_idx, share] += trace\n",
    "                    v[round_idx, block_idx, share_idx, share] += np.square(trace.astype(np.float64))\n",
    "\n",
    "                    y[round_idx, block_idx, share_idx, trace_idx] = share\n",
    "    \n",
    "    return card_g, m, v, y"
   ]
  },
  {
   "cell_type": "code",
   "execution_count": 9,
   "metadata": {},
   "outputs": [],
   "source": [
    "def sost_combine_subsamples(card_g: np.ndarray, m: np.ndarray, v: np.ndarray) -> np.ndarray:\n",
    "    assert card_g.shape == (KEYROUND_WIDTH_B4 // BLOCK_WIDTH_B4, BLOCK_WIDTH_B4, NR_SHARES, len(KEY_ALPHABET), 1)\n",
    "    assert m.ndim == 5 and m.shape[:4] == card_g.shape[:4]\n",
    "    assert m.shape == v.shape\n",
    "    f = np.zeros((KEYROUND_WIDTH_B4 // BLOCK_WIDTH_B4, BLOCK_WIDTH_B4, NR_SHARES, m.shape[-1]), dtype=np.float32)\n",
    "\n",
    "    m /= card_g\n",
    "    v = (v - card_g * m * m) / (card_g - 1)\n",
    "\n",
    "    for i in range(len(KEY_ALPHABET)):\n",
    "        for j in range(i + 1, len(KEY_ALPHABET)):\n",
    "            num = m[:, :, :, i] - m[:, :, :, j]\n",
    "            den = np.sqrt(v[:, :, :, i] / card_g[:, :, :, i] + v[:, :, :, j] / card_g[:, :, :, j])\n",
    "            f += np.square(num / den)\n",
    "    \n",
    "    return f"
   ]
  },
  {
   "cell_type": "code",
   "execution_count": 10,
   "metadata": {},
   "outputs": [],
   "source": [
    "def n_largest_values_separated_by_cycle(f: np.ndarray, n: int, cycle_length: int) -> np.ndarray:\n",
    "    interesting_points_per_index = np.zeros((f.shape[0], f.shape[1], f.shape[2], n), dtype=int)\n",
    "    sorted_strengths = np.argsort(f, axis=3)[:, :, :, ::-1]\n",
    "\n",
    "    for round_idx in range(EARLIEST_ROUND, sorted_strengths.shape[0]):\n",
    "        for block_idx in range(sorted_strengths.shape[1]):\n",
    "            for share_idx in range(sorted_strengths.shape[2]):\n",
    "                largest_indices = []\n",
    "                for ind in sorted_strengths[round_idx, block_idx, share_idx]:\n",
    "                    if len(largest_indices) < n:\n",
    "                        if all(abs(i - ind) >= cycle_length for i in largest_indices):\n",
    "                            largest_indices.append(ind)\n",
    "                    else:\n",
    "                        break\n",
    "                interesting_points_per_index[round_idx, block_idx, share_idx] = np.array(largest_indices)\n",
    "    \n",
    "    return interesting_points_per_index\n",
    "\n",
    "def n_largest_values(f: np.ndarray, n: int) -> np.ndarray:\n",
    "    interesting_points_per_index = np.apply_along_axis(np.argpartition, axis=3, arr=f, kth=-n)[:, :, :, -n:]\n",
    "    return interesting_points_per_index"
   ]
  },
  {
   "cell_type": "code",
   "execution_count": 11,
   "metadata": {},
   "outputs": [],
   "source": [
    "def recover_key_count_best(classifications_scores: np.ndarray, target_seeds: np.ndarray):\n",
    "    classifications_best = np.argmax(classifications_scores, axis=-1)\n",
    "\n",
    "    classifications_per_key_nibble = np.zeros((KEY_WIDTH_B4, NR_SHARES, len(KEY_ALPHABET)), dtype=int)\n",
    "    for i, seed in enumerate(target_seeds):\n",
    "        indices, whitening = chacha_random_b4(seed)\n",
    "        for keyround_index in range(KEYROUND_WIDTH_B4):\n",
    "            key_index = indices[keyround_index]\n",
    "            round_idx = keyround_index // BLOCK_WIDTH_B4\n",
    "            block_idx = keyround_index % BLOCK_WIDTH_B4\n",
    "\n",
    "            if round_idx >= EARLIEST_ROUND:\n",
    "                for share_idx in range(NR_SHARES - 1):\n",
    "                    classifications_per_key_nibble[key_index, share_idx, classifications_best[round_idx, block_idx, share_idx, i]] += 1\n",
    "                classifications_per_key_nibble[key_index, NR_SHARES - 1, (classifications_best[round_idx, block_idx, NR_SHARES - 1, i] - whitening[keyround_index]) % 16] += 1\n",
    "\n",
    "    recovered_key = np.argmax(classifications_per_key_nibble, axis=2) # Majority voting\n",
    "    return np.sum(recovered_key, axis=1) % 16\n",
    "\n",
    "def recover_key_sum_probs_rank(classifications_scores: np.ndarray, target_seeds: np.ndarray):\n",
    "    classifications_ranks = np.apply_along_axis(lambda a: np.searchsorted(np.sort(-a), -a), axis=-1, arr=classifications_scores)\n",
    "\n",
    "    classifications_per_key_nibble = np.zeros((KEY_WIDTH_B4, NR_SHARES, len(KEY_ALPHABET)), dtype=int)\n",
    "    for i, seed in enumerate(target_seeds):\n",
    "        indices, whitening = chacha_random_b4(seed)\n",
    "        for keyround_index in range(KEYROUND_WIDTH_B4):\n",
    "            key_index = indices[keyround_index]\n",
    "            round_idx = keyround_index // BLOCK_WIDTH_B4\n",
    "            block_idx = keyround_index % BLOCK_WIDTH_B4\n",
    "\n",
    "            if round_idx >= EARLIEST_ROUND:\n",
    "                for share_idx in range(NR_SHARES - 1):\n",
    "                    classifications_per_key_nibble[key_index, share_idx] += classifications_ranks[round_idx, block_idx, share_idx, i]\n",
    "                classifications_per_key_nibble[key_index, NR_SHARES - 1] += np.roll(classifications_ranks[round_idx, block_idx, NR_SHARES - 1, i], -whitening[keyround_index])\n",
    "\n",
    "    recovered_key = np.argmin(classifications_per_key_nibble, axis=2)\n",
    "    return np.sum(recovered_key, axis=1) % 16\n",
    "\n",
    "def recover_key_multiply_probs(classifications_scores: np.ndarray, target_seeds: np.ndarray):\n",
    "    classifications_per_key_nibble = np.zeros((KEY_WIDTH_B4, NR_SHARES, len(KEY_ALPHABET)), dtype=np.longdouble)\n",
    "    for i, seed in enumerate(target_seeds):\n",
    "        indices, whitening = chacha_random_b4(seed)\n",
    "        for keyround_index in range(KEYROUND_WIDTH_B4):\n",
    "            key_index = indices[keyround_index]\n",
    "            round_idx = keyround_index // BLOCK_WIDTH_B4\n",
    "            block_idx = keyround_index % BLOCK_WIDTH_B4\n",
    "\n",
    "            if round_idx >= EARLIEST_ROUND:\n",
    "                for share_idx in range(NR_SHARES - 1):\n",
    "                    classifications_per_key_nibble[key_index, share_idx] += classifications_scores[round_idx, block_idx, share_idx, i]\n",
    "                classifications_per_key_nibble[key_index, NR_SHARES - 1] += np.roll(classifications_scores[round_idx, block_idx, NR_SHARES - 1, i], -whitening[keyround_index])\n",
    "\n",
    "    recovered_key = np.argmax(classifications_per_key_nibble, axis=2)\n",
    "    return np.sum(recovered_key, axis=1) % 16"
   ]
  },
  {
   "cell_type": "code",
   "execution_count": 13,
   "metadata": {},
   "outputs": [
    {
     "ename": "KeyboardInterrupt",
     "evalue": "",
     "output_type": "error",
     "traceback": [
      "\u001b[1;31m---------------------------------------------------------------------------\u001b[0m",
      "\u001b[1;31mKeyboardInterrupt\u001b[0m                         Traceback (most recent call last)",
      "Cell \u001b[1;32mIn[13], line 7\u001b[0m\n\u001b[0;32m      4\u001b[0m y \u001b[38;5;241m=\u001b[39m []\n\u001b[0;32m      6\u001b[0m \u001b[38;5;28;01mfor\u001b[39;00m seeds_sub, traces_sub, key, key_shares_sub \u001b[38;5;129;01min\u001b[39;00m data_loader((\u001b[38;5;241m0\u001b[39m, \u001b[38;5;241m1\u001b[39m), (\u001b[38;5;241m0\u001b[39m,)):\n\u001b[1;32m----> 7\u001b[0m     card_g_sub, m_sub, v_sub, y_sub \u001b[38;5;241m=\u001b[39m \u001b[43msost_card_m_v_y_subsample\u001b[49m\u001b[43m(\u001b[49m\u001b[43mseeds_sub\u001b[49m\u001b[43m[\u001b[49m\u001b[38;5;241;43m1\u001b[39;49m\u001b[43m]\u001b[49m\u001b[43m[\u001b[49m\u001b[38;5;241;43m0\u001b[39;49m\u001b[43m]\u001b[49m\u001b[43m,\u001b[49m\u001b[43m \u001b[49m\u001b[43mkey\u001b[49m\u001b[43m[\u001b[49m\u001b[38;5;241;43m0\u001b[39;49m\u001b[43m]\u001b[49m\u001b[43m,\u001b[49m\u001b[43m \u001b[49m\u001b[43mtraces_sub\u001b[49m\u001b[43m[\u001b[49m\u001b[38;5;241;43m1\u001b[39;49m\u001b[43m]\u001b[49m\u001b[43m[\u001b[49m\u001b[38;5;241;43m0\u001b[39;49m\u001b[43m]\u001b[49m\u001b[43m)\u001b[49m\n\u001b[0;32m      8\u001b[0m     card_g \u001b[38;5;241m+\u001b[39m\u001b[38;5;241m=\u001b[39m card_g_sub\n\u001b[0;32m      9\u001b[0m     m \u001b[38;5;241m+\u001b[39m\u001b[38;5;241m=\u001b[39m m_sub\n",
      "Cell \u001b[1;32mIn[8], line 17\u001b[0m, in \u001b[0;36msost_card_m_v_y_subsample\u001b[1;34m(seeds_sub, key, traces_sub)\u001b[0m\n\u001b[0;32m     15\u001b[0m             card_g[round_idx, block_idx, real_k, \u001b[38;5;241m0\u001b[39m] \u001b[38;5;241m+\u001b[39m\u001b[38;5;241m=\u001b[39m \u001b[38;5;241m1\u001b[39m\n\u001b[0;32m     16\u001b[0m             m[round_idx, block_idx, real_k] \u001b[38;5;241m+\u001b[39m\u001b[38;5;241m=\u001b[39m trace\n\u001b[1;32m---> 17\u001b[0m             v[round_idx, block_idx, real_k] \u001b[38;5;241m+\u001b[39m\u001b[38;5;241m=\u001b[39m np\u001b[38;5;241m.\u001b[39msquare(\u001b[43mtrace\u001b[49m\u001b[38;5;241;43m.\u001b[39;49m\u001b[43mastype\u001b[49m\u001b[43m(\u001b[49m\u001b[43mnp\u001b[49m\u001b[38;5;241;43m.\u001b[39;49m\u001b[43mfloat64\u001b[49m\u001b[43m)\u001b[49m)\n\u001b[0;32m     19\u001b[0m             y[round_idx, block_idx, i] \u001b[38;5;241m=\u001b[39m real_k\n\u001b[0;32m     21\u001b[0m \u001b[38;5;28;01mreturn\u001b[39;00m card_g, m, v, y\n",
      "\u001b[1;31mKeyboardInterrupt\u001b[0m: "
     ]
    }
   ],
   "source": [
    "card_g = np.zeros((KEYROUND_WIDTH_B4 // BLOCK_WIDTH_B4, BLOCK_WIDTH_B4, NR_SHARES, len(KEY_ALPHABET), 1), dtype=np.int32)\n",
    "m = np.zeros((KEYROUND_WIDTH_B4 // BLOCK_WIDTH_B4, BLOCK_WIDTH_B4, NR_SHARES, len(KEY_ALPHABET), data_loader.trace_size), dtype=np.float32)\n",
    "v = np.zeros((KEYROUND_WIDTH_B4 // BLOCK_WIDTH_B4, BLOCK_WIDTH_B4, NR_SHARES, len(KEY_ALPHABET), data_loader.trace_size), dtype=np.float64)\n",
    "y = []\n",
    "\n",
    "for seeds_sub, traces_sub, key, key_shares_sub in data_loader((0, 1), (0,)):\n",
    "    card_g_sub, m_sub, v_sub, y_sub = sost_masks_card_m_v_y_subsample(seeds_sub[1][0], key_shares_sub[1][0], traces_sub[1][0])\n",
    "    card_g += card_g_sub\n",
    "    m += m_sub\n",
    "    v += v_sub\n",
    "    y.append(y_sub)\n",
    "\n",
    "with open(\"card_m_v_y_2_shares_masking.pic\", \"wb\") as w:\n",
    "    pic.dump((card_g, m, v, y), w)"
   ]
  },
  {
   "cell_type": "code",
   "execution_count": null,
   "metadata": {},
   "outputs": [],
   "source": [
    "y = np.concatenate(y, axis=3)\n",
    "f = sost_combine_subsamples(card_g, m, v)\n",
    "\n",
    "with open(\"y_f_2_shares_masking.pic\", \"wb\") as w:\n",
    "    pic.dump((y, f), w)"
   ]
  },
  {
   "cell_type": "code",
   "execution_count": null,
   "metadata": {},
   "outputs": [],
   "source": [
    "raise NotImplementedError\n",
    "n_folds = 1\n",
    "train_sizes = [45_000]\n",
    "val_size_grid = [5_000]\n",
    "\n",
    "grid = {\"num_features\": [40]}"
   ]
  },
  {
   "cell_type": "code",
   "execution_count": null,
   "metadata": {},
   "outputs": [],
   "source": [
    "raise NotImplementedError\n",
    "card_g = np.zeros((KEYROUND_WIDTH_B4 // BLOCK_WIDTH_B4, BLOCK_WIDTH_B4, NR_SHARES, len(KEY_ALPHABET), 1), dtype=np.int32)\n",
    "m = np.zeros((KEYROUND_WIDTH_B4 // BLOCK_WIDTH_B4, BLOCK_WIDTH_B4, NR_SHARES, len(KEY_ALPHABET), data_loader.trace_size), dtype=np.float32)\n",
    "v = np.zeros((KEYROUND_WIDTH_B4 // BLOCK_WIDTH_B4, BLOCK_WIDTH_B4, NR_SHARES, len(KEY_ALPHABET), data_loader.trace_size), dtype=np.float64)\n",
    "y = []\n",
    "\n",
    "for seeds_sub, traces_sub, key, key_shares_sub in data_loader((0, 1), (0,)):\n",
    "    rs = ShuffleSplit(n_splits=n_folds, test_size=val_size_grid[0], train_size=train_sizes[0], random_state=0)\n",
    "    for cv, (train_index, val_index) in enumerate(rs.split(traces_sub[1][0])):\n",
    "        traces_train, seeds_train = traces_sub[1][0][train_index], seeds_sub[1][0][train_index]\n",
    "        card_g_sub, m_sub, v_sub, y_sub = sost_masks_card_m_v_y_subsample(seeds_train, key_shares_sub[1][0], traces_train)\n",
    "        card_g += card_g_sub\n",
    "        m += m_sub\n",
    "        v += v_sub\n",
    "        y.append(y_sub)\n",
    "\n",
    "with open(\"card_m_v_y_2_shares_masking.pic\", \"wb\") as w:\n",
    "    pic.dump((card_g, m, v, y), w)"
   ]
  },
  {
   "cell_type": "code",
   "execution_count": null,
   "metadata": {},
   "outputs": [],
   "source": [
    "raise NotImplementedError\n",
    "best_accuracy = -1\n",
    "grid_results = np.zeros((len(grid[\"num_features\"]), len(train_sizes), len(val_size_grid), 1, n_folds), dtype=np.float64)\n",
    "for l, num_features in enumerate(grid[\"num_features\"]):\n",
    "    for ts, train_size in enumerate(train_sizes):\n",
    "        f_trainval_methods = f\n",
    "        y_trainval = y\n",
    "\n",
    "        for m, val_size in enumerate(val_size_grid):\n",
    "            for seeds_sub, traces_sub, key, key_shares_sub in data_loader((0, 1), (0,)):\n",
    "                rs = ShuffleSplit(n_splits=n_folds, test_size=val_size_grid[0], train_size=train_sizes[0], random_state=0)\n",
    "                for cv, (train_index, val_index) in enumerate(rs.split(traces_sub[1][0])):\n",
    "\n",
    "                    print(f\"CV {cv}\", end=\"\\r\")\n",
    "                    traces_train, traces_val = traces_trainval[ts][train_index], traces_trainval[ts][val_index]\n",
    "                    seeds_train, seeds_val = seeds_trainval[ts][train_index], seeds_trainval[ts][val_index]\n",
    "                    y = y_trainval[m, cv]\n",
    "\n",
    "                    for n, f_trainval in enumerate(f_trainval_methods):\n",
    "                        f = f_trainval[m, cv]\n",
    "\n",
    "                        interesting_points_per_index = n_largest_values(f, num_features)\n",
    "                        traces_reduced = traces_train[:, interesting_points_per_index].transpose(1, 2, 0, 3)\n",
    "                        traces_val_reduced = traces_val[:, interesting_points_per_index].transpose(1, 2, 0, 3)\n",
    "\n",
    "                        traces_reduced_per_key = [[[traces_reduced[round_idx, block_idx, np.repeat((y == k)[round_idx, block_idx, :, np.newaxis], traces_reduced.shape[-1], axis=-1)].reshape(-1, traces_reduced.shape[-1]) for k in range(len(KEY_ALPHABET))] for block_idx in range(traces_reduced.shape[1])] for round_idx in range(traces_reduced.shape[0])]\n",
    "\n",
    "                        start = time()\n",
    "                        template_means = np.array([[[np.mean(traces_reduced_per_key[round_idx][block_idx][k], axis=-2) for k in range(len(KEY_ALPHABET))] for block_idx in range(traces_reduced.shape[1])] for round_idx in range(traces_reduced.shape[0])])\n",
    "                        template_covariances = np.array([[[np.nan_to_num(np.cov(traces_reduced_per_key[round_idx][block_idx][k], rowvar=False), nan=0.0) for k in range(template_means.shape[2])] for block_idx in range(template_means.shape[1])] for round_idx in range(template_means.shape[0])])\n",
    "                        pdfs = np.array([[[multivariate_normal(template_means[round_idx, block_idx, k], template_covariances[round_idx, block_idx, k], allow_singular=True) for k in range(template_means.shape[2])] for block_idx in range(template_means.shape[1])] for round_idx in range(template_means.shape[0])])\n",
    "                        times[0, n, cv] = time() - start\n",
    "                        \n",
    "\n",
    "                        start = time()\n",
    "                        val_probas = np.array([[[[pdfs[round_idx, block_idx, key_guess].logpdf(traces_val_reduced[round_idx, block_idx, trace]) for key_guess in range(pdfs.shape[2])] for trace in range(traces_val_reduced.shape[2])] for block_idx in range(pdfs.shape[1])] for round_idx in range(pdfs.shape[0])])\n",
    "                        recovered_key = recover_key_multiply_probs(val_probas, seeds_val)\n",
    "                        times[1, n, cv] = time() - start\n",
    "\n",
    "                        grid_results[l, ts, m, n, cv] = np.count_nonzero(recovered_key == real_keys[0]) / KEY_WIDTH_B4\n",
    "                    \n",
    "                print(f\"SOST [num features: {num_features}, train size: {train_size}, val size: {val_size}]: {np.mean(grid_results[l, ts, m, 0]):#.4g} ± {np.std(grid_results[l, ts, m, 0]):#.4g} ({grid_results[l, ts, m, 0]}). Training in {np.mean(times[0, 0]):#.4g} ± {np.std(times[0, 0]):#.4g} seconds. Extracting in {np.mean(times[1, 0]):#.4g} ± {np.std(times[1, 0]):#.4g} seconds.\")\n",
    "                if np.mean(grid_results[l, ts, m, 0]) > best_accuracy:\n",
    "                    print(\"New best model found ! (Above)\")\n",
    "                    best_accuracy = np.mean(grid_results[l, ts, m, 0])\n"
   ]
  },
  {
   "cell_type": "markdown",
   "metadata": {},
   "source": [
    "## Using Machine Learning"
   ]
  },
  {
   "cell_type": "markdown",
   "metadata": {},
   "source": [
    "### Training"
   ]
  },
  {
   "cell_type": "code",
   "execution_count": null,
   "metadata": {},
   "outputs": [],
   "source": [
    "def train_models(classifier: ClassifierMixin, traces_reduced: np.ndarray, y: np.ndarray, **kwargs):\n",
    "    models = np.empty(traces_reduced.shape[:2], dtype=object)\n",
    "    for round_idx in range(EARLIEST_ROUND, models.shape[0]):\n",
    "        for block_idx in range(models.shape[1]):\n",
    "            clf = classifier(**kwargs)\n",
    "            clf.fit(traces_reduced[round_idx, block_idx], y[round_idx, block_idx])\n",
    "            models[round_idx, block_idx] = clf\n",
    "\n",
    "    return models"
   ]
  },
  {
   "cell_type": "markdown",
   "metadata": {},
   "source": [
    "### Evaluating"
   ]
  },
  {
   "cell_type": "markdown",
   "metadata": {},
   "source": [
    "### Parameter tuning"
   ]
  },
  {
   "cell_type": "code",
   "execution_count": null,
   "metadata": {},
   "outputs": [],
   "source": [
    "n_folds = 5\n",
    "train_size = 100_000\n",
    "val_size_grid = [1_000, 2_000, 5_000]\n",
    "with open(\"trainval_test_split_f_y_sost.pic\", \"rb\") as r:\n",
    "    traces_trainval, traces_test, seeds_trainval, seeds_test, f_trainval, y_trainval = pic.load(r)\n"
   ]
  },
  {
   "cell_type": "code",
   "execution_count": null,
   "metadata": {},
   "outputs": [],
   "source": [
    "n_folds = 5\n",
    "train_size = 60_000\n",
    "val_size_grid = [750, 1_000, 1_500]\n",
    "\n",
    "with open(\"trainval_test_split_f_y_sost_2.pic\", \"rb\") as r:\n",
    "    traces_trainval, traces_test, seeds_trainval, seeds_test, f_trainval, y_trainval = pic.load(r)\n"
   ]
  },
  {
   "cell_type": "code",
   "execution_count": null,
   "metadata": {},
   "outputs": [],
   "source": [
    "n_folds = 5\n",
    "train_sizes = [60_000, 100_000]\n",
    "val_size_grid = [500, 750, 1_000]\n",
    "\n",
    "with open(\"trainval_test_split_f_y_sost_3.pic\", \"rb\") as r:\n",
    "    traces_trainval, traces_test, seeds_trainval, seeds_test, f_trainval_tot, y_trainval_tot = pic.load(r)\n"
   ]
  },
  {
   "cell_type": "code",
   "execution_count": null,
   "metadata": {},
   "outputs": [],
   "source": [
    "n_folds = 5\n",
    "train_sizes = [60_000, 100_000]\n",
    "val_size_grid = [1_500, 2_000, 2_500]\n",
    "\n",
    "with open(\"trainval_test_split_f_y_sost_4.pic\", \"rb\") as r:\n",
    "    traces_trainval, traces_test, seeds_trainval, seeds_test, f_trainval_tot, y_trainval_tot = pic.load(r)\n"
   ]
  },
  {
   "cell_type": "code",
   "execution_count": null,
   "metadata": {},
   "outputs": [],
   "source": [
    "traces_trainval, traces_test, seeds_trainval, seeds_test = train_test_split(traces_total[0], seeds_total[0], train_size=train_size + max(val_size_grid), random_state=0)\n",
    "f_trainval = np.zeros((len(val_size_grid), n_folds, KEYROUND_WIDTH_B4 // BLOCK_WIDTH_B4, BLOCK_WIDTH_B4, traces_trainval.shape[1]), dtype=np.float32)\n",
    "y_trainval = np.zeros((len(val_size_grid), n_folds, KEYROUND_WIDTH_B4 // BLOCK_WIDTH_B4, BLOCK_WIDTH_B4, train_size), dtype=np.int32)\n",
    "\n",
    "for m, val_size in enumerate(val_size_grid):\n",
    "    rs = ShuffleSplit(n_splits=n_folds, test_size=val_size, train_size=train_size, random_state=0)\n",
    "    for cv, (train_index, val_index) in enumerate(rs.split(traces_trainval)):\n",
    "        traces_train, seeds_train = traces_trainval[train_index], seeds_trainval[train_index]\n",
    "        f, y = sost_masks_card_m_v_y_subsample(seeds_train, real_keys[0], traces_train)\n",
    "        f_trainval[m, cv] = f\n",
    "        y_trainval[m, cv] = y"
   ]
  },
  {
   "cell_type": "code",
   "execution_count": null,
   "metadata": {},
   "outputs": [],
   "source": [
    "n_folds = 5\n",
    "train_sizes = [60_000, 100_000]\n",
    "val_size_grid = [500, 750, 1_000]"
   ]
  },
  {
   "cell_type": "code",
   "execution_count": null,
   "metadata": {},
   "outputs": [],
   "source": [
    "n_folds = 5\n",
    "train_sizes = [60_000, 100_000]\n",
    "val_size_grid = [1_500, 2_000, 2_500]"
   ]
  },
  {
   "cell_type": "code",
   "execution_count": null,
   "metadata": {},
   "outputs": [],
   "source": [
    "traces_trainval, traces_test, seeds_trainval, seeds_test = [], [], [], []\n",
    "f_trainval_tot = np.zeros((len(train_sizes), 1, len(val_size_grid), n_folds, KEYROUND_WIDTH_B4 // BLOCK_WIDTH_B4, BLOCK_WIDTH_B4, traces_total[0].shape[1]), dtype=np.float32)\n",
    "y_trainval_tot = []\n",
    "for ts, train_size in enumerate(train_sizes):\n",
    "    y_trainval = np.zeros((len(val_size_grid), n_folds, KEYROUND_WIDTH_B4 // BLOCK_WIDTH_B4, BLOCK_WIDTH_B4, train_size), dtype=np.int32)\n",
    "\n",
    "    s = train_test_split(traces_total[0], seeds_total[0], train_size=train_size + max(val_size_grid), random_state=0)\n",
    "    traces_trainval.append(s[0]), traces_test.append(s[1]), seeds_trainval.append(s[2]), seeds_test.append(s[3])\n",
    "\n",
    "    for m, val_size in enumerate(val_size_grid):\n",
    "        rs = ShuffleSplit(n_splits=n_folds, test_size=val_size, train_size=train_size, random_state=0)\n",
    "        for cv, (train_index, val_index) in enumerate(rs.split(traces_trainval[ts])):\n",
    "            traces_train, seeds_train = traces_trainval[ts][train_index], seeds_trainval[ts][train_index]\n",
    "            f, y = sost_masks_card_m_v_y_subsample(seeds_train, real_keys[0], traces_train)\n",
    "            f_trainval_tot[ts, 0, m, cv] = f\n",
    "            y_trainval[m, cv] = y\n",
    "    y_trainval_tot.append(y_trainval)"
   ]
  },
  {
   "cell_type": "code",
   "execution_count": 15,
   "metadata": {},
   "outputs": [],
   "source": [
    "with open(\"trainval_test_split_f_y_sost_4.pic\", \"wb\") as w:\n",
    "    pic.dump((traces_trainval, traces_test, seeds_trainval, seeds_test, f_trainval_tot, y_trainval_tot), w)\n"
   ]
  },
  {
   "cell_type": "code",
   "execution_count": 16,
   "metadata": {},
   "outputs": [
    {
     "name": "stdout",
     "output_type": "stream",
     "text": [
      "SOST [{'max_iter': 300, 'max_depth': None, 'min_samples_leaf': 6}, num features: 60, train size: 60000, val size: 1500]: 0.9949 ± 0.0009568 ([0.99609375 0.99414062 0.99414062 0.99609375 0.99414062]). Training in 436.8 ± 33.17 seconds.\n",
      "New best model found ! (Above)\n",
      "SOST [{'max_iter': 300, 'max_depth': None, 'min_samples_leaf': 6}, num features: 60, train size: 60000, val size: 2000]: 0.9992 ± 0.0009568 ([0.99804688 1.         1.         0.99804688 1.        ]). Training in 474.2 ± 11.23 seconds.\n",
      "New best model found ! (Above)\n",
      "SOST [{'max_iter': 300, 'max_depth': None, 'min_samples_leaf': 6}, num features: 60, train size: 60000, val size: 2500]: 1.000 ± 0.000 ([1. 1. 1. 1. 1.]). Training in 487.4 ± 8.411 seconds.\n",
      "New best model found ! (Above)\n",
      "SOST [{'max_iter': 300, 'max_depth': None, 'min_samples_leaf': 6}, num features: 60, train size: 100000, val size: 1500]: 0.9996 ± 0.0007813 ([1.         1.         1.         1.         0.99804688]). Training in 1236. ± 97.10 seconds.\n",
      "SOST [{'max_iter': 300, 'max_depth': None, 'min_samples_leaf': 6}, num features: 60, train size: 100000, val size: 2000]: 1.000 ± 0.000 ([1. 1. 1. 1. 1.]). Training in 1328. ± 20.75 seconds.\n",
      "SOST [{'max_iter': 300, 'max_depth': None, 'min_samples_leaf': 6}, num features: 60, train size: 100000, val size: 2500]: 1.000 ± 0.000 ([1. 1. 1. 1. 1.]). Training in 1374. ± 13.79 seconds.\n"
     ]
    }
   ],
   "source": [
    "params_grid = [\n",
    "    {\n",
    "        \"estimator\": HistGradientBoostingClassifier,\n",
    "        \"num_features\": [60],\n",
    "        \"model_params\": {\n",
    "            \"max_iter\": [300],\n",
    "            \"max_depth\": [None],\n",
    "            \"min_samples_leaf\": [6]\n",
    "        }\n",
    "    },\n",
    "    # {\n",
    "    #     \"estimator\": RandomForestClassifier,\n",
    "    #     \"num_features\": [60],\n",
    "    #     \"model_params\": {\n",
    "    #         \"n_estimators\": [300],\n",
    "    #         \"max_depth\": [None],\n",
    "    #         \"min_samples_leaf\": [6, 8, 10]\n",
    "    #     }\n",
    "    # },\n",
    "    # {\n",
    "    #     \"estimator\": LinearSVC,\n",
    "    #     \"num_features\": [60],\n",
    "    #     \"model_params\": {\n",
    "    #         \"loss\": [\"hinge\"],\n",
    "    #         \"C\": [1, 10],\n",
    "    #     }\n",
    "    # },\n",
    "    # {\n",
    "    #     \"estimator\": SVC,\n",
    "    #     \"num_features\": [20, 40, 60],\n",
    "    #     \"model_params\": {\n",
    "    #         \"decision_function_shape\": [\"ovr\"],\n",
    "    #         \"kernel\": [\"rbf\"],\n",
    "    #         \"C\": [0.1, 1, 10],\n",
    "    #         \"gamma\": [\"scale\", \"auto\"]\n",
    "    #     }\n",
    "    # },\n",
    "    # {\n",
    "    #     \"estimator\": SVC,\n",
    "    #     \"num_features\": [20, 40, 60],\n",
    "    #     \"model_params\": {\n",
    "    #         \"decision_function_shape\": [\"ovr\"],\n",
    "    #         \"kernel\": [\"poly\"],\n",
    "    #         \"C\": [0.1, 1, 10],\n",
    "    #         \"degree\": [3, 5, 7]\n",
    "    #     }\n",
    "    # },\n",
    "]\n",
    "\n",
    "best_params = {}\n",
    "best_accuracy = -1\n",
    "\n",
    "for grid in params_grid:\n",
    "    param_combinations = list(product(*grid[\"model_params\"].values()))\n",
    "    grid_results = np.zeros((len(param_combinations), len(grid[\"num_features\"]), len(train_sizes), len(val_size_grid), f_trainval_tot.shape[1], n_folds), dtype=np.float64)\n",
    "    for combination_index, params in enumerate(param_combinations):\n",
    "        model_params_dict = dict(zip(grid[\"model_params\"].keys(), params))\n",
    "        for l, num_features in enumerate(grid[\"num_features\"]):\n",
    "            for ts, train_size in enumerate(train_sizes):\n",
    "                f_trainval_methods = f_trainval_tot[ts]\n",
    "                y_trainval = y_trainval_tot[ts]\n",
    "\n",
    "                for m, val_size in enumerate(val_size_grid):\n",
    "                    rs = ShuffleSplit(n_splits=n_folds, test_size=val_size, train_size=train_size, random_state=0)\n",
    "                    times = np.zeros((f_trainval_methods.shape[0], n_folds), dtype=np.float64)\n",
    "                    for cv, (train_index, val_index) in enumerate(rs.split(traces_trainval[ts])):\n",
    "                        print(f\"CV {cv}\", end=\"\\r\")\n",
    "                        traces_train, traces_val = traces_trainval[ts][train_index], traces_trainval[ts][val_index]\n",
    "                        seeds_train, seeds_val = seeds_trainval[ts][train_index], seeds_trainval[ts][val_index]\n",
    "                        y = y_trainval[m, cv]\n",
    "\n",
    "                        for n, f_trainval in enumerate(f_trainval_methods):\n",
    "                            f = f_trainval[m, cv]\n",
    "\n",
    "                            interesting_points_per_index = n_largest_values(f, num_features)\n",
    "                            traces_reduced = traces_train[:, interesting_points_per_index].transpose(1, 2, 0, 3)\n",
    "                            traces_val_reduced = traces_val[:, interesting_points_per_index].transpose(1, 2, 0, 3)\n",
    "\n",
    "                            start = time()\n",
    "                            models = train_models(grid[\"estimator\"], traces_reduced, y, **model_params_dict, random_state=0)\n",
    "                            times[n, cv] = time() - start\n",
    "                            classifications_scores = np.array([[np.log(mod.predict_proba(traces_val_reduced[round_idx, block_idx])) if round_idx >= EARLIEST_ROUND else [0] * len(KEY_ALPHABET) for block_idx, mod in enumerate(row)] for round_idx, row in enumerate(models)])\n",
    "\n",
    "                            recovered_key = recover_key_multiply_probs(classifications_scores, seeds_val)\n",
    "\n",
    "                            grid_results[combination_index, l, ts, m, n, cv] = np.count_nonzero(recovered_key == real_keys[0]) / KEY_WIDTH_B4\n",
    "                        \n",
    "                    print(f\"SOST [{model_params_dict}, num features: {num_features}, train size: {train_size}, val size: {val_size}]: {np.mean(grid_results[combination_index, l, ts, m, 0]):#.4g} ± {np.std(grid_results[combination_index, l, ts, m, 0]):#.4g} ({grid_results[combination_index, l, ts, m, 0]}). Training in {np.mean(times[0]):#.4g} ± {np.std(times[0]):#.4g} seconds.\")\n",
    "                    if np.mean(grid_results[combination_index, l, ts, m, 0]) > best_accuracy:\n",
    "                        print(\"New best model found ! (Above)\")\n",
    "                        best_accuracy = np.mean(grid_results[combination_index, l, ts, m, 0])\n",
    "\n",
    "                    #print(f\" DOM [{model_params_dict}, num features: {num_features}, train size: {train_size}, val size: {val_size}]: {np.mean(grid_results[combination_index, l, ts, m, 1]):#.4g} ± {np.std(grid_results[combination_index, l, ts, m, 1]):#.4g} ({grid_results[combination_index, l, ts, m, 1]}). Training in {np.mean(times[1]):#.4g} ± {np.std(times[1]):#.4g} seconds.\")\n",
    "                    #if np.mean(grid_results[combination_index, l, ts, m, 1]) > best_accuracy:\n",
    "                    #    print(\"New best model found ! (Above)\")\n",
    "                    #    best_accuracy = np.mean(grid_results[combination_index, l, ts, m, 1])"
   ]
  },
  {
   "cell_type": "markdown",
   "metadata": {},
   "source": [
    "### Accuracy on unseen data"
   ]
  },
  {
   "cell_type": "markdown",
   "metadata": {},
   "source": [
    "Retraining on all available data"
   ]
  },
  {
   "cell_type": "code",
   "execution_count": 24,
   "metadata": {},
   "outputs": [],
   "source": [
    "best_params = {'n_estimators': 200, 'max_depth': None, 'min_samples_leaf': 6, 'num_features': 40, 'test_size': 1500}\n",
    "with open(\"f_y_entire_train.pic\", \"rb\") as r:\n",
    "    f, y = pic.load(r)\n",
    "interesting_points_per_index = n_largest_values(f, best_params[\"num_features\"])\n",
    "traces_reduced = traces_trainval[:, interesting_points_per_index].transpose(1, 2, 0, 3)\n",
    "traces_test_reduced = traces_test[:, interesting_points_per_index].transpose(1, 2, 0, 3)\n",
    "\n",
    "random_forests = train_random_forests(traces_reduced, y, n_estimators=best_params[\"n_estimators\"], max_depth=best_params[\"max_depth\"], min_samples_leaf=best_params[\"min_samples_leaf\"], n_jobs=-1, random_state=0)"
   ]
  },
  {
   "cell_type": "code",
   "execution_count": 76,
   "metadata": {},
   "outputs": [
    {
     "data": {
      "text/plain": [
       "{'n_estimators': 200,\n",
       " 'max_depth': None,\n",
       " 'min_samples_leaf': 6,\n",
       " 'num_features': 40,\n",
       " 'test_size': 1500}"
      ]
     },
     "execution_count": 76,
     "metadata": {},
     "output_type": "execute_result"
    }
   ],
   "source": [
    "best_params"
   ]
  },
  {
   "cell_type": "code",
   "execution_count": 66,
   "metadata": {},
   "outputs": [],
   "source": [
    "f, y = sost_masks_card_m_v_y_subsample(seeds_trainval, real_keys[0], traces_trainval)\n",
    "interesting_points_per_index = n_largest_values(f, best_params[\"num_features\"])\n",
    "traces_reduced = traces_trainval[:, interesting_points_per_index].transpose(1, 2, 0, 3)\n",
    "traces_test_reduced = traces_test[:, interesting_points_per_index].transpose(1, 2, 0, 3)\n",
    "\n",
    "random_forests = train_random_forests(traces_reduced, y, n_estimators=best_params[\"n_estimators\"], max_depth=best_params[\"max_depth\"], min_samples_leaf=best_params[\"min_samples_leaf\"], n_jobs=-1, random_state=0)"
   ]
  },
  {
   "cell_type": "code",
   "execution_count": 69,
   "metadata": {},
   "outputs": [],
   "source": [
    "with open(\"f_y_entire_train.pic\", \"wb\") as w:\n",
    "    pic.dump((f, y), w)\n"
   ]
  },
  {
   "cell_type": "code",
   "execution_count": null,
   "metadata": {},
   "outputs": [],
   "source": [
    "print(f\"Train parameters: { {k: v for k, v in best_params.items() if k != 'test_size'} }\")\n",
    "for test_size in [1_000, 1_500, 2_500, 5_000]:\n",
    "    print(f\"Test size {test_size}\")\n",
    "    sub_tests = np.zeros((traces_test_reduced.shape[2] // test_size, test_size), dtype=int)\n",
    "    available_indices = np.arange(traces_test_reduced.shape[2])\n",
    "\n",
    "    np.random.seed(test_size)\n",
    "    for trace_idx in range(sub_tests.shape[0]):\n",
    "        sub_tests[trace_idx] = np.random.choice(available_indices, test_size, replace=False)\n",
    "        available_indices = np.setdiff1d(available_indices, sub_tests[trace_idx])\n",
    "        \n",
    "    accuracies = np.zeros((sub_tests.shape[0], 3), np.float64)\n",
    "    for trace_idx, sub_test in enumerate(sub_tests):\n",
    "        sub_traces, sub_seeds = traces_test_reduced[:, :, sub_test], seeds_test[sub_test]\n",
    "        classifications_scores = np.array([[rfc.predict_log_proba(sub_traces[round_idx, block_idx]) if round_idx >= EARLIEST_ROUND else [0] * len(KEY_ALPHABET) for block_idx, rfc in enumerate(rfs)] for round_idx, rfs in enumerate(random_forests)])\n",
    "\n",
    "        accuracies[trace_idx, 0] = np.count_nonzero(recover_key_count_best(classifications_scores, sub_seeds) == real_keys[0]) / KEY_WIDTH_B4\n",
    "        accuracies[trace_idx, 1] = np.count_nonzero(recover_key_sum_probs_rank(classifications_scores, sub_seeds) == real_keys[0]) / KEY_WIDTH_B4\n",
    "        accuracies[trace_idx, 2] = np.count_nonzero(recover_key_multiply_probs(classifications_scores, sub_seeds) == real_keys[0]) / KEY_WIDTH_B4\n",
    "    \n",
    "        print(f\"{trace_idx}/{len(sub_tests)}: {accuracies[trace_idx, 0]} -> {accuracies[trace_idx, 1]} -> {accuracies[trace_idx, 2]}\")\n",
    "    mean_acc = np.mean(accuracies, axis=0)\n",
    "    std_acc  = np.std(accuracies, axis=0)\n",
    "\n",
    "    print(f\"Test size [{test_size}]. Expected accuracy on unseen data: {mean_acc[0]} ± {std_acc[0]} -> {mean_acc[1]} ± {std_acc[1]} -> {mean_acc[2]} ± {std_acc[2]}\")"
   ]
  },
  {
   "cell_type": "code",
   "execution_count": null,
   "metadata": {},
   "outputs": [],
   "source": [
    "traces_test_path_1 = \"..\\\\acquisition\\\\carto_eB4-Rnd-3-WhiteningAndFullFilter-4_test_keys\\\\carto_eB4-Rnd-3-WhiteningAndFullFilter-Alternating-Same-And-Varying-Seeds.mat\"\n",
    "key_test_path_1 = \"..\\\\acquisition\\\\carto_eB4-Rnd-3-WhiteningAndFullFilter-4_test_keys\\\\carto_eB4-Rnd-3-WhiteningAndFullFilter-Alternating-Same-And-Varying-Seeds.log\"\n",
    "traces_test_path_2 = \"..\\\\acquisition\\\\carto_eB4-Rnd-3-WhiteningAndFullFilter-12_test_keys\\\\carto_eB4-Rnd-3-WhiteningAndFullFilter.mat\"\n",
    "key_test_path_2 = \"..\\\\acquisition\\\\carto_eB4-Rnd-3-WhiteningAndFullFilter-12_test_keys\\\\carto_eB4-Rnd-3-WhiteningAndFullFilter.log\"\n",
    "\n",
    "seeds_test_1, traces_test_1, real_keys_1 = load_data(traces_test_path_1, key_test_path_1)\n",
    "seeds_test_2, traces_test_2, real_keys_2 = load_data(traces_test_path_2, key_test_path_2)\n",
    "\n",
    "seeds_test_multiple_keys, traces_test_multiple_keys, real_keys_multiple_keys = seeds_test_1 + seeds_test_2, traces_test_1 + traces_test_2, real_keys_1 + real_keys_2\n",
    "del seeds_test_1, seeds_test_2, traces_test_1, traces_test_2, real_keys_1, real_keys_2"
   ]
  },
  {
   "cell_type": "code",
   "execution_count": 25,
   "metadata": {},
   "outputs": [],
   "source": [
    "traces_test_reduced_multiple_keys = [traces_test[:, interesting_points_per_index].transpose(1, 2, 0, 3) for traces_test in traces_test_multiple_keys]"
   ]
  },
  {
   "cell_type": "code",
   "execution_count": null,
   "metadata": {},
   "outputs": [],
   "source": [
    "print(f\"Train parameters: { {k: v for k, v in best_params.items() if k != 'test_size'} }\")\n",
    "for k, (seeds_test, traces_test_reduced, real_keys) in enumerate(zip(seeds_test_multiple_keys, traces_test_reduced_multiple_keys, real_keys_multiple_keys)):\n",
    "    print(f\"Key {k}\")\n",
    "    for test_size in [1_000, 1_500, 2_500]:\n",
    "        print(f\"Test size {test_size}\")\n",
    "        sub_tests = np.zeros((traces_test_reduced.shape[2] // test_size, test_size), dtype=int)\n",
    "        available_indices = np.arange(traces_test_reduced.shape[2])\n",
    "\n",
    "        np.random.seed(test_size)\n",
    "        for trace_idx in range(sub_tests.shape[0]):\n",
    "            sub_tests[trace_idx] = np.random.choice(available_indices, test_size, replace=False)\n",
    "            available_indices = np.setdiff1d(available_indices, sub_tests[trace_idx])\n",
    "            \n",
    "        accuracies = np.zeros((sub_tests.shape[0], 3), np.float64)\n",
    "        for trace_idx, sub_test in enumerate(sub_tests):\n",
    "            sub_traces, sub_seeds = traces_test_reduced[:, :, sub_test], seeds_test[sub_test]\n",
    "            classifications_scores = np.array([[rfc.predict_log_proba(sub_traces[round_idx, block_idx]) if round_idx >= EARLIEST_ROUND else [0] * len(KEY_ALPHABET) for block_idx, rfc in enumerate(rfs)] for round_idx, rfs in enumerate(random_forests)])\n",
    "\n",
    "            accuracies[trace_idx, 0] = np.count_nonzero(recover_key_count_best(classifications_scores, sub_seeds) == real_keys) / KEY_WIDTH_B4\n",
    "            accuracies[trace_idx, 1] = np.count_nonzero(recover_key_sum_probs_rank(classifications_scores, sub_seeds) == real_keys) / KEY_WIDTH_B4\n",
    "            accuracies[trace_idx, 2] = np.count_nonzero(recover_key_multiply_probs(classifications_scores, sub_seeds) == real_keys) / KEY_WIDTH_B4\n",
    "        \n",
    "            print(f\"{trace_idx}/{len(sub_tests)}: {accuracies[trace_idx, 0]} -> {accuracies[trace_idx, 1]} -> {accuracies[trace_idx, 2]}\")\n",
    "        mean_acc = np.mean(accuracies, axis=0)\n",
    "        std_acc  = np.std(accuracies, axis=0)\n",
    "\n",
    "        print(f\"Test size [{test_size}]. Expected accuracy on unseen data: {mean_acc[0]} ± {std_acc[0]} -> {mean_acc[1]} ± {std_acc[1]} -> {mean_acc[2]} ± {std_acc[2]}\")"
   ]
  },
  {
   "cell_type": "markdown",
   "metadata": {},
   "source": [
    "#### Errors analysis"
   ]
  },
  {
   "cell_type": "code",
   "execution_count": 44,
   "metadata": {},
   "outputs": [
    {
     "data": {
      "image/png": "[encoded data removed]",
      "text/plain": [
       "<Figure size 640x480 with 1 Axes>"
      ]
     },
     "metadata": {},
     "output_type": "display_data"
    }
   ],
   "source": [
    "errors = []\n",
    "corrects = []\n",
    "for round_idx, rfs in enumerate(random_forests):\n",
    "    for block_idx, rfc in enumerate(rfs):\n",
    "        keyround_index = round_idx * BLOCK_WIDTH_B4 + block_idx\n",
    "        classifications_scores = rfc.predict(traces_test_reduced[round_idx, block_idx])\n",
    "        for trace_idx, seed in enumerate(seeds_test):\n",
    "            indices, whitening = chacha_random_b4(seed)\n",
    "            key_index = indices[keyround_index]\n",
    "            if (classifications_scores[trace_idx] - whitening[keyround_index]) % 16 != real_keys[0][key_index]:\n",
    "                errors.append((round_idx, block_idx))\n",
    "            else:\n",
    "                corrects.append((round_idx, block_idx))\n",
    "plt.hist([10 * r + b for r, b in errors], bins=100, label=\"Wrong\")\n",
    "plt.hist([10 * r + b for r, b in corrects], bins=100, label=\"Correct\")\n",
    "plt.legend()\n",
    "plt.show()"
   ]
  }
 ],
 "metadata": {
  "kernelspec": {
   "display_name": ".venv",
   "language": "python",
   "name": "python3"
  },
  "language_info": {
   "codemirror_mode": {
    "name": "ipython",
    "version": 3
   },
   "file_extension": ".py",
   "mimetype": "text/x-python",
   "name": "python",
   "nbconvert_exporter": "python",
   "pygments_lexer": "ipython3",
   "version": "3.12.2"
  }
 },
 "nbformat": 4,
 "nbformat_minor": 2
}
