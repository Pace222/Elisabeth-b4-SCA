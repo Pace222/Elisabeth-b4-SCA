{
 "cells": [
  {
   "cell_type": "code",
   "execution_count": null,
   "metadata": {},
   "outputs": [],
   "source": [
    "import numpy as np\n",
    "import plotly.express as px\n",
    "\n",
    "import pickle as pic"
   ]
  },
  {
   "cell_type": "code",
   "execution_count": null,
   "metadata": {},
   "outputs": [],
   "source": [
    "from utils import *\n",
    "from templates import *\n",
    "from data_loader import EntireTraceIterator"
   ]
  },
  {
   "cell_type": "code",
   "execution_count": null,
   "metadata": {},
   "outputs": [],
   "source": [
    "traces_path = \"..\\\\..\\\\acquisition\\\\1000000_maskshuffle_allrounds\\\\carto_eB4-Rnd-3-WhiteningAndFullFilter-Masking-Shuffling.mat\"\n",
    "key_path = \"..\\\\..\\\\acquisition\\\\1000000_maskshuffle_allrounds\\\\carto_eB4-Rnd-3-WhiteningAndFullFilter-Masking-Shuffling.log\""
   ]
  },
  {
   "cell_type": "code",
   "execution_count": null,
   "metadata": {},
   "outputs": [],
   "source": [
    "NUM_TRACES = 1_000_000\n",
    "TRACE_SIZE = 200_000\n",
    "PER_DIVISION = 250_000\n",
    "data_loader = EntireTraceIterator(traces_path, key_path, nr_populations=1, nr_scenarios=1, trace_size=TRACE_SIZE, traces_per_division=PER_DIVISION, parse_output=\"keyshares+perms\")"
   ]
  },
  {
   "cell_type": "markdown",
   "metadata": {},
   "source": [
    "## Vizualisation"
   ]
  },
  {
   "cell_type": "code",
   "execution_count": null,
   "metadata": {},
   "outputs": [],
   "source": [
    "folder = \"../leakage_points_orig\"\n",
    "all_plot_labels = []\n",
    "try:\n",
    "    with open(f\"{folder}/f_rws_perms_sost.pic\", \"rb\") as r:\n",
    "        sig_rws = pic.load(r) / (KEYROUND_WIDTH_B4 * (KEYROUND_WIDTH_B4 - 1) / 2)\n",
    "    all_plot_labels.append(\"RWS perm\")\n",
    "except OSError:\n",
    "    sig_rws = None\n",
    "sig_masks_rws = []\n",
    "for keyround_idx in range(KEYROUND_WIDTH_B4):\n",
    "    for share_idx in range(NR_SHARES):\n",
    "        try:\n",
    "            with open(f\"{folder}/f_rws_masks_{keyround_idx}_{share_idx}_sost.pic\", \"rb\") as r:\n",
    "                sig_masks_rws.append(pic.load(r) / (len(KEY_ALPHABET) * (len(KEY_ALPHABET) - 1) / 2))\n",
    "            all_plot_labels.append(f\"RWS mask {keyround_idx} {share_idx}\")\n",
    "        except OSError:\n",
    "            pass\n",
    "\n",
    "try:\n",
    "    with open(f\"{folder}/f_round_perms_sost.pic\", \"rb\") as r:\n",
    "        sig_round_perm = pic.load(r) / ((KEYROUND_WIDTH_B4 // BLOCK_WIDTH_B4) * ((KEYROUND_WIDTH_B4 // BLOCK_WIDTH_B4) - 1) / 2)\n",
    "    all_plot_labels.append(\"Round perm\")\n",
    "except OSError:\n",
    "    sig_round_perm = None\n",
    "sig_copy_perms = []\n",
    "sig_masks_perms = []\n",
    "for round_idx in range(EARLIEST_ROUND, LATEST_ROUND):\n",
    "    try:\n",
    "        with open(f\"{folder}/f_copy_perms_{round_idx}_sost.pic\", \"rb\") as r:\n",
    "            sig_copy_perms.append(pic.load(r) / (BLOCK_WIDTH_B4 * (BLOCK_WIDTH_B4 - 1) / 2))\n",
    "        all_plot_labels.append(f\"Copy perm {round_idx}\")\n",
    "    except OSError:\n",
    "        pass\n",
    "\n",
    "for round_idx in range(EARLIEST_ROUND, LATEST_ROUND):\n",
    "    for block_idx in range(BLOCK_WIDTH_B4):\n",
    "        for share_idx in range(NR_SHARES):\n",
    "            try:\n",
    "                with open(f\"{folder}/f_round_masks_{round_idx}_{block_idx}_{share_idx}_sost.pic\", \"rb\") as r:\n",
    "                    sig_masks_perms.append(pic.load(r) / (len(KEY_ALPHABET) * (len(KEY_ALPHABET) - 1) / 2))\n",
    "                all_plot_labels.append(f\"Round mask {round_idx} {block_idx} {share_idx}\")\n",
    "            except OSError:\n",
    "                pass\n"
   ]
  },
  {
   "cell_type": "code",
   "execution_count": null,
   "metadata": {},
   "outputs": [],
   "source": [
    "trace_size = 200_000\n",
    "for it in range(0, trace_size, trace_size // 4):\n",
    "    everything = ([sig_rws] if sig_rws is not None else []) + sig_masks_rws + ([sig_round_perm] if sig_round_perm is not None else []) + sig_copy_perms + sig_masks_perms\n",
    "    everything = [sost[it:it+trace_size // 4] for sost in everything]\n",
    "    fig = px.line(y=everything)\n",
    "    plot_labs = {f'wide_variable_{i}': l for i, l in enumerate(all_plot_labels)}\n",
    "    fig.for_each_trace(lambda t: t.update(name = plot_labs[t.name], legendgroup = plot_labs[t.name], \n",
    "                                        hovertemplate = t.hovertemplate.replace(t.name, plot_labs[t.name])))\n",
    "    fig.show()\n",
    "    break"
   ]
  },
  {
   "cell_type": "markdown",
   "metadata": {},
   "source": [
    "# Focus on smaller windows of the trace"
   ]
  },
  {
   "cell_type": "code",
   "execution_count": null,
   "metadata": {},
   "outputs": [],
   "source": [
    "RWS_WINDOW = np.arange(1100, 21500)\n",
    "ROUND_PERM_WINDOW = np.concatenate((\n",
    "        np.arange( 21750,  21800),\n",
    "        np.arange( 33925,  33975),\n",
    "        np.arange( 46250,  46300),\n",
    "        np.arange( 58550,  25600),\n",
    "        np.arange( 70860,  70910),\n",
    "        np.arange( 83180,  83230),\n",
    "        np.arange( 95480,  95530),\n",
    "        np.arange(107800, 107850),\n",
    "        np.arange(120110, 120160),\n",
    "        np.arange(132415, 132465),\n",
    "        np.arange(144725, 144775),\n",
    "        np.arange(157040, 157090),\n",
    "        np.arange(169350, 169400),\n",
    "        np.arange(181660, 181710),\n",
    "        np.arange(193960, 194010),\n",
    "    ), axis=0)\n",
    "ROUND_WINDOWS = np.stack((\n",
    "    np.arange( 21950,  23350), # Round 0\n",
    "    np.arange( 34250,  35650), # Round 1\n",
    "    np.arange( 46550,  47950), # Round 2\n",
    "    np.arange( 58850,  60250), # Round 3\n",
    "    np.arange( 71150,  72550), # Round 4\n",
    "    np.arange( 83500,  84900), # Round 5\n",
    "    np.arange( 95800,  97200), # Round 6\n",
    "    np.arange(108100, 109500), # Round 7\n",
    "    np.arange(120400, 121800), # Round 8\n",
    "    np.arange(132700, 134100), # Round 9\n",
    "    np.arange(145025, 146425), # Round 10\n",
    "    np.arange(157350, 158750), # Round 11\n",
    "    np.arange(169650, 171050), # Round 12\n",
    "    np.arange(181950, 183350), # Round 13\n",
    "), axis=0)\n",
    "traces_rws_only = np.zeros((NUM_TRACES, len(RWS_WINDOW)), dtype=np.float16)\n",
    "traces_round_perm_only = np.zeros((NUM_TRACES, len(ROUND_PERM_WINDOW)), dtype=np.float16)\n",
    "traces_rounds_i_only = np.zeros((ROUND_WINDOWS.shape[0], NUM_TRACES, ROUND_WINDOWS.shape[1]), dtype=np.float16)\n",
    "for j, (_, traces, _, _) in enumerate(data_loader((0,), (0,))):\n",
    "    traces = traces[0][0]\n",
    "    traces_rws_only[j * PER_DIVISION:j * PER_DIVISION + traces.shape[0]] = traces[:, RWS_WINDOW]\n",
    "    traces_round_perm_only[j * PER_DIVISION:j * PER_DIVISION + traces.shape[0]] = traces[:, ROUND_PERM_WINDOW]\n",
    "    for i in range(len(ROUND_WINDOWS)):\n",
    "        traces_rounds_i_only[i, j * PER_DIVISION:j * PER_DIVISION + traces.shape[0]] = traces[:, ROUND_WINDOWS[i]]\n",
    "    del traces"
   ]
  },
  {
   "cell_type": "code",
   "execution_count": null,
   "metadata": {},
   "outputs": [
    {
     "data": {
      "text/plain": [
       "(array([399999], dtype=int64),)"
      ]
     },
     "metadata": {},
     "output_type": "display_data"
    }
   ],
   "source": [
    "np.where(np.all(traces_rws_only == 0, axis=-1)), np.where(np.all(traces_round_perm_only == 0, axis=-1)), np.where(np.all(traces_rounds_i_only == 0, axis=-1))"
   ]
  },
  {
   "cell_type": "code",
   "execution_count": null,
   "metadata": {},
   "outputs": [],
   "source": [
    "traces_rws_only = np.concatenate((traces_rws_only[:399999], traces_rws_only[400000:]), axis=0)\n",
    "with open(\"../traces_and_splits/traces_rws_only.pic\", \"wb\") as w:\n",
    "    pic.dump(traces_rws_only, w)"
   ]
  },
  {
   "cell_type": "code",
   "execution_count": null,
   "metadata": {},
   "outputs": [],
   "source": [
    "traces_round_perm_only = np.concatenate((traces_round_perm_only[:399999], traces_round_perm_only[400000:]), axis=0)\n",
    "with open(\"../traces_and_splits/traces_round_perm_only.pic\", \"wb\") as w:\n",
    "    pic.dump(traces_round_perm_only, w)"
   ]
  },
  {
   "cell_type": "code",
   "execution_count": null,
   "metadata": {},
   "outputs": [],
   "source": [
    "for i in range(len(ROUND_WINDOWS)):\n",
    "    wout_empty_traces = np.concatenate((traces_rounds_i_only[i, :399999], traces_rounds_i_only[i, 400000:]), axis=0)\n",
    "    with open(f\"../traces_and_splits/traces_round_{i}_only.pic\", \"wb\") as w:\n",
    "        pic.dump(wout_empty_traces, w)"
   ]
  }
 ],
 "metadata": {
  "language_info": {
   "name": "python"
  }
 },
 "nbformat": 4,
 "nbformat_minor": 2
}
