{
 "cells": [
  {
   "cell_type": "code",
   "execution_count": null,
   "metadata": {},
   "outputs": [],
   "source": [
    "import numpy as np\n",
    "import pywt\n",
    "\n",
    "import pickle as pic"
   ]
  },
  {
   "cell_type": "code",
   "execution_count": null,
   "metadata": {},
   "outputs": [],
   "source": [
    "from utils import *\n",
    "from templates import *\n",
    "from data_loader import EntireTraceIterator"
   ]
  },
  {
   "cell_type": "code",
   "execution_count": null,
   "metadata": {},
   "outputs": [],
   "source": [
    "traces_path = \"..\\\\..\\\\acquisition\\\\1000000_maskshuffle_allrounds\\\\carto_eB4-Rnd-3-WhiteningAndFullFilter-Masking-Shuffling.mat\"\n",
    "key_path = \"..\\\\..\\\\acquisition\\\\1000000_maskshuffle_allrounds\\\\carto_eB4-Rnd-3-WhiteningAndFullFilter-Masking-Shuffling.log\""
   ]
  },
  {
   "cell_type": "code",
   "execution_count": null,
   "metadata": {},
   "outputs": [],
   "source": [
    "NUM_TRACES = 1_000_000\n",
    "TRACE_SIZE = 200_000\n",
    "PER_DIVISION = 250_000\n",
    "data_loader = EntireTraceIterator(traces_path, key_path, nr_populations=1, nr_scenarios=1, trace_size=TRACE_SIZE, traces_per_division=PER_DIVISION, parse_output=\"keyshares+perms\")"
   ]
  },
  {
   "cell_type": "markdown",
   "metadata": {},
   "source": [
    "# Compute 2nd order Haar wavelets"
   ]
  },
  {
   "cell_type": "code",
   "execution_count": null,
   "metadata": {},
   "outputs": [],
   "source": [
    "for j, (_, traces, _, _) in enumerate(data_loader((0,), (0,))):\n",
    "    traces = traces[0][0]\n",
    "    for i in range(0, PER_DIVISION, PER_DIVISION // 10):\n",
    "        wavelet = pywt.wavedec(traces[i:i + PER_DIVISION // 10], 'haar', level=2)[0]\n",
    "        with open(f\"wavelets_haar_2/wavelet_{j * PER_DIVISION + i}_{j * PER_DIVISION + i + PER_DIVISION // 10}.pic\", \"wb\") as w:\n",
    "            pic.dump(wavelet, w)\n",
    "    del traces"
   ]
  },
  {
   "cell_type": "code",
   "execution_count": null,
   "metadata": {},
   "outputs": [],
   "source": [
    "wavelets = np.zeros((739094, 50000), dtype=np.float16)\n",
    "for div in range(0, wavelets.shape[0], PER_DIVISION // 10):\n",
    "    filepath = f\"wavelets_haar_2/wavelet_{div}_{div + PER_DIVISION // 10}.pic\"\n",
    "    with open(filepath, \"rb\") as r:\n",
    "        wavelet = pic.load(r)\n",
    "    wavelets[div:div+wavelet.shape[0]] = np.float16(wavelet)"
   ]
  },
  {
   "cell_type": "code",
   "execution_count": null,
   "metadata": {},
   "outputs": [
    {
     "data": {
      "text/plain": [
       "(array([499999], dtype=int64),)"
      ]
     },
     "metadata": {},
     "output_type": "display_data"
    }
   ],
   "source": [
    "np.where(np.all(wavelets == 0, axis=1))"
   ]
  },
  {
   "cell_type": "code",
   "execution_count": null,
   "metadata": {},
   "outputs": [],
   "source": [
    "wavelets = np.concatenate((wavelets[:499999], wavelets[500000:]), axis=0)\n"
   ]
  },
  {
   "cell_type": "code",
   "execution_count": null,
   "metadata": {},
   "outputs": [],
   "source": [
    "with open(\"../traces_and_splits/wavelets_haar_2.pic\", \"wb\") as w:\n",
    "    pic.dump(wavelets, w)"
   ]
  }
 ],
 "metadata": {
  "language_info": {
   "name": "python"
  }
 },
 "nbformat": 4,
 "nbformat_minor": 2
}
